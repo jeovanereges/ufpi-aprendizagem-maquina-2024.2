{
 "cells": [
  {
   "cell_type": "markdown",
   "id": "96391cea78cbee62",
   "metadata": {
    "id": "96391cea78cbee62"
   },
   "source": [
    "---\n",
    "# Projeto 6: Agrupamento Hierárquico (Agglomerative Clustering) - Titanic\n",
    "---"
   ]
  },
  {
   "cell_type": "markdown",
   "id": "12663bd22ff5eafa",
   "metadata": {
    "id": "12663bd22ff5eafa"
   },
   "source": [
    "## Etapa 1: Importação das Bibliotecas"
   ]
  },
  {
   "cell_type": "code",
   "execution_count": 35,
   "id": "477ac68ce67cb53b",
   "metadata": {
    "ExecuteTime": {
     "end_time": "2024-12-06T12:20:51.442586Z",
     "start_time": "2024-12-06T12:20:50.397442Z"
    },
    "collapsed": true,
    "executionInfo": {
     "elapsed": 18587,
     "status": "ok",
     "timestamp": 1733852532872,
     "user": {
      "displayName": "François Barbosa",
      "userId": "14896221271618559833"
     },
     "user_tz": 180
    },
    "id": "477ac68ce67cb53b"
   },
   "outputs": [],
   "source": [
    "# region Bibliotecas\n",
    "import pandas as pd\n",
    "import numpy as np\n",
    "import seaborn as sns\n",
    "import matplotlib.pyplot as plt\n",
    "import plotly.express as px\n",
    "import plotly.graph_objects as go\n",
    "import os\n",
    "from itertools import product\n",
    "\n",
    "from sklearn.preprocessing import MinMaxScaler\n",
    "from sklearn.cluster import AgglomerativeClustering\n",
    "from sklearn.decomposition import PCA\n",
    "from sklearn.metrics import silhouette_samples, silhouette_score\n",
    "from sklearn.metrics import davies_bouldin_score, calinski_harabasz_score\n",
    "\n",
    "from scipy.cluster.hierarchy import dendrogram, linkage, fcluster\n",
    "\n",
    "from imblearn.combine import SMOTEENN\n",
    "from imblearn.under_sampling import RandomUnderSampler\n",
    "\n",
    "import warnings\n",
    "\n",
    "warnings.filterwarnings(\"ignore\")\n",
    "# endregion"
   ]
  },
  {
   "cell_type": "code",
   "execution_count": 36,
   "id": "eeb88f9621e92fdd",
   "metadata": {
    "ExecuteTime": {
     "end_time": "2024-12-06T12:20:51.453641Z",
     "start_time": "2024-12-06T12:20:51.450638Z"
    },
    "id": "eeb88f9621e92fdd"
   },
   "outputs": [],
   "source": [
    "def Stop():\n",
    "    raise SystemExit(\"A célula foi interrompida para evitar a execução do código abaixo.\")"
   ]
  },
  {
   "cell_type": "markdown",
   "id": "224f377fe41b7eda",
   "metadata": {
    "id": "224f377fe41b7eda"
   },
   "source": [
    "## Etapa 2: Importação dos Dados"
   ]
  },
  {
   "cell_type": "code",
   "execution_count": 37,
   "id": "592d6d1e6b222285",
   "metadata": {
    "ExecuteTime": {
     "end_time": "2024-12-06T12:20:51.470456Z",
     "start_time": "2024-12-06T12:20:51.457676Z"
    },
    "executionInfo": {
     "elapsed": 3846,
     "status": "ok",
     "timestamp": 1733852708264,
     "user": {
      "displayName": "François Barbosa",
      "userId": "14896221271618559833"
     },
     "user_tz": 180
    },
    "id": "592d6d1e6b222285"
   },
   "outputs": [],
   "source": [
    "# region Importação do Dataset\n",
    "fileTitanic = \"dataset/titanic_preprocessado.csv\"\n",
    "\n",
    "if os.path.exists(fileTitanic):\n",
    "    titanic = pd.read_csv(fileTitanic)\n",
    "else:\n",
    "    link = \"https://drive.google.com/file/d/1FYTXTm5xApBIcQ4pCpc-1Va3YZoqlmEu/view?usp=sharing\"\n",
    "    fileID = link.split(\"/d/\")[1].split(\"/\")[0]\n",
    "    fileTitanic = \"https://drive.google.com/uc?id=\" + fileID\n",
    "    titanic = pd.read_csv(fileTitanic)\n",
    "# endregion"
   ]
  },
  {
   "cell_type": "code",
   "execution_count": 38,
   "id": "e7914b4b8bec7c4e",
   "metadata": {
    "ExecuteTime": {
     "end_time": "2024-12-06T12:20:51.495385Z",
     "start_time": "2024-12-06T12:20:51.481505Z"
    },
    "colab": {
     "base_uri": "https://localhost:8080/",
     "height": 0
    },
    "executionInfo": {
     "elapsed": 30,
     "status": "ok",
     "timestamp": 1733852708265,
     "user": {
      "displayName": "François Barbosa",
      "userId": "14896221271618559833"
     },
     "user_tz": 180
    },
    "id": "e7914b4b8bec7c4e",
    "outputId": "903c1f24-9164-4217-c247-752a2c25ed36"
   },
   "outputs": [
    {
     "data": {
      "text/html": [
       "<div>\n",
       "<style scoped>\n",
       "    .dataframe tbody tr th:only-of-type {\n",
       "        vertical-align: middle;\n",
       "    }\n",
       "\n",
       "    .dataframe tbody tr th {\n",
       "        vertical-align: top;\n",
       "    }\n",
       "\n",
       "    .dataframe thead th {\n",
       "        text-align: right;\n",
       "    }\n",
       "</style>\n",
       "<table border=\"1\" class=\"dataframe\">\n",
       "  <thead>\n",
       "    <tr style=\"text-align: right;\">\n",
       "      <th></th>\n",
       "      <th>PassengerId</th>\n",
       "      <th>Survived</th>\n",
       "      <th>Pclass</th>\n",
       "      <th>Sex</th>\n",
       "      <th>Age</th>\n",
       "      <th>SibSp</th>\n",
       "      <th>Parch</th>\n",
       "      <th>Ticket</th>\n",
       "      <th>Fare</th>\n",
       "      <th>Embarked</th>\n",
       "      <th>AgeGroup</th>\n",
       "      <th>LastName</th>\n",
       "      <th>FirstName</th>\n",
       "    </tr>\n",
       "  </thead>\n",
       "  <tbody>\n",
       "    <tr>\n",
       "      <th>0</th>\n",
       "      <td>1</td>\n",
       "      <td>0</td>\n",
       "      <td>3</td>\n",
       "      <td>1</td>\n",
       "      <td>22</td>\n",
       "      <td>1</td>\n",
       "      <td>0</td>\n",
       "      <td>A/5 21171</td>\n",
       "      <td>7.2500</td>\n",
       "      <td>3</td>\n",
       "      <td>0</td>\n",
       "      <td>Braund</td>\n",
       "      <td>Owen Harris</td>\n",
       "    </tr>\n",
       "    <tr>\n",
       "      <th>1</th>\n",
       "      <td>2</td>\n",
       "      <td>1</td>\n",
       "      <td>1</td>\n",
       "      <td>0</td>\n",
       "      <td>38</td>\n",
       "      <td>1</td>\n",
       "      <td>0</td>\n",
       "      <td>PC 17599</td>\n",
       "      <td>71.2833</td>\n",
       "      <td>1</td>\n",
       "      <td>0</td>\n",
       "      <td>Cumings</td>\n",
       "      <td>John Bradley Florence Briggs Thayer</td>\n",
       "    </tr>\n",
       "    <tr>\n",
       "      <th>2</th>\n",
       "      <td>3</td>\n",
       "      <td>1</td>\n",
       "      <td>3</td>\n",
       "      <td>0</td>\n",
       "      <td>26</td>\n",
       "      <td>0</td>\n",
       "      <td>0</td>\n",
       "      <td>STON/O2. 3101282</td>\n",
       "      <td>7.9250</td>\n",
       "      <td>3</td>\n",
       "      <td>0</td>\n",
       "      <td>Heikkinen</td>\n",
       "      <td>Laina</td>\n",
       "    </tr>\n",
       "    <tr>\n",
       "      <th>3</th>\n",
       "      <td>4</td>\n",
       "      <td>1</td>\n",
       "      <td>1</td>\n",
       "      <td>0</td>\n",
       "      <td>35</td>\n",
       "      <td>1</td>\n",
       "      <td>0</td>\n",
       "      <td>113803</td>\n",
       "      <td>53.1000</td>\n",
       "      <td>3</td>\n",
       "      <td>0</td>\n",
       "      <td>Futrelle</td>\n",
       "      <td>Jacques Heath Lily May Peel</td>\n",
       "    </tr>\n",
       "    <tr>\n",
       "      <th>4</th>\n",
       "      <td>5</td>\n",
       "      <td>0</td>\n",
       "      <td>3</td>\n",
       "      <td>1</td>\n",
       "      <td>35</td>\n",
       "      <td>0</td>\n",
       "      <td>0</td>\n",
       "      <td>373450</td>\n",
       "      <td>8.0500</td>\n",
       "      <td>3</td>\n",
       "      <td>0</td>\n",
       "      <td>Allen</td>\n",
       "      <td>William Henry</td>\n",
       "    </tr>\n",
       "  </tbody>\n",
       "</table>\n",
       "</div>"
      ],
      "text/plain": [
       "   PassengerId  Survived  Pclass  Sex  Age  SibSp  Parch            Ticket  \\\n",
       "0            1         0       3    1   22      1      0         A/5 21171   \n",
       "1            2         1       1    0   38      1      0          PC 17599   \n",
       "2            3         1       3    0   26      0      0  STON/O2. 3101282   \n",
       "3            4         1       1    0   35      1      0            113803   \n",
       "4            5         0       3    1   35      0      0            373450   \n",
       "\n",
       "      Fare  Embarked  AgeGroup   LastName                            FirstName  \n",
       "0   7.2500         3         0     Braund                          Owen Harris  \n",
       "1  71.2833         1         0    Cumings  John Bradley Florence Briggs Thayer  \n",
       "2   7.9250         3         0  Heikkinen                                Laina  \n",
       "3  53.1000         3         0   Futrelle          Jacques Heath Lily May Peel  \n",
       "4   8.0500         3         0      Allen                        William Henry  "
      ]
     },
     "execution_count": 38,
     "metadata": {},
     "output_type": "execute_result"
    }
   ],
   "source": [
    "titanic.head()"
   ]
  },
  {
   "cell_type": "code",
   "execution_count": 39,
   "id": "e070cd5a9750e7bd",
   "metadata": {
    "ExecuteTime": {
     "end_time": "2024-12-06T12:20:51.998769Z",
     "start_time": "2024-12-06T12:20:51.994376Z"
    },
    "colab": {
     "base_uri": "https://localhost:8080/"
    },
    "executionInfo": {
     "elapsed": 13,
     "status": "ok",
     "timestamp": 1733852708266,
     "user": {
      "displayName": "François Barbosa",
      "userId": "14896221271618559833"
     },
     "user_tz": 180
    },
    "id": "e070cd5a9750e7bd",
    "outputId": "1ff1f9a6-426a-4bb3-c74e-c3fbc4ab320b"
   },
   "outputs": [
    {
     "data": {
      "text/plain": [
       "(1043, 13)"
      ]
     },
     "execution_count": 39,
     "metadata": {},
     "output_type": "execute_result"
    }
   ],
   "source": [
    "titanic.shape"
   ]
  },
  {
   "cell_type": "code",
   "execution_count": 40,
   "id": "ef5e817170a98fca",
   "metadata": {
    "ExecuteTime": {
     "end_time": "2024-12-06T12:20:52.177891Z",
     "start_time": "2024-12-06T12:20:52.174788Z"
    },
    "colab": {
     "base_uri": "https://localhost:8080/"
    },
    "executionInfo": {
     "elapsed": 12,
     "status": "ok",
     "timestamp": 1733852708267,
     "user": {
      "displayName": "François Barbosa",
      "userId": "14896221271618559833"
     },
     "user_tz": 180
    },
    "id": "ef5e817170a98fca",
    "outputId": "0d5b0493-c8ac-49e3-e85d-1a607ff0e8c5"
   },
   "outputs": [
    {
     "name": "stdout",
     "output_type": "stream",
     "text": [
      "Index(['PassengerId', 'Survived', 'Pclass', 'Sex', 'Age', 'SibSp', 'Parch',\n",
      "       'Ticket', 'Fare', 'Embarked', 'AgeGroup', 'LastName', 'FirstName'],\n",
      "      dtype='object')\n"
     ]
    }
   ],
   "source": [
    "print(titanic.columns)"
   ]
  },
  {
   "cell_type": "markdown",
   "id": "c6d6e87973203bb8",
   "metadata": {
    "id": "c6d6e87973203bb8"
   },
   "source": [
    "## Etapa 3: Preparação dos Dados"
   ]
  },
  {
   "cell_type": "markdown",
   "id": "5241f44f",
   "metadata": {
    "id": "5241f44f"
   },
   "source": [
    "### Balanceamento dos Dados"
   ]
  },
  {
   "cell_type": "code",
   "execution_count": 41,
   "id": "62f799c1",
   "metadata": {
    "ExecuteTime": {
     "end_time": "2024-12-06T12:20:52.388773Z",
     "start_time": "2024-12-06T12:20:52.384361Z"
    },
    "executionInfo": {
     "elapsed": 23,
     "status": "ok",
     "timestamp": 1733852709672,
     "user": {
      "displayName": "François Barbosa",
      "userId": "14896221271618559833"
     },
     "user_tz": 180
    },
    "id": "62f799c1"
   },
   "outputs": [],
   "source": [
    "features = [\"Pclass\", \"Sex\", \"AgeGroup\", \"Embarked\"]\n",
    "\n",
    "X = titanic[features]\n",
    "y = titanic[\"Survived\"]"
   ]
  },
  {
   "cell_type": "code",
   "execution_count": 42,
   "id": "770ddc21",
   "metadata": {
    "ExecuteTime": {
     "end_time": "2024-12-06T12:20:52.537949Z",
     "start_time": "2024-12-06T12:20:52.533561Z"
    },
    "executionInfo": {
     "elapsed": 22,
     "status": "ok",
     "timestamp": 1733852709672,
     "user": {
      "displayName": "François Barbosa",
      "userId": "14896221271618559833"
     },
     "user_tz": 180
    },
    "id": "770ddc21"
   },
   "outputs": [],
   "source": [
    "# region Função que Balanceia o Dataset com RandomUnderSampler\n",
    "def BalanceDatasetRandomUnderSampler(X, y):\n",
    "    undersampler = RandomUnderSampler(random_state=42)\n",
    "\n",
    "    X_balanced, y_balanced = undersampler.fit_resample(X, y)\n",
    "\n",
    "    df = pd.concat([X_balanced, y_balanced], axis=1)\n",
    "\n",
    "    df.columns = list(X.columns) + [\"Survived\"]\n",
    "\n",
    "    return df\n",
    "\n",
    "\n",
    "# endregion"
   ]
  },
  {
   "cell_type": "code",
   "execution_count": 43,
   "id": "c5c01c97",
   "metadata": {
    "ExecuteTime": {
     "end_time": "2024-12-06T12:20:52.615576Z",
     "start_time": "2024-12-06T12:20:52.612541Z"
    },
    "executionInfo": {
     "elapsed": 22,
     "status": "ok",
     "timestamp": 1733852709673,
     "user": {
      "displayName": "François Barbosa",
      "userId": "14896221271618559833"
     },
     "user_tz": 180
    },
    "id": "c5c01c97"
   },
   "outputs": [],
   "source": [
    "# titanic = BalanceDatasetRandomUnderSampler(X, y)"
   ]
  },
  {
   "cell_type": "code",
   "execution_count": 44,
   "id": "042193e3",
   "metadata": {
    "ExecuteTime": {
     "end_time": "2024-12-06T12:20:52.653494Z",
     "start_time": "2024-12-06T12:20:52.649368Z"
    },
    "executionInfo": {
     "elapsed": 20,
     "status": "ok",
     "timestamp": 1733852709673,
     "user": {
      "displayName": "François Barbosa",
      "userId": "14896221271618559833"
     },
     "user_tz": 180
    },
    "id": "042193e3"
   },
   "outputs": [],
   "source": [
    "# region Função que Balanceia o Dataset com SMOTEENN\n",
    "def BalanceDatasetSMOTEENN(X, y):\n",
    "    smoten = SMOTEENN(random_state=42)\n",
    "\n",
    "    X_resampled, y_resampled = smoten.fit_resample(X, y)\n",
    "\n",
    "    df = pd.concat([X_resampled, y_resampled], axis=1)\n",
    "\n",
    "    df.columns = list(X.columns) + [\"Survived\"]\n",
    "\n",
    "    return df\n",
    "\n",
    "\n",
    "# endregion"
   ]
  },
  {
   "cell_type": "code",
   "execution_count": 45,
   "id": "acca6367",
   "metadata": {
    "ExecuteTime": {
     "end_time": "2024-12-06T12:20:52.697727Z",
     "start_time": "2024-12-06T12:20:52.676586Z"
    },
    "executionInfo": {
     "elapsed": 20,
     "status": "ok",
     "timestamp": 1733852709674,
     "user": {
      "displayName": "François Barbosa",
      "userId": "14896221271618559833"
     },
     "user_tz": 180
    },
    "id": "acca6367"
   },
   "outputs": [],
   "source": [
    "titanic = BalanceDatasetSMOTEENN(X, y)"
   ]
  },
  {
   "cell_type": "markdown",
   "id": "ba0dfa8b",
   "metadata": {
    "id": "ba0dfa8b"
   },
   "source": [
    "### Normalização dos Dados"
   ]
  },
  {
   "cell_type": "code",
   "execution_count": 46,
   "id": "235b3d8596451398",
   "metadata": {
    "ExecuteTime": {
     "end_time": "2024-12-06T12:20:52.707572Z",
     "start_time": "2024-12-06T12:20:52.701719Z"
    },
    "executionInfo": {
     "elapsed": 19,
     "status": "ok",
     "timestamp": 1733852709675,
     "user": {
      "displayName": "François Barbosa",
      "userId": "14896221271618559833"
     },
     "user_tz": 180
    },
    "id": "235b3d8596451398"
   },
   "outputs": [],
   "source": [
    "# region Normalização dos Dados e Seleção das Variáveis\n",
    "scaler = MinMaxScaler(feature_range=(0, 1))\n",
    "\n",
    "# X_titanic = titanic.drop(columns=[\"PassengerId\", \"Survived\", \"Name\", \"Ticket\"])\n",
    "\n",
    "X_titanic = titanic[features]\n",
    "\n",
    "cols = X_titanic.columns\n",
    "\n",
    "X_titanic = scaler.fit_transform(X_titanic)\n",
    "\n",
    "X_titanic = pd.DataFrame(X_titanic, columns=cols)\n",
    "# endregion"
   ]
  },
  {
   "cell_type": "markdown",
   "id": "1b19d5030a8407b0",
   "metadata": {
    "id": "1b19d5030a8407b0"
   },
   "source": [
    "## Etapa 4: Funções Auxiliares"
   ]
  },
  {
   "cell_type": "code",
   "execution_count": 47,
   "id": "408ca582b5b7bb3c",
   "metadata": {
    "ExecuteTime": {
     "end_time": "2024-12-06T12:20:52.724787Z",
     "start_time": "2024-12-06T12:20:52.720028Z"
    },
    "executionInfo": {
     "elapsed": 250,
     "status": "ok",
     "timestamp": 1733852712856,
     "user": {
      "displayName": "François Barbosa",
      "userId": "14896221271618559833"
     },
     "user_tz": 180
    },
    "id": "408ca582b5b7bb3c"
   },
   "outputs": [],
   "source": [
    "# region Avaliar o número ideal de clusters\n",
    "def numberClusters(data):\n",
    "\tif not isinstance(data, pd.DataFrame):\n",
    "\t\t\traise ValueError(\"O 'data' deve ser um pandas DataFrame.\")\n",
    "\n",
    "\trangeClusters = range(2, 11)\n",
    "\tbestScore = -1\n",
    "\tbestClusters = None\n",
    "\n",
    "\tfor n in rangeClusters:\n",
    "\t\t\tclusters = fcluster(linkage(data, method=\"ward\"), t=n, criterion=\"maxclust\")\n",
    "\t\t\tscore = silhouette_score(data, clusters)\n",
    "\t\t\tif score > bestScore:\n",
    "\t\t\t\t\tbestScore = score\n",
    "\t\t\t\t\tbestClusters = n\n",
    "\n",
    "\tprint(\n",
    "\t\t\tf\"Número ideal de clusters: {bestClusters}, Silhouette Score: {round(bestScore, 3)}\"\n",
    "\t)\n",
    "\n",
    "\treturn bestClusters\n",
    "\n",
    "# endregion"
   ]
  },
  {
   "cell_type": "code",
   "execution_count": 48,
   "id": "0c58311c",
   "metadata": {
    "ExecuteTime": {
     "end_time": "2024-12-06T12:20:52.742370Z",
     "start_time": "2024-12-06T12:20:52.735374Z"
    },
    "executionInfo": {
     "elapsed": 542,
     "status": "ok",
     "timestamp": 1733852713663,
     "user": {
      "displayName": "François Barbosa",
      "userId": "14896221271618559833"
     },
     "user_tz": 180
    },
    "id": "0c58311c"
   },
   "outputs": [],
   "source": [
    "# region Avaliar o número ideal de clusters (Tuning)\n",
    "def tuneAgglomerativeClustering(data, ranges, linkages, metrics):\n",
    "\tif not isinstance(data, pd.DataFrame):\n",
    "\t\traise ValueError(\"O 'data' deve ser um pandas DataFrame.\")\n",
    "\n",
    "\tif not isinstance(ranges, list):\n",
    "\t\traise ValueError(\"O 'ranges' deve ser uma lista.\")\n",
    "\n",
    "\tif not isinstance(linkages, list):\n",
    "\t\traise ValueError(\"O 'linkages' deve ser uma lista.\")\n",
    "\n",
    "\tif not isinstance(metrics, list):\n",
    "\t\traise ValueError(\"O 'metrics' deve ser uma lista.\")\n",
    "\n",
    "\tbestConfig = {\"n_clusters\": None, \"linkage\": None, \"metric\": None}\n",
    "\tbestScore = -1\n",
    "\n",
    "\tfor clusters, linkage, metrics in product(ranges, linkages, metrics):\n",
    "\t\t\t# Verificar combinações inválidas\n",
    "\t\t\tif linkage == \"ward\" and metrics != \"euclidean\":\n",
    "\t\t\t\t\tcontinue\n",
    "\n",
    "\t\t\ttry:\n",
    "\t\t\t\t\t# Criar o modelo com a configuração atual\n",
    "\t\t\t\t\tmodel = AgglomerativeClustering(\n",
    "\t\t\t\t\t\t\tn_clusters=clusters, linkage=linkage, metric=metrics\n",
    "\t\t\t\t\t)\n",
    "\n",
    "\t\t\t\t\t# Ajustar e prever os rótulos\n",
    "\t\t\t\t\tlabels = model.fit_predict(data)\n",
    "\n",
    "\t\t\t\t\t# Calcular o Silhouette Score\n",
    "\t\t\t\t\tscore = silhouette_score(data, labels)\n",
    "\n",
    "\t\t\t\t\t# Atualizar a melhor configuração\n",
    "\t\t\t\t\tif score > bestScore:\n",
    "\t\t\t\t\t\t\tbestScore = score\n",
    "\t\t\t\t\t\t\tbestConfig = {\n",
    "\t\t\t\t\t\t\t\t\t\"n_clusters\": clusters,\n",
    "\t\t\t\t\t\t\t\t\t\"linkage\": linkage,\n",
    "\t\t\t\t\t\t\t\t\t\"metric\": metrics,\n",
    "\t\t\t\t\t\t\t}\n",
    "\t\t\texcept Exception as e:\n",
    "\t\t\t\t\t# Ignorar combinações inválidas (por exemplo, affinity não suportada por linkage)\n",
    "\t\t\t\t\tprint(\n",
    "\t\t\t\t\t\t\tf\"Erro para configuração (n_clusters={clusters}, linkage={linkage}, affinity={metrics}): {e}\"\n",
    "\t\t\t\t\t)\n",
    "\t\t\t\t\tcontinue\n",
    "\n",
    "\tprint(\"Melhor configuração:\", bestConfig)\n",
    "\tprint(\"Melhor Silhouette Score:\", round(bestScore, 3))\n",
    "\n",
    "# endregion"
   ]
  },
  {
   "cell_type": "code",
   "execution_count": 49,
   "id": "583be8bde98fb12d",
   "metadata": {
    "ExecuteTime": {
     "end_time": "2024-12-06T12:20:52.757135Z",
     "start_time": "2024-12-06T12:20:52.754278Z"
    },
    "executionInfo": {
     "elapsed": 19,
     "status": "ok",
     "timestamp": 1733852713664,
     "user": {
      "displayName": "François Barbosa",
      "userId": "14896221271618559833"
     },
     "user_tz": 180
    },
    "id": "583be8bde98fb12d"
   },
   "outputs": [],
   "source": [
    "# region Aplica o algoritmo AgglomerativeClustering e atribui os clusters\n",
    "def assignAgglomerativeClustering(data, settings):\n",
    "\tmodel = AgglomerativeClustering(**settings)\n",
    "\n",
    "\tlabels = model.fit_predict(data)\n",
    "\n",
    "\tdata[\"Cluster\"] = labels\n",
    "\n",
    "\treturn data, labels\n",
    "\n",
    "# endregion"
   ]
  },
  {
   "cell_type": "code",
   "execution_count": 50,
   "id": "98da8ec6ffdd232b",
   "metadata": {
    "ExecuteTime": {
     "end_time": "2024-12-06T12:20:52.781401Z",
     "start_time": "2024-12-06T12:20:52.776865Z"
    },
    "executionInfo": {
     "elapsed": 18,
     "status": "ok",
     "timestamp": 1733852713665,
     "user": {
      "displayName": "François Barbosa",
      "userId": "14896221271618559833"
     },
     "user_tz": 180
    },
    "id": "98da8ec6ffdd232b"
   },
   "outputs": [],
   "source": [
    "# region Variáveis mais Influentes\n",
    "def highlightTop(s, minimum, n=2):\n",
    "    # Pegar os índices das `n` maiores variáveis\n",
    "    indices = s.nlargest(n).index\n",
    "\n",
    "    # Definir uma paleta de cores gradiente para os destaques\n",
    "    colors = [\"#f66b40\", \"#ffa463\", \"#fdd86e\", \"#ffefc1\"]\n",
    "    if len(colors) < n:\n",
    "        colors = colors + [\"white\"] * (n - len(colors))\n",
    "\n",
    "    # Aplicar estilos baseados nas posições das variáveis mais influentes\n",
    "    styles = []\n",
    "    for idx in s.index:\n",
    "        if idx in indices[:n] and s[idx] > minimum:\n",
    "            rank = list(indices).index(idx)\n",
    "            styles.append(f\"background-color: {colors[rank]}\")\n",
    "        else:\n",
    "            styles.append(\"\")\n",
    "    return styles\n",
    "\n",
    "def topInfluentialVariables(data, minimum, n=2):\n",
    "    # Calcular a média por cluster\n",
    "    clusterMeans = data.groupby(\"Cluster\").mean()\n",
    "\n",
    "    # Transpor o DataFrame para trabalhar com variáveis como índices\n",
    "    topInfluences = clusterMeans.T\n",
    "\n",
    "    # Aplicar o estilo para destacar as `n` variáveis mais influentes\n",
    "    return topInfluences.style.apply(highlightTop, minimum=minimum, n=n, axis=0).format(\n",
    "        \"{:.3f}\"\n",
    "    )\n",
    "\n",
    "# endregion"
   ]
  },
  {
   "cell_type": "code",
   "execution_count": 51,
   "id": "fcea05c649579817",
   "metadata": {
    "ExecuteTime": {
     "end_time": "2024-12-06T12:20:52.789208Z",
     "start_time": "2024-12-06T12:20:52.785427Z"
    },
    "executionInfo": {
     "elapsed": 17,
     "status": "ok",
     "timestamp": 1733852713666,
     "user": {
      "displayName": "François Barbosa",
      "userId": "14896221271618559833"
     },
     "user_tz": 180
    },
    "id": "fcea05c649579817"
   },
   "outputs": [],
   "source": [
    "# region Calcular a Média de cada variável por Cluster (Silhouette)\n",
    "def calculateSilhouette(data, labels):\n",
    "    if not isinstance(data, pd.DataFrame):\n",
    "        raise ValueError(\"O 'data' deve ser um pandas DataFrame.\")\n",
    "\n",
    "    # Calcular os coeficientes de silhueta\n",
    "    silhouetteVals = silhouette_samples(data, labels)\n",
    "\n",
    "    # Criar um DataFrame para exibir a silhueta e os rótulos dos clusters\n",
    "    silhouetteDf = pd.DataFrame({\"Silhouette\": silhouetteVals, \"Cluster\": labels})\n",
    "\n",
    "    # Média da silhueta para todos os pontos\n",
    "    meanSilhouette = silhouette_score(data, labels)\n",
    "\n",
    "    # Média da silhueta por cluster\n",
    "    meanSilhouetteByCluster = silhouetteDf.groupby(\"Cluster\")[\"Silhouette\"].mean()\n",
    "\n",
    "    print(\n",
    "        f\"Coeficiente médio de silhueta (Geral): {round(meanSilhouette, 3)}\", end=\"\\n\\n\"\n",
    "    )\n",
    "    print(\"Coeficiente médio de silhueta por cluster:\")\n",
    "    print(meanSilhouetteByCluster.round(3))\n",
    "\n",
    "# endregion"
   ]
  },
  {
   "cell_type": "code",
   "execution_count": 52,
   "id": "41513f1b79ab4855",
   "metadata": {
    "ExecuteTime": {
     "end_time": "2024-12-06T12:20:52.803492Z",
     "start_time": "2024-12-06T12:20:52.799937Z"
    },
    "executionInfo": {
     "elapsed": 18,
     "status": "ok",
     "timestamp": 1733852713667,
     "user": {
      "displayName": "François Barbosa",
      "userId": "14896221271618559833"
     },
     "user_tz": 180
    },
    "id": "41513f1b79ab4855"
   },
   "outputs": [],
   "source": [
    "# region Retorna os dados, os clusters e as variáveis mais influentes\n",
    "def assignClusters(data, settings, minimum, n):\n",
    "\tif not isinstance(data, pd.DataFrame):\n",
    "\t\traise ValueError(\"O 'data' deve ser um pandas DataFrame.\")\n",
    "\n",
    "\tif not isinstance(settings, dict):\n",
    "\t\traise ValueError(\"O 'settings' deve ser um dicionário contendo os parâmetros do AgglomerativeClustering.\")\n",
    "\n",
    "\tif not isinstance(n, int) or n < 0:\n",
    "\t\traise ValueError(\"'n' deve ser um inteiro maior que 0.\")\n",
    "\n",
    "\tdata, labels = assignAgglomerativeClustering(data, settings)\n",
    "\ttopInfluences = topInfluentialVariables(data, minimum, n)\n",
    "\treturn data, labels, topInfluences\n",
    "\n",
    "# endregion"
   ]
  },
  {
   "cell_type": "code",
   "execution_count": 53,
   "id": "6efa2a99e35712a1",
   "metadata": {
    "ExecuteTime": {
     "end_time": "2024-12-06T12:20:52.816890Z",
     "start_time": "2024-12-06T12:20:52.813284Z"
    },
    "executionInfo": {
     "elapsed": 16,
     "status": "ok",
     "timestamp": 1733852713667,
     "user": {
      "displayName": "François Barbosa",
      "userId": "14896221271618559833"
     },
     "user_tz": 180
    },
    "id": "6efa2a99e35712a1"
   },
   "outputs": [],
   "source": [
    "# region Calcular os índices de Davies-Bouldin e Calinski-Harabasz\n",
    "def calculateClusteringMetrics(data, labels):\n",
    "\tif not isinstance(data, pd.DataFrame):\n",
    "\t\traise ValueError(\"O 'data' deve ser um pandas DataFrame.\")\n",
    "\n",
    "\tif not isinstance(labels, np.ndarray):\n",
    "\t\traise ValueError(\"Os 'labels' devem ser um array NumPy.\")\n",
    "\n",
    "\t\"\"\"\n",
    "\t> Davies-Bouldin Index\n",
    "\t* Bom agrupamento: Valores próximos de 0.\n",
    "\t* Agrupamento moderado: Valores entre 0 e 1.\n",
    "\t* Agrupamento ruim: Valores maiores que 1.\n",
    "\n",
    "\tValores mais baixos indicam melhor agrupamento, pois ele mede a taxa média de similaridade de cada agrupamento com seu agrupamento mais similar.\n",
    "\t\"\"\"\n",
    "\tdaviesBouldin = davies_bouldin_score(data, labels)\n",
    "\n",
    "\t\"\"\"\n",
    "\t> Calinski-Harabasz Index\n",
    "\t* Bom agrupamento: Valores mais altos.\n",
    "\t* Agrupamento moderado: Valores intermediários.\n",
    "\t* Agrupamento ruim: Valores mais baixos.\n",
    "\t* Valores mais altos indicam agrupamentos mais bem definidos, pois medem a razão da soma da dispersão entre os agrupamentos e da dispersão dentro dos agrupamentos.\n",
    "\t\"\"\"\n",
    "\tcalinskiHarabasz = calinski_harabasz_score(data, labels)\n",
    "\n",
    "\treturn {\n",
    "\t\t\t\"Davies-Bouldin Index\": round(daviesBouldin, 2),\n",
    "\t\t\t\"Calinski-Harabasz Index\": round(calinskiHarabasz, 2),\n",
    "\t}\n",
    "\n",
    "# endregion"
   ]
  },
  {
   "cell_type": "code",
   "execution_count": 54,
   "id": "b9e87ae66bcdb7fc",
   "metadata": {
    "ExecuteTime": {
     "end_time": "2024-12-06T12:20:52.831694Z",
     "start_time": "2024-12-06T12:20:52.827379Z"
    },
    "executionInfo": {
     "elapsed": 17,
     "status": "ok",
     "timestamp": 1733852713669,
     "user": {
      "displayName": "François Barbosa",
      "userId": "14896221271618559833"
     },
     "user_tz": 180
    },
    "id": "b9e87ae66bcdb7fc"
   },
   "outputs": [],
   "source": [
    "# region Plotar Dendograma\n",
    "def plotDendogram(data, clusters, method):\n",
    "\tif not isinstance(data, pd.DataFrame):\n",
    "\t\traise ValueError(\"O 'data' deve ser um pandas DataFrame.\")\n",
    "\n",
    "\tif not isinstance(clusters, int) or clusters < 0:\n",
    "\t\traise ValueError(\"'clusters' deve ser um inteiro maior que 0.\")\n",
    "\n",
    "\tif method not in [\"ward\", \"single\", \"complete\", \"average\", \"weighted\"]:\n",
    "\t\traise ValueError(\"Método de linkage inválido. Escolha entre 'ward', 'single', 'complete', 'average' ou 'weighted'.\")\n",
    "\n",
    "\t# Criar o linkage matrix\n",
    "\tlinkageMatrix = linkage(data, method=method)\n",
    "\n",
    "\t# Configurar o gráfico do dendrograma\n",
    "\tplt.figure(figsize=(12, 8), dpi=100)\n",
    "\tdendrogram(linkageMatrix)\n",
    "\n",
    "\t# Adicionar linha para indicar o corte de clusters (se fornecido)\n",
    "\tif clusters is not None:\n",
    "\t\t\tplt.axhline(\n",
    "\t\t\t\t\ty=clusters, color=\"r\", linestyle=\"--\", label=f\"Corte em y = {clusters}\"\n",
    "\t\t\t)\n",
    "\t\t\tplt.legend()\n",
    "\n",
    "\t# Configurar os eixos\n",
    "\tplt.title(\"Dendrograma - Clusterização Hierárquica\")\n",
    "\tplt.xlabel(\"Índices das Amostras ou Clusters Mergidos\")\n",
    "\tplt.ylabel(\"Distância Euclidiana\")\n",
    "\n",
    "\tplt.show()\n",
    "\n",
    "# endregion"
   ]
  },
  {
   "cell_type": "code",
   "execution_count": 55,
   "id": "983c7e31d5882f6d",
   "metadata": {
    "ExecuteTime": {
     "end_time": "2024-12-06T12:20:52.846740Z",
     "start_time": "2024-12-06T12:20:52.841563Z"
    },
    "executionInfo": {
     "elapsed": 16,
     "status": "ok",
     "timestamp": 1733852713669,
     "user": {
      "displayName": "François Barbosa",
      "userId": "14896221271618559833"
     },
     "user_tz": 180
    },
    "id": "983c7e31d5882f6d"
   },
   "outputs": [],
   "source": [
    "# region Plotar Clusters\n",
    "def plotClusters(data, labels):\n",
    "\tif not isinstance(data, pd.DataFrame):\n",
    "\t\t\traise ValueError(\"O 'data' deve ser um pandas DataFrame.\")\n",
    "\n",
    "\tif not isinstance(labels, np.ndarray):\n",
    "\t\t\traise ValueError(\"Os 'labels' devem ser um array NumPy.\")\n",
    "\n",
    "\t# Aplicar PCA para reduzir os dados a 2 dimensões\n",
    "\tpca = PCA(n_components=2)\n",
    "\tdataPCA = pca.fit_transform(data)\n",
    "\n",
    "\t# Calcular os centróides dos clusters\n",
    "\tunique_labels = np.unique(labels)\n",
    "\tcentroids = np.array(\n",
    "\t\t\t[dataPCA[labels == label].mean(axis=0) for label in unique_labels]\n",
    "\t)\n",
    "\n",
    "\t# Criar o gráfico de dispersão dos clusters\n",
    "\tgrafico = px.scatter(\n",
    "\t\t\tx=dataPCA[:, 0],\n",
    "\t\t\ty=dataPCA[:, 1],\n",
    "\t\t\tcolor=labels.astype(str),\n",
    "\t\t\tsize=[10] * data.shape[0],\n",
    "\t\t\tlabels={\"x\": \"X\", \"y\": \"Y\", \"color\": \"Cluster\"},\n",
    "\t\t\ttemplate=\"plotly_dark\",\n",
    "\t)\n",
    "\n",
    "\t# Adicionar os centróides ao gráfico\n",
    "\tfor i, centroid in enumerate(centroids):\n",
    "\t\t\tgrafico.add_scatter(\n",
    "\t\t\t\t\tx=[centroid[0]],\n",
    "\t\t\t\t\ty=[centroid[1]],\n",
    "\t\t\t\t\tmode=\"markers+text\",\n",
    "\t\t\t\t\tmarker=dict(size=15, color=\"white\", symbol=\"x\"),\n",
    "\t\t\t\t\ttext=[f\"C-{i}\"],\n",
    "\t\t\t\t\ttextposition=\"top center\",\n",
    "\t\t\t\t\tname=f\"Centróide {i}\",\n",
    "\t\t\t\t\tshowlegend=True,\n",
    "\t\t\t)\n",
    "\n",
    "\t# Centralizar o título e ajustar o layout\n",
    "\tgrafico.update_layout(\n",
    "\t\t\ttitle={\n",
    "\t\t\t\t\t\"text\": \"Visualização dos Clusters (AgglomerativeClustering)\",\n",
    "\t\t\t\t\t\"x\": 0.5,\n",
    "\t\t\t\t\t\"xanchor\": \"center\",\n",
    "\t\t\t\t\t\"yanchor\": \"top\",\n",
    "\t\t\t},\n",
    "\t\t\twidth=900,\n",
    "\t\t\theight=600,\n",
    "\t)\n",
    "\n",
    "\tgrafico.show()\n",
    "\n",
    "# endregion"
   ]
  },
  {
   "cell_type": "code",
   "execution_count": 56,
   "id": "f11dc6f8f052ba45",
   "metadata": {
    "ExecuteTime": {
     "end_time": "2024-12-06T12:20:52.864352Z",
     "start_time": "2024-12-06T12:20:52.856310Z"
    },
    "executionInfo": {
     "elapsed": 16,
     "status": "ok",
     "timestamp": 1733852713670,
     "user": {
      "displayName": "François Barbosa",
      "userId": "14896221271618559833"
     },
     "user_tz": 180
    },
    "id": "f11dc6f8f052ba45"
   },
   "outputs": [],
   "source": [
    "# region Plotar Gráfico de Barras\n",
    "def plotBarChart(\n",
    "    data=None, columns=None, title=None, xlabel=None, ylabel=None, legend=None\n",
    "):\n",
    "    if legend is not None:\n",
    "        # Contar o número de elementos em cada cluster\n",
    "        clusterCounts = (\n",
    "            data.groupby([columns[0], columns[1]]).size().unstack(fill_value=0)\n",
    "        )\n",
    "        # Figura\n",
    "        ax = clusterCounts.plot(kind=\"bar\", figsize=(12, 6), width=0.8)\n",
    "        # Legendas\n",
    "        plt.legend(title=legend, bbox_to_anchor=(1.05, 1), loc=\"upper left\")\n",
    "        # Adicionar os valores acima das barras\n",
    "        for container in ax.containers:\n",
    "            ax.bar_label(container, fmt=\"%d\", label_type=\"edge\", fontsize=12)\n",
    "    else:\n",
    "        plt.figure(figsize=(10, 6), dpi=100)\n",
    "        data.plot(kind=\"bar\", color=sns.color_palette(\"YlGnBu\", len(data)), alpha=0.8)\n",
    "\n",
    "    plt.title(title)\n",
    "    plt.xlabel(xlabel)\n",
    "    plt.ylabel(ylabel)\n",
    "    plt.xticks(rotation=0)\n",
    "    plt.grid(axis=\"y\", linestyle=\"--\", alpha=0.7)\n",
    "    plt.tight_layout()\n",
    "    plt.show()\n",
    "\n",
    "\n",
    "def plotBarChartWithDeaths(\n",
    "    data=None, columns=None, title=None, xlabel=None, ylabel=None, legend=None\n",
    "):\n",
    "    if legend is not None:\n",
    "        # Contar o número de elementos em cada cluster\n",
    "        clusterCounts = (\n",
    "            data.groupby([columns[0], columns[1]]).size().unstack(fill_value=0)\n",
    "        )\n",
    "\n",
    "        # Adicionar uma contagem separada para mortos por cluster\n",
    "        if \"Survived\" in data.columns:\n",
    "            deceasedCounts = (\n",
    "                data[data[\"Survived\"] == 0]\n",
    "                .groupby([columns[0], columns[1]])\n",
    "                .size()\n",
    "                .unstack(fill_value=0)\n",
    "            )\n",
    "            deceasedCounts.columns = [\n",
    "                f\"{col} (Mortos)\" for col in deceasedCounts.columns\n",
    "            ]\n",
    "            # Combinar os dois dataframes para um único gráfico\n",
    "            combinedCounts = pd.concat([clusterCounts, deceasedCounts], axis=1)\n",
    "        else:\n",
    "            combinedCounts = clusterCounts\n",
    "\n",
    "        # Figura\n",
    "        ax = combinedCounts.plot(kind=\"bar\", figsize=(16, 6), width=0.95)\n",
    "        # Legendas\n",
    "        plt.legend(title=legend, bbox_to_anchor=(1.05, 1), loc=\"upper left\")\n",
    "        # Adicionar os valores acima das barras\n",
    "        for container in ax.containers:\n",
    "            ax.bar_label(container, fmt=\"%d\", label_type=\"edge\", fontsize=12)\n",
    "    else:\n",
    "        plt.figure(figsize=(10, 6), dpi=100)\n",
    "        data.plot(kind=\"bar\", color=sns.color_palette(\"YlGnBu\", len(data)), alpha=0.8)\n",
    "\n",
    "    plt.title(title)\n",
    "    plt.xlabel(xlabel)\n",
    "    plt.ylabel(ylabel)\n",
    "    plt.xticks(rotation=0)\n",
    "    plt.grid(axis=\"y\", linestyle=\"--\", alpha=0.7)\n",
    "    plt.tight_layout()\n",
    "    plt.show()\n",
    "\n",
    "\n",
    "# endregion"
   ]
  },
  {
   "cell_type": "code",
   "execution_count": 57,
   "id": "e1cdaac8",
   "metadata": {
    "ExecuteTime": {
     "end_time": "2024-12-06T12:20:52.877198Z",
     "start_time": "2024-12-06T12:20:52.874253Z"
    },
    "executionInfo": {
     "elapsed": 15,
     "status": "ok",
     "timestamp": 1733852713670,
     "user": {
      "displayName": "François Barbosa",
      "userId": "14896221271618559833"
     },
     "user_tz": 180
    },
    "id": "e1cdaac8"
   },
   "outputs": [],
   "source": [
    "# region Obtém as 3 variáveis mais influentes por cluster\n",
    "def getInfluentialVariables(data, cluster):\n",
    "    dfImportance = data\n",
    "\n",
    "    topVariables = dfImportance[cluster].nlargest(3).index.tolist()\n",
    "\n",
    "    return topVariables\n",
    "\n",
    "\n",
    "# endregion"
   ]
  },
  {
   "cell_type": "code",
   "execution_count": 58,
   "id": "ccaa758c",
   "metadata": {
    "ExecuteTime": {
     "end_time": "2024-12-06T12:20:52.899041Z",
     "start_time": "2024-12-06T12:20:52.895691Z"
    },
    "executionInfo": {
     "elapsed": 13,
     "status": "ok",
     "timestamp": 1733852713670,
     "user": {
      "displayName": "François Barbosa",
      "userId": "14896221271618559833"
     },
     "user_tz": 180
    },
    "id": "ccaa758c"
   },
   "outputs": [],
   "source": [
    "# region Filtra os Dados Gerais dos Clusters\n",
    "def filterByCluster(data, cluster, cols, grouped):\n",
    "\t# Filtrar os dados do cluster\n",
    "\tfilteredData = data[data[\"Cluster\"] == cluster]\n",
    "\n",
    "\t# Selecionar as colunas relevantes\n",
    "\tfilteredData = filteredData[cols + [\"Survived\"]]\n",
    "\n",
    "\t# Agrupar pelos atributos selecionados e contar\n",
    "\tgroupedData = (\n",
    "\t\t\tfilteredData.groupby(cols)\n",
    "\t\t\t.agg(QuantidadeDePessoas=(\"Survived\", \"size\"),\n",
    "\t\t\t\t\t\tQuantidadeDeSobreviventes=(\"Survived\", \"sum\"))\n",
    "\t\t\t.reset_index()\n",
    "\t)\n",
    "\n",
    "\t# Renomear as colunas para maior legibilidade\n",
    "\tgroupedData.columns = grouped + [\"Total\", \"Sobreviventes\"]\n",
    "\n",
    "\treturn groupedData\n",
    "\n",
    "#endregion"
   ]
  },
  {
   "cell_type": "code",
   "execution_count": 59,
   "id": "7ae5f9dd",
   "metadata": {
    "ExecuteTime": {
     "end_time": "2024-12-06T12:20:52.906891Z",
     "start_time": "2024-12-06T12:20:52.904063Z"
    },
    "executionInfo": {
     "elapsed": 12,
     "status": "ok",
     "timestamp": 1733852713670,
     "user": {
      "displayName": "François Barbosa",
      "userId": "14896221271618559833"
     },
     "user_tz": 180
    },
    "id": "7ae5f9dd"
   },
   "outputs": [],
   "source": [
    "# region Traduz as Colunas\n",
    "def translateFields(campos):\n",
    "    # Dicionário de tradução\n",
    "    traducao = {\n",
    "        \"Pclass\": \"Classe\",\n",
    "        \"Sex\": \"Sexo\",\n",
    "        \"AgeGroup\": \"Grupo de Idade\",\n",
    "        \"Embarked\": \"Porto\",\n",
    "    }\n",
    "\n",
    "    return [traducao.get(campo, campo) for campo in campos]\n",
    "\n",
    "\n",
    "# endregion"
   ]
  },
  {
   "cell_type": "markdown",
   "id": "d4e520a6b59dc6db",
   "metadata": {
    "id": "d4e520a6b59dc6db"
   },
   "source": [
    "## Etapa 5: Agrupamento Hierárquico"
   ]
  },
  {
   "cell_type": "code",
   "execution_count": 60,
   "id": "a25c93a5",
   "metadata": {
    "ExecuteTime": {
     "end_time": "2024-12-06T12:20:52.922148Z",
     "start_time": "2024-12-06T12:20:52.918782Z"
    },
    "executionInfo": {
     "elapsed": 300,
     "status": "ok",
     "timestamp": 1733852718630,
     "user": {
      "displayName": "François Barbosa",
      "userId": "14896221271618559833"
     },
     "user_tz": 180
    },
    "id": "a25c93a5"
   },
   "outputs": [],
   "source": [
    "# region Obter o número ideal de clusters\n",
    "clusters = list(range(2, 11))\n",
    "\n",
    "linkages = [\"ward\", \"complete\", \"average\", \"single\"]\n",
    "\n",
    "affinities = [\"euclidean\", \"manhattan\", \"l1\", \"l2\"]\n",
    "\n",
    "# bestParams = tuneAgglomerativeClustering(X_titanic, clusters, linkages, affinities)\n",
    "\n",
    "settings = {\"n_clusters\": 10, \"linkage\": 'ward', \"metric\": 'euclidean'}\n",
    "# endregion"
   ]
  },
  {
   "cell_type": "code",
   "execution_count": 61,
   "id": "ef763905665f4038",
   "metadata": {
    "ExecuteTime": {
     "end_time": "2024-12-06T12:20:52.943321Z",
     "start_time": "2024-12-06T12:20:52.941018Z"
    },
    "executionInfo": {
     "elapsed": 287,
     "status": "ok",
     "timestamp": 1733852720499,
     "user": {
      "displayName": "François Barbosa",
      "userId": "14896221271618559833"
     },
     "user_tz": 180
    },
    "id": "ef763905665f4038"
   },
   "outputs": [],
   "source": [
    "numberClusters = settings.get(\"n_clusters\", 2)\n",
    "methodClusters = settings.get(\"linkage\", \"ward\")"
   ]
  },
  {
   "cell_type": "code",
   "execution_count": 62,
   "id": "e3c5fd071d1b33bc",
   "metadata": {
    "ExecuteTime": {
     "end_time": "2024-12-06T12:20:52.987997Z",
     "start_time": "2024-12-06T12:20:52.948343Z"
    },
    "executionInfo": {
     "elapsed": 306,
     "status": "ok",
     "timestamp": 1733852722934,
     "user": {
      "displayName": "François Barbosa",
      "userId": "14896221271618559833"
     },
     "user_tz": 180
    },
    "id": "e3c5fd071d1b33bc"
   },
   "outputs": [],
   "source": [
    "minimum = 0\n",
    "n = 3\n",
    "\n",
    "X_titanic, labels, topInfluences = assignClusters(\n",
    "    data=X_titanic, settings=settings, minimum=minimum, n=n\n",
    ")"
   ]
  },
  {
   "cell_type": "code",
   "execution_count": 63,
   "id": "f978eb2516ae8c0b",
   "metadata": {
    "ExecuteTime": {
     "end_time": "2024-12-06T12:20:53.001985Z",
     "start_time": "2024-12-06T12:20:52.999239Z"
    },
    "id": "f978eb2516ae8c0b",
    "outputId": "49f9210a-9488-4268-e46e-5792474bb0ee"
   },
   "outputs": [
    {
     "data": {
      "image/png": "[encoded data removed]",
      "text/plain": [
       "<Figure size 1200x800 with 1 Axes>"
      ]
     },
     "metadata": {},
     "output_type": "display_data"
    }
   ],
   "source": [
    "plotDendogram(X_titanic, numberClusters, methodClusters)"
   ]
  },
  {
   "cell_type": "code",
   "execution_count": 64,
   "id": "f948c65b36adef7e",
   "metadata": {
    "ExecuteTime": {
     "end_time": "2024-12-06T12:20:53.744515Z",
     "start_time": "2024-12-06T12:20:53.012829Z"
    },
    "colab": {
     "base_uri": "https://localhost:8080/",
     "height": 617
    },
    "executionInfo": {
     "elapsed": 2849,
     "status": "ok",
     "timestamp": 1733852730901,
     "user": {
      "displayName": "François Barbosa",
      "userId": "14896221271618559833"
     },
     "user_tz": 180
    },
    "id": "f948c65b36adef7e",
    "outputId": "9c152ea3-7f4e-4b57-a595-22e2d65d9297"
   },
   "outputs": [
    {
     "data": {
      "application/vnd.plotly.v1+json": {
       "config": {
        "plotlyServerURL": "https://plot.ly"
       },
       "data": [
        {
         "hovertemplate": "Cluster=9<br>X=%{x}<br>Y=%{y}<br>size=%{marker.size}<extra></extra>",
         "legendgroup": "9",
         "marker": {
          "color": "#636efa",
          "size": [
           10,
           10,
           10,
           10,
           10,
           10,
           10,
           10,
           10,
           10,
           10,
           10,
           10,
           10,
           10,
           10,
           10,
           10,
           10,
           10,
           10,
           10,
           10,
           10,
           10,
           10,
           10,
           10,
           10,
           10,
           10,
           10,
           10,
           10,
           10,
           10,
           10,
           10,
           10,
           10,
           10,
           10,
           10,
           10,
           10,
           10,
           10,
           10,
           10,
           10,
           10,
           10,
           10,
           10,
           10,
           10,
           10,
           10,
           10,
           10,
           10,
           10,
           10,
           10,
           10,
           10,
           10,
           10,
           10,
           10,
           10,
           10,
           10,
           10,
           10,
           10,
           10,
           10,
           10,
           10,
           10,
           10,
           10,
           10,
           10,
           10,
           10,
           10,
           10,
           10,
           10,
           10,
           10,
           10,
           10,
           10,
           10,
           10,
           10,
           10,
           10,
           10,
           10,
           10,
           10,
           10,
           10,
           10,
           10,
           10,
           10,
           10,
           10,
           10,
           10,
           10,
           10,
           10,
           10,
           10,
           10,
           10,
           10,
           10,
           10,
           10,
           10,
           10,
           10,
           10,
           10,
           10,
           10,
           10,
           10,
           10,
           10,
           10,
           10,
           10,
           10,
           10,
           10,
           10,
           10,
           10,
           10,
           10,
           10,
           10,
           10,
           10,
           10,
           10,
           10,
           10,
           10,
           10,
           10,
           10,
           10,
           10,
           10,
           10,
           10,
           10,
           10,
           10,
           10,
           10,
           10,
           10,
           10,
           10,
           10,
           10,
           10,
           10,
           10,
           10,
           10,
           10,
           10,
           10,
           10,
           10,
           10,
           10,
           10,
           10,
           10,
           10,
           10,
           10,
           10,
           10,
           10,
           10,
           10,
           10,
           10,
           10,
           10,
           10,
           10,
           10,
           10,
           10,
           10,
           10
          ],
          "sizemode": "area",
          "sizeref": 0.025,
          "symbol": "circle"
         },
         "mode": "markers",
         "name": "9",
         "orientation": "v",
         "showlegend": true,
         "type": "scatter",
         "x": [
          -3.5704319928522734,
          -3.570431992852269,
          -3.570431992852269,
          -3.570431992852269,
          -3.570431992852269,
          -3.570431992852269,
          -3.570431992852269,
          -3.570431992852269,
          -3.570431992852269,
          -3.570431992852269,
          -3.570431992852269,
          -3.570431992852269,
          -3.570431992852269,
          -3.570431992852269,
          -3.570431992852269,
          -3.570431992852269,
          -3.570431992852269,
          -3.570431992852269,
          -3.570431992852269,
          -3.570431992852269,
          -3.570431992852269,
          -3.570431992852269,
          -3.570431992852269,
          -3.570431992852269,
          -3.570431992852269,
          -3.570431992852269,
          -3.570431992852269,
          -3.570431992852269,
          -3.570431992852269,
          -3.570431992852269,
          -3.570431992852269,
          -3.570431992852269,
          -3.570431992852269,
          -3.570431992852269,
          -3.570431992852269,
          -3.570431992852269,
          -3.570431992852269,
          -3.570431992852269,
          -3.570431992852269,
          -3.570431992852269,
          -3.570431992852269,
          -3.570431992852269,
          -3.570431992852269,
          -3.570431992852269,
          -3.570431992852269,
          -3.570431992852269,
          -3.570431992852269,
          -3.570431992852269,
          -3.570431992852269,
          -3.570431992852269,
          -3.570431992852269,
          -3.570431992852269,
          -3.570431992852269,
          -3.570431992852269,
          -3.570431992852269,
          -3.570431992852269,
          -3.570431992852269,
          -3.570431992852269,
          -3.570431992852269,
          -3.570431992852269,
          -3.570431992852269,
          -3.570431992852269,
          -3.570431992852269,
          -3.570431992852269,
          -3.570431992852269,
          -3.570431992852269,
          -3.570431992852269,
          -3.570431992852269,
          -3.570431992852269,
          -3.570431992852269,
          -3.570431992852269,
          -3.570431992852269,
          -3.570431992852269,
          -3.570431992852269,
          -3.570431992852269,
          -3.570431992852269,
          -3.570431992852269,
          -3.570431992852269,
          -3.570431992852269,
          -3.570431992852269,
          -3.570431992852269,
          -3.570431992852269,
          -3.570431992852269,
          -3.570431992852269,
          -3.570431992852269,
          -3.570431992852269,
          -3.570431992852269,
          -3.570431992852269,
          -3.570431992852269,
          -3.570431992852269,
          -3.570431992852269,
          -3.570431992852269,
          -3.570431992852269,
          -3.570431992852269,
          -3.570431992852269,
          -3.570431992852269,
          -3.570431992852269,
          -3.570431992852269,
          -3.570431992852269,
          -3.570431992852269,
          -3.570431992852269,
          -3.570431992852269,
          -3.570431992852269,
          -3.570431992852269,
          -3.570431992852269,
          -3.570431992852269,
          -3.570431992852269,
          -3.570431992852269,
          -3.570431992852269,
          -3.570431992852269,
          -3.570431992852269,
          -3.570431992852269,
          -3.570431992852269,
          -3.570431992852269,
          -3.570431992852269,
          -3.570431992852269,
          -3.570431992852269,
          -3.570431992852269,
          -3.570431992852269,
          -3.570431992852269,
          -3.570431992852269,
          -3.570431992852269,
          -3.570431992852269,
          -3.570431992852269,
          -3.570431992852269,
          -3.570431992852269,
          -3.570431992852269,
          -3.570431992852269,
          -3.570431992852269,
          -3.570431992852269,
          -3.570431992852269,
          -3.570431992852269,
          -3.570431992852269,
          -3.570431992852269,
          -3.570431992852269,
          -3.570431992852269,
          -3.570431992852269,
          -3.570431992852269,
          -3.570431992852269,
          -3.570431992852269,
          -3.570431992852269,
          -3.570431992852269,
          -3.570431992852269,
          -3.570431992852269,
          -3.570431992852269,
          -3.570431992852269,
          -3.570431992852269,
          -3.570431992852269,
          -3.570431992852269,
          -3.570431992852269,
          -3.570431992852269,
          -3.570431992852269,
          -3.570431992852269,
          -3.570431992852269,
          -3.570431992852269,
          -3.570431992852269,
          -3.570431992852269,
          -3.570431992852269,
          -3.570431992852269,
          -3.570431992852269,
          -3.570431992852269,
          -3.570431992852269,
          -3.570431992852269,
          -3.570431992852269,
          -3.570431992852269,
          -3.570431992852269,
          -3.570431992852269,
          -3.570431992852269,
          -3.570431992852269,
          -3.570431992852269,
          -3.570431992852269,
          -3.570431992852269,
          -3.570431992852269,
          -3.570431992852269,
          -3.570431992852269,
          -3.570431992852269,
          -3.570431992852269,
          -3.570431992852269,
          -3.570431992852269,
          -3.570431992852269,
          -3.570431992852269,
          -3.570431992852269,
          -3.570431992852269,
          -3.570431992852269,
          -3.570431992852269,
          -3.570431992852269,
          -3.570431992852269,
          -3.570431992852269,
          -3.570431992852269,
          -3.570431992852269,
          -3.570431992852269,
          -3.570431992852269,
          -3.570431992852269,
          -3.570431992852269,
          -3.570431992852269,
          -3.570431992852269,
          -3.570431992852269,
          -3.570431992852269,
          -3.570431992852269,
          -3.570431992852269,
          -3.570431992852269,
          -3.570431992852269,
          -3.570431992852269,
          -3.570431992852269,
          -3.570431992852269,
          -3.570431992852269,
          -3.570431992852269,
          -3.570431992852269,
          -3.570431992852269,
          -3.570431992852269
         ],
         "xaxis": "x",
         "y": [
          0.3743231243251797,
          0.3743231243251785,
          0.3743231243251771,
          0.3743231243251771,
          0.3743231243251771,
          0.3743231243251771,
          0.3743231243251771,
          0.3743231243251771,
          0.3743231243251771,
          0.3743231243251771,
          0.3743231243251771,
          0.3743231243251771,
          0.3743231243251771,
          0.3743231243251771,
          0.3743231243251771,
          0.3743231243251771,
          0.3743231243251771,
          0.3743231243251771,
          0.3743231243251771,
          0.3743231243251771,
          0.3743231243251771,
          0.3743231243251771,
          0.3743231243251771,
          0.3743231243251771,
          0.3743231243251771,
          0.3743231243251771,
          0.3743231243251771,
          0.3743231243251771,
          0.3743231243251771,
          0.3743231243251771,
          0.3743231243251771,
          0.3743231243251771,
          0.3743231243251771,
          0.3743231243251771,
          0.3743231243251771,
          0.3743231243251771,
          0.3743231243251771,
          0.3743231243251771,
          0.3743231243251771,
          0.3743231243251771,
          0.3743231243251771,
          0.3743231243251771,
          0.3743231243251771,
          0.3743231243251771,
          0.3743231243251771,
          0.3743231243251771,
          0.3743231243251771,
          0.3743231243251771,
          0.3743231243251771,
          0.3743231243251771,
          0.3743231243251771,
          0.3743231243251771,
          0.3743231243251771,
          0.3743231243251771,
          0.3743231243251771,
          0.3743231243251771,
          0.3743231243251771,
          0.3743231243251771,
          0.3743231243251771,
          0.3743231243251771,
          0.3743231243251771,
          0.3743231243251771,
          0.3743231243251771,
          0.3743231243251771,
          0.3743231243251771,
          0.3743231243251771,
          0.3743231243251771,
          0.3743231243251771,
          0.3743231243251771,
          0.3743231243251771,
          0.3743231243251771,
          0.3743231243251771,
          0.3743231243251771,
          0.3743231243251771,
          0.3743231243251771,
          0.3743231243251771,
          0.3743231243251771,
          0.3743231243251771,
          0.3743231243251771,
          0.3743231243251771,
          0.3743231243251771,
          0.3743231243251771,
          0.3743231243251771,
          0.3743231243251771,
          0.3743231243251771,
          0.3743231243251771,
          0.3743231243251771,
          0.3743231243251771,
          0.3743231243251771,
          0.3743231243251771,
          0.3743231243251771,
          0.3743231243251771,
          0.3743231243251771,
          0.3743231243251771,
          0.3743231243251771,
          0.3743231243251771,
          0.3743231243251771,
          0.3743231243251771,
          0.3743231243251771,
          0.3743231243251771,
          0.3743231243251771,
          0.3743231243251771,
          0.3743231243251771,
          0.3743231243251771,
          0.3743231243251771,
          0.3743231243251771,
          0.3743231243251771,
          0.3743231243251771,
          0.3743231243251771,
          0.3743231243251771,
          0.3743231243251771,
          0.3743231243251771,
          0.3743231243251771,
          0.3743231243251771,
          0.3743231243251771,
          0.3743231243251771,
          0.3743231243251771,
          0.3743231243251771,
          0.3743231243251771,
          0.3743231243251771,
          0.3743231243251771,
          0.3743231243251771,
          0.3743231243251771,
          0.3743231243251771,
          0.3743231243251771,
          0.3743231243251771,
          0.3743231243251771,
          0.3743231243251771,
          0.3743231243251771,
          0.3743231243251771,
          0.3743231243251771,
          0.3743231243251771,
          0.3743231243251771,
          0.3743231243251771,
          0.3743231243251771,
          0.3743231243251771,
          0.3743231243251771,
          0.3743231243251771,
          0.3743231243251771,
          0.3743231243251771,
          0.3743231243251771,
          0.3743231243251771,
          0.3743231243251771,
          0.3743231243251771,
          0.3743231243251771,
          0.3743231243251771,
          0.3743231243251771,
          0.3743231243251771,
          0.3743231243251771,
          0.3743231243251771,
          0.3743231243251771,
          0.3743231243251771,
          0.3743231243251771,
          0.3743231243251771,
          0.3743231243251771,
          0.3743231243251771,
          0.3743231243251771,
          0.3743231243251771,
          0.3743231243251771,
          0.3743231243251771,
          0.3743231243251771,
          0.3743231243251771,
          0.3743231243251771,
          0.3743231243251771,
          0.3743231243251771,
          0.3743231243251771,
          0.3743231243251771,
          0.3743231243251771,
          0.3743231243251771,
          0.3743231243251771,
          0.3743231243251771,
          0.3743231243251771,
          0.3743231243251771,
          0.3743231243251771,
          0.3743231243251771,
          0.3743231243251771,
          0.3743231243251771,
          0.3743231243251771,
          0.3743231243251771,
          0.3743231243251771,
          0.3743231243251771,
          0.3743231243251771,
          0.3743231243251771,
          0.3743231243251771,
          0.3743231243251771,
          0.3743231243251771,
          0.3743231243251771,
          0.3743231243251771,
          0.3743231243251771,
          0.3743231243251771,
          0.3743231243251771,
          0.3743231243251771,
          0.3743231243251771,
          0.3743231243251771,
          0.3743231243251771,
          0.3743231243251771,
          0.3743231243251771,
          0.3743231243251771,
          0.3743231243251771,
          0.3743231243251771,
          0.3743231243251771,
          0.3743231243251771,
          0.3743231243251771,
          0.3743231243251771,
          0.3743231243251771,
          0.3743231243251771,
          0.3743231243251771,
          0.3743231243251771,
          0.3743231243251771,
          0.3743231243251771
         ],
         "yaxis": "y"
        },
        {
         "hovertemplate": "Cluster=6<br>X=%{x}<br>Y=%{y}<br>size=%{marker.size}<extra></extra>",
         "legendgroup": "6",
         "marker": {
          "color": "#EF553B",
          "size": [
           10,
           10,
           10,
           10,
           10,
           10,
           10,
           10,
           10,
           10,
           10,
           10,
           10,
           10,
           10,
           10,
           10,
           10,
           10,
           10,
           10,
           10,
           10,
           10,
           10,
           10,
           10,
           10,
           10,
           10,
           10,
           10,
           10,
           10,
           10,
           10,
           10,
           10,
           10,
           10,
           10,
           10,
           10,
           10,
           10,
           10,
           10,
           10,
           10,
           10,
           10,
           10,
           10,
           10,
           10,
           10,
           10,
           10,
           10,
           10,
           10,
           10,
           10
          ],
          "sizemode": "area",
          "sizeref": 0.025,
          "symbol": "circle"
         },
         "mode": "markers",
         "name": "6",
         "orientation": "v",
         "showlegend": true,
         "type": "scatter",
         "x": [
          -0.5079113219160464,
          -0.5411201880476949,
          -0.5411201880476949,
          -0.5411201880476949,
          -0.5411201880476949,
          -0.5411201880476949,
          -0.5411201880476949,
          -0.5411201880476949,
          -0.5079113219160464,
          -0.5411201880476949,
          -0.5079113219160464,
          -0.5270366200130355,
          -0.5079113219160464,
          -0.5079113219160464,
          -0.5411201880476949,
          -0.5411201880476949,
          -0.5411201880476949,
          -0.5411201880476949,
          -0.5411201880476949,
          -0.5079113219160464,
          -0.5079113219160464,
          -0.5079113219160464,
          -0.5411201880476949,
          -0.5079113219160464,
          -0.5079113219160464,
          -0.5411201880476949,
          -0.5411201880476949,
          -0.5079113219160464,
          -0.5079113219160464,
          -0.5079113219160464,
          -0.5411201880476949,
          -0.5411201880476949,
          -0.5079113219160464,
          -0.5411201880476949,
          -0.5079113219160464,
          -0.5411201880476949,
          -0.5411201880476949,
          -0.5411201880476949,
          -0.5411201880476949,
          -0.5411201880476949,
          -0.5411201880476949,
          -0.5411201880476949,
          -0.5411201880476949,
          -0.5411201880476949,
          -0.5411201880476949,
          -0.5079113219160464,
          -0.5411201880476949,
          -0.5411201880476949,
          -0.5411201880476949,
          -0.5411201880476949,
          -0.5079113219160464,
          -0.5411201880476949,
          -0.5411201880476949,
          -0.5079113219160464,
          -0.5411201880476949,
          -0.5411201880476949,
          -0.5079113219160464,
          -0.5411201880476949,
          -0.5411201880476949,
          -0.5079113219160464,
          -0.5411201880476949,
          -0.5079113219160464,
          -0.5411201880476949
         ],
         "xaxis": "x",
         "y": [
          0.10660653112288859,
          -0.008378937260329688,
          -0.008378937260329688,
          -0.008378937260329688,
          -0.008378937260329688,
          -0.008378937260329688,
          -0.008378937260329688,
          -0.008378937260329688,
          0.10660653112288859,
          -0.008378937260329688,
          0.10660653112288859,
          -0.14824284321173087,
          0.10660653112288859,
          0.10660653112288859,
          -0.008378937260329688,
          -0.008378937260329688,
          -0.008378937260329688,
          -0.008378937260329688,
          -0.008378937260329688,
          0.10660653112288859,
          0.10660653112288859,
          0.10660653112288859,
          -0.008378937260329688,
          0.10660653112288859,
          0.10660653112288859,
          -0.008378937260329688,
          -0.008378937260329688,
          0.10660653112288859,
          0.10660653112288859,
          0.10660653112288859,
          -0.008378937260329688,
          -0.008378937260329688,
          0.10660653112288859,
          -0.008378937260329688,
          0.10660653112288859,
          -0.008378937260329688,
          -0.008378937260329688,
          -0.008378937260329688,
          -0.008378937260329688,
          -0.008378937260329688,
          -0.008378937260329688,
          -0.008378937260329688,
          -0.008378937260329688,
          -0.008378937260329688,
          -0.008378937260329688,
          0.10660653112288859,
          -0.008378937260329688,
          -0.008378937260329688,
          -0.008378937260329688,
          -0.008378937260329688,
          0.10660653112288859,
          -0.008378937260329688,
          -0.008378937260329688,
          0.10660653112288859,
          -0.008378937260329688,
          -0.008378937260329688,
          0.10660653112288859,
          -0.008378937260329688,
          -0.008378937260329688,
          0.10660653112288859,
          -0.008378937260329688,
          0.10660653112288859,
          -0.008378937260329688
         ],
         "yaxis": "y"
        },
        {
         "hovertemplate": "Cluster=0<br>X=%{x}<br>Y=%{y}<br>size=%{marker.size}<extra></extra>",
         "legendgroup": "0",
         "marker": {
          "color": "#00cc96",
          "size": [
           10,
           10,
           10,
           10,
           10,
           10,
           10,
           10,
           10,
           10,
           10,
           10,
           10,
           10,
           10,
           10,
           10,
           10,
           10,
           10,
           10,
           10,
           10,
           10,
           10,
           10,
           10,
           10,
           10,
           10,
           10,
           10,
           10,
           10,
           10,
           10,
           10,
           10,
           10,
           10,
           10,
           10,
           10,
           10,
           10,
           10,
           10,
           10,
           10,
           10,
           10,
           10,
           10,
           10,
           10,
           10,
           10,
           10,
           10,
           10,
           10,
           10,
           10,
           10,
           10,
           10,
           10,
           10,
           10,
           10,
           10,
           10,
           10,
           10,
           10,
           10,
           10,
           10,
           10,
           10,
           10,
           10,
           10,
           10,
           10,
           10,
           10,
           10,
           10
          ],
          "sizemode": "area",
          "sizeref": 0.025,
          "symbol": "circle"
         },
         "mode": "markers",
         "name": "0",
         "orientation": "v",
         "showlegend": true,
         "type": "scatter",
         "x": [
          5.452073779413096,
          5.466157347447755,
          5.440839475683389,
          5.452073779413096,
          5.452073779413096,
          5.452073779413096,
          5.452073779413096,
          5.418864913281447,
          5.432948481316106,
          5.452073779413096,
          5.440839475683389,
          5.418864913281447,
          5.452073779413096,
          5.452073779413096,
          5.466157347447755,
          5.452073779413096,
          5.418864913281447,
          5.440839475683389,
          5.440839475683389,
          5.452073779413096,
          5.466157347447755,
          5.432948481316106,
          5.452073779413096,
          5.440839475683389,
          5.418864913281447,
          5.452073779413096,
          5.4802409154824145,
          5.452073779413096,
          5.418864913281447,
          5.452073779413096,
          5.452073779413096,
          5.418864913281447,
          5.452073779413096,
          5.4802409154824145,
          5.452073779413096,
          5.440839475683389,
          5.454923043718049,
          5.418864913281447,
          5.440839475683389,
          5.452073779413096,
          5.440839475683389,
          5.452073779413096,
          5.440839475683389,
          5.440839475683389,
          5.452073779413096,
          5.440839475683389,
          5.4802409154824145,
          5.452073779413096,
          5.452073779413096,
          5.466157347447755,
          5.452073779413096,
          5.452073779413096,
          5.452073779413096,
          5.452073779413096,
          5.418864913281447,
          5.454923043718049,
          5.452073779413096,
          5.440839475683389,
          5.452073779413096,
          5.418864913281447,
          5.440839475683389,
          5.466157347447755,
          5.452073779413096,
          5.4802409154824145,
          5.452073779413096,
          5.4802409154824145,
          5.452073779413096,
          5.452073779413096,
          5.454923043718049,
          5.452073779413096,
          5.452073779413096,
          5.452073779413096,
          5.452073779413096,
          5.452073779413096,
          5.452073779413096,
          5.440839475683389,
          5.452073779413096,
          5.452073779413096,
          5.474048341815037,
          5.474048341815037,
          5.474048341815037,
          5.474048341815037,
          5.474048341815037,
          5.474048341815037,
          5.474048341815037,
          5.474048341815037,
          5.474048341815037,
          5.474048341815037,
          5.474048341815037
         ],
         "xaxis": "x",
         "y": [
          1.101940561932862,
          0.9620766559814605,
          0.7126629792833488,
          1.1019405619328617,
          1.1019405619328617,
          1.1019405619328617,
          1.1019405619328617,
          0.9869550935496433,
          0.8470911875982421,
          1.1019405619328617,
          0.7126629792833488,
          0.9869550935496433,
          1.1019405619328617,
          1.1019405619328617,
          0.9620766559814605,
          1.1019405619328617,
          0.9869550935496433,
          0.7126629792833488,
          0.7126629792833488,
          1.1019405619328617,
          0.9620766559814605,
          0.8470911875982421,
          1.1019405619328617,
          0.7126629792833488,
          0.9869550935496433,
          1.1019405619328617,
          0.8222127500300591,
          1.1019405619328617,
          0.9869550935496433,
          1.1019405619328617,
          1.1019405619328617,
          0.9869550935496433,
          1.1019405619328617,
          0.8222127500300591,
          1.1019405619328617,
          0.7126629792833488,
          0.5727990733319475,
          0.9869550935496433,
          0.7126629792833488,
          1.1019405619328617,
          0.7126629792833488,
          1.1019405619328617,
          0.7126629792833488,
          0.7126629792833488,
          1.1019405619328617,
          0.7126629792833488,
          0.8222127500300591,
          1.1019405619328617,
          1.1019405619328617,
          0.9620766559814605,
          1.1019405619328617,
          1.1019405619328617,
          1.1019405619328617,
          1.1019405619328617,
          0.9869550935496433,
          0.5727990733319475,
          1.1019405619328617,
          0.7126629792833488,
          1.1019405619328617,
          0.9869550935496433,
          0.7126629792833488,
          0.9620766559814605,
          1.1019405619328617,
          0.8222127500300591,
          1.1019405619328617,
          0.8222127500300591,
          1.1019405619328617,
          1.1019405619328617,
          0.5727990733319475,
          1.1019405619328617,
          1.1019405619328617,
          1.1019405619328617,
          1.1019405619328617,
          1.1019405619328617,
          1.1019405619328617,
          0.7126629792833488,
          1.1019405619328617,
          1.1019405619328617,
          0.8276484476665668,
          0.8276484476665668,
          0.8276484476665668,
          0.8276484476665668,
          0.8276484476665668,
          0.8276484476665668,
          0.8276484476665668,
          0.8276484476665668,
          0.8276484476665668,
          0.8276484476665668,
          0.8276484476665668
         ],
         "yaxis": "y"
        },
        {
         "hovertemplate": "Cluster=8<br>X=%{x}<br>Y=%{y}<br>size=%{marker.size}<extra></extra>",
         "legendgroup": "8",
         "marker": {
          "color": "#ab63fa",
          "size": [
           10,
           10,
           10,
           10,
           10,
           10,
           10,
           10,
           10,
           10,
           10,
           10,
           10,
           10,
           10,
           10,
           10,
           10,
           10,
           10,
           10,
           10,
           10,
           10,
           10,
           10,
           10,
           10,
           10,
           10,
           10,
           10,
           10,
           10,
           10,
           10,
           10,
           10,
           10,
           10,
           10,
           10,
           10,
           10,
           10,
           10,
           10,
           10,
           10,
           10,
           10,
           10,
           10,
           10,
           10,
           10,
           10,
           10,
           10,
           10,
           10,
           10,
           10,
           10,
           10,
           10,
           10,
           10,
           10,
           10,
           10,
           10,
           10,
           10,
           10,
           10,
           10,
           10,
           10,
           10,
           10,
           10,
           10,
           10,
           10,
           10,
           10,
           10,
           10,
           10,
           10,
           10,
           10,
           10,
           10,
           10,
           10,
           10,
           10,
           10,
           10,
           10,
           10,
           10,
           10,
           10,
           10
          ],
          "sizemode": "area",
          "sizeref": 0.025,
          "symbol": "circle"
         },
         "mode": "markers",
         "name": "8",
         "orientation": "v",
         "showlegend": true,
         "type": "scatter",
         "x": [
          -2.553336537116763,
          -2.553336537116763,
          -2.553336537116763,
          -2.553336537116763,
          -2.553336537116763,
          -2.553336537116763,
          -2.553336537116763,
          -2.553336537116763,
          -2.553336537116763,
          -2.553336537116763,
          -2.553336537116763,
          -2.553336537116763,
          -2.553336537116763,
          -2.553336537116763,
          -2.553336537116763,
          -2.553336537116763,
          -2.553336537116763,
          -2.553336537116763,
          -2.553336537116763,
          -2.553336537116763,
          -2.553336537116763,
          -2.553336537116763,
          -2.553336537116763,
          -2.553336537116763,
          -2.553336537116763,
          -2.553336537116763,
          -2.553336537116763,
          -2.553336537116763,
          -2.553336537116763,
          -2.553336537116763,
          -2.553336537116763,
          -2.553336537116763,
          -2.553336537116763,
          -2.553336537116763,
          -2.553336537116763,
          -2.553336537116763,
          -2.553336537116763,
          -2.553336537116763,
          -2.553336537116763,
          -2.553336537116763,
          -2.553336537116763,
          -2.553336537116763,
          -2.553336537116763,
          -2.553336537116763,
          -2.553336537116763,
          -2.553336537116763,
          -2.553336537116763,
          -2.553336537116763,
          -2.553336537116763,
          -2.553336537116763,
          -2.553336537116763,
          -2.553336537116763,
          -2.553336537116763,
          -2.553336537116763,
          -2.553336537116763,
          -2.553336537116763,
          -2.553336537116763,
          -2.553336537116763,
          -2.553336537116763,
          -2.553336537116763,
          -2.553336537116763,
          -2.553336537116763,
          -2.553336537116763,
          -2.553336537116763,
          -2.553336537116763,
          -2.553336537116763,
          -2.553336537116763,
          -2.553336537116763,
          -2.553336537116763,
          -2.553336537116763,
          -2.553336537116763,
          -2.553336537116763,
          -2.553336537116763,
          -2.553336537116763,
          -2.553336537116763,
          -2.553336537116763,
          -2.553336537116763,
          -2.553336537116763,
          -2.553336537116763,
          -2.553336537116763,
          -2.553336537116763,
          -2.553336537116763,
          -2.553336537116763,
          -2.553336537116763,
          -2.553336537116763,
          -2.553336537116763,
          -2.553336537116763,
          -2.553336537116763,
          -2.553336537116763,
          -2.553336537116763,
          -2.553336537116763,
          -2.553336537116763,
          -2.553336537116763,
          -2.553336537116763,
          -2.553336537116763,
          -2.553336537116763,
          -2.553336537116763,
          -2.553336537116763,
          -2.553336537116763,
          -2.553336537116763,
          -2.553336537116763,
          -2.553336537116763,
          -2.553336537116763,
          -2.553336537116763,
          -2.553336537116763,
          -2.553336537116763,
          -2.553336537116763
         ],
         "xaxis": "x",
         "y": [
          0.15532506570790997,
          0.15532506570790997,
          0.15532506570790997,
          0.15532506570790997,
          0.15532506570790997,
          0.15532506570790997,
          0.15532506570790997,
          0.15532506570790997,
          0.15532506570790997,
          0.15532506570790997,
          0.15532506570790997,
          0.15532506570790997,
          0.15532506570790997,
          0.15532506570790997,
          0.15532506570790997,
          0.15532506570790997,
          0.15532506570790997,
          0.15532506570790997,
          0.15532506570790997,
          0.15532506570790997,
          0.15532506570790997,
          0.15532506570790997,
          0.15532506570790997,
          0.15532506570790997,
          0.15532506570790997,
          0.15532506570790997,
          0.15532506570790997,
          0.15532506570790997,
          0.15532506570790997,
          0.15532506570790997,
          0.15532506570790997,
          0.15532506570790997,
          0.15532506570790997,
          0.15532506570790997,
          0.15532506570790997,
          0.15532506570790997,
          0.15532506570790997,
          0.15532506570790997,
          0.15532506570790997,
          0.15532506570790997,
          0.15532506570790997,
          0.15532506570790997,
          0.15532506570790997,
          0.15532506570790997,
          0.15532506570790997,
          0.15532506570790997,
          0.15532506570790997,
          0.15532506570790997,
          0.15532506570790997,
          0.15532506570790997,
          0.15532506570790997,
          0.15532506570790997,
          0.15532506570790997,
          0.15532506570790997,
          0.15532506570790997,
          0.15532506570790997,
          0.15532506570790997,
          0.15532506570790997,
          0.15532506570790997,
          0.15532506570790997,
          0.15532506570790997,
          0.15532506570790997,
          0.15532506570790997,
          0.15532506570790997,
          0.15532506570790997,
          0.15532506570790997,
          0.15532506570790997,
          0.15532506570790997,
          0.15532506570790997,
          0.15532506570790997,
          0.15532506570790997,
          0.15532506570790997,
          0.15532506570790997,
          0.15532506570790997,
          0.15532506570790997,
          0.15532506570790997,
          0.15532506570790997,
          0.15532506570790997,
          0.15532506570790997,
          0.15532506570790997,
          0.15532506570790997,
          0.15532506570790997,
          0.15532506570790997,
          0.15532506570790997,
          0.15532506570790997,
          0.15532506570790997,
          0.15532506570790997,
          0.15532506570790997,
          0.15532506570790997,
          0.15532506570790997,
          0.15532506570790997,
          0.15532506570790997,
          0.15532506570790997,
          0.15532506570790997,
          0.15532506570790997,
          0.15532506570790997,
          0.15532506570790997,
          0.15532506570790997,
          0.15532506570790997,
          0.15532506570790997,
          0.15532506570790997,
          0.15532506570790997,
          0.15532506570790997,
          0.15532506570790997,
          0.15532506570790997,
          0.15532506570790997,
          0.15532506570790997
         ],
         "yaxis": "y"
        },
        {
         "hovertemplate": "Cluster=4<br>X=%{x}<br>Y=%{y}<br>size=%{marker.size}<extra></extra>",
         "legendgroup": "4",
         "marker": {
          "color": "#FFA15A",
          "size": [
           10,
           10,
           10,
           10,
           10,
           10,
           10,
           10,
           10,
           10,
           10,
           10,
           10,
           10,
           10
          ],
          "sizemode": "area",
          "sizeref": 0.025,
          "symbol": "circle"
         },
         "mode": "markers",
         "name": "4",
         "orientation": "v",
         "showlegend": true,
         "type": "scatter",
         "x": [
          1.5104976008203983,
          1.5104976008203983,
          1.5104976008203983,
          1.5104976008203983,
          1.5104976008203983,
          1.5104976008203983,
          1.5104976008203983,
          1.5104976008203983,
          1.5104976008203983,
          1.5104976008203983,
          1.5104976008203983,
          1.5104976008203983,
          1.5104976008203983,
          1.5104976008203983,
          1.5104976008203983
         ],
         "xaxis": "x",
         "y": [
          -0.0625331694818587,
          -0.0625331694818587,
          -0.0625331694818587,
          -0.0625331694818587,
          -0.0625331694818587,
          -0.0625331694818587,
          -0.0625331694818587,
          -0.0625331694818587,
          -0.0625331694818587,
          -0.0625331694818587,
          -0.0625331694818587,
          -0.0625331694818587,
          -0.0625331694818587,
          -0.0625331694818587,
          -0.0625331694818587
         ],
         "yaxis": "y"
        },
        {
         "hovertemplate": "Cluster=3<br>X=%{x}<br>Y=%{y}<br>size=%{marker.size}<extra></extra>",
         "legendgroup": "3",
         "marker": {
          "color": "#19d3f3",
          "size": [
           10,
           10,
           10,
           10,
           10,
           10,
           10,
           10,
           10,
           10,
           10,
           10,
           10,
           10,
           10,
           10,
           10,
           10,
           10,
           10,
           10,
           10,
           10,
           10,
           10,
           10,
           10,
           10,
           10,
           10,
           10,
           10,
           10,
           10,
           10,
           10,
           10,
           10
          ],
          "sizemode": "area",
          "sizeref": 0.025,
          "symbol": "circle"
         },
         "mode": "markers",
         "name": "3",
         "orientation": "v",
         "showlegend": true,
         "type": "scatter",
         "x": [
          2.428460503218428,
          2.428460503218428,
          2.428460503218428,
          2.450435065620371,
          2.428460503218428,
          2.450435065620371,
          2.428460503218428,
          2.428460503218428,
          2.428460503218428,
          2.450435065620371,
          2.428460503218428,
          2.450435065620371,
          2.450435065620371,
          2.428460503218428,
          2.428460503218428,
          2.428460503218428,
          2.450435065620371,
          2.428460503218428,
          2.428460503218428,
          2.450435065620371,
          2.428460503218428,
          2.428460503218428,
          2.428460503218428,
          2.428460503218428,
          2.428460503218428,
          2.428460503218428,
          2.450435065620371,
          2.450435065620371,
          2.428460503218428,
          2.428460503218428,
          2.428460503218428,
          2.428460503218428,
          2.450435065620371,
          2.428460503218428,
          2.428460503218428,
          2.428460503218428,
          2.450435065620371,
          2.450435065620371
         ],
         "xaxis": "x",
         "y": [
          0.42635964631654005,
          0.42635964631654005,
          0.42635964631654005,
          0.15206753205024534,
          0.42635964631654005,
          0.15206753205024534,
          0.42635964631654005,
          0.42635964631654005,
          0.42635964631654005,
          0.15206753205024534,
          0.42635964631654005,
          0.15206753205024534,
          0.15206753205024534,
          0.42635964631654005,
          0.42635964631654005,
          0.42635964631654005,
          0.15206753205024534,
          0.42635964631654005,
          0.42635964631654005,
          0.15206753205024534,
          0.42635964631654005,
          0.42635964631654005,
          0.42635964631654005,
          0.42635964631654005,
          0.42635964631654005,
          0.42635964631654005,
          0.15206753205024534,
          0.15206753205024534,
          0.42635964631654005,
          0.42635964631654005,
          0.42635964631654005,
          0.42635964631654005,
          0.15206753205024534,
          0.42635964631654005,
          0.42635964631654005,
          0.42635964631654005,
          0.15206753205024534,
          0.15206753205024534
         ],
         "yaxis": "y"
        },
        {
         "hovertemplate": "Cluster=5<br>X=%{x}<br>Y=%{y}<br>size=%{marker.size}<extra></extra>",
         "legendgroup": "5",
         "marker": {
          "color": "#FF6692",
          "size": [
           10,
           10,
           10,
           10,
           10,
           10,
           10,
           10,
           10,
           10,
           10,
           10,
           10,
           10,
           10,
           10,
           10,
           10,
           10,
           10,
           10,
           10,
           10,
           10,
           10,
           10,
           10,
           10,
           10,
           10,
           10,
           10,
           10,
           10,
           10,
           10,
           10,
           10,
           10,
           10,
           10,
           10,
           10,
           10,
           10,
           10,
           10,
           10,
           10,
           10,
           10,
           10,
           10,
           10,
           10,
           10,
           10,
           10,
           10,
           10,
           10,
           10,
           10,
           10,
           10,
           10,
           10,
           10,
           10,
           10,
           10,
           10,
           10,
           10,
           10,
           10,
           10,
           10,
           10,
           10,
           10,
           10,
           10,
           10,
           10,
           10,
           10,
           10,
           10,
           10,
           10,
           10,
           10,
           10,
           10,
           10,
           10,
           10
          ],
          "sizemode": "area",
          "sizeref": 0.025,
          "symbol": "circle"
         },
         "mode": "markers",
         "name": "5",
         "orientation": "v",
         "showlegend": true,
         "type": "scatter",
         "x": [
          0.5331401805857519,
          0.5331401805857519,
          0.5331401805857519,
          0.5663490467174006,
          0.5331401805857519,
          0.5331401805857519,
          0.5331401805857519,
          0.5331401805857519,
          0.5663490467174006,
          0.5331401805857519,
          0.5331401805857519,
          0.5331401805857519,
          0.5331401805857519,
          0.5331401805857519,
          0.5331401805857519,
          0.5663490467174006,
          0.5331401805857519,
          0.5331401805857519,
          0.5331401805857519,
          0.5190566125510924,
          0.5111656181838093,
          0.5663490467174006,
          0.5663490467174006,
          0.5331401805857519,
          0.5331401805857519,
          0.5331401805857519,
          0.5331401805857519,
          0.5331401805857519,
          0.5663490467174006,
          0.5111656181838093,
          0.5331401805857519,
          0.5331401805857519,
          0.5331401805857519,
          0.5331401805857519,
          0.5331401805857519,
          0.5331401805857519,
          0.5331401805857519,
          0.5111656181838093,
          0.5111656181838093,
          0.5663490467174006,
          0.5111656181838093,
          0.5331401805857519,
          0.5331401805857519,
          0.5663490467174006,
          0.5331401805857519,
          0.5331401805857519,
          0.5331401805857519,
          0.5331401805857519,
          0.5331401805857519,
          0.5331401805857519,
          0.5663490467174006,
          0.5331401805857519,
          0.5331401805857519,
          0.5663490467174006,
          0.5111656181838093,
          0.5663490467174006,
          0.5331401805857519,
          0.5663490467174006,
          0.5331401805857519,
          0.5663490467174006,
          0.5663490467174006,
          0.5331401805857519,
          0.5111656181838093,
          0.5331401805857519,
          0.5331401805857519,
          0.5331401805857519,
          0.5331401805857519,
          0.5331401805857519,
          0.5331401805857519,
          0.5190566125510924,
          0.5331401805857519,
          0.5663490467174006,
          0.5331401805857519,
          0.5331401805857519,
          0.5331401805857519,
          0.5331401805857519,
          0.5331401805857519,
          0.5331401805857519,
          0.5331401805857519,
          0.5663490467174006,
          0.5331401805857519,
          0.5331401805857519,
          0.5663490467174006,
          0.5663490467174006,
          0.5331401805857519,
          0.5331401805857519,
          0.5331401805857519,
          0.5331401805857519,
          0.5663490467174006,
          0.5331401805857519,
          0.5331401805857519,
          0.5331401805857519,
          0.5331401805857519,
          0.5663490467174006,
          0.5331401805857519,
          0.5111656181838093,
          0.5331401805857519,
          0.5331401805857519
         ],
         "xaxis": "x",
         "y": [
          -0.984386795719617,
          -0.984386795719617,
          -0.984386795719617,
          -0.8694013273363985,
          -0.984386795719617,
          -0.984386795719617,
          -0.984386795719617,
          -0.984386795719617,
          -0.8694013273363985,
          -0.984386795719617,
          -0.984386795719617,
          -0.984386795719617,
          -0.984386795719617,
          -0.984386795719617,
          -0.984386795719617,
          -0.8694013273363985,
          -0.984386795719617,
          -0.984386795719617,
          -0.984386795719617,
          -0.8445228897682157,
          -0.7100946814533222,
          -0.8694013273363985,
          -0.8694013273363985,
          -0.984386795719617,
          -0.984386795719617,
          -0.984386795719617,
          -0.984386795719617,
          -0.984386795719617,
          -0.8694013273363985,
          -0.7100946814533222,
          -0.984386795719617,
          -0.984386795719617,
          -0.984386795719617,
          -0.984386795719617,
          -0.984386795719617,
          -0.984386795719617,
          -0.984386795719617,
          -0.7100946814533222,
          -0.7100946814533222,
          -0.8694013273363985,
          -0.7100946814533222,
          -0.984386795719617,
          -0.984386795719617,
          -0.8694013273363985,
          -0.984386795719617,
          -0.984386795719617,
          -0.984386795719617,
          -0.984386795719617,
          -0.984386795719617,
          -0.984386795719617,
          -0.8694013273363985,
          -0.984386795719617,
          -0.984386795719617,
          -0.8694013273363985,
          -0.7100946814533222,
          -0.8694013273363985,
          -0.984386795719617,
          -0.8694013273363985,
          -0.984386795719617,
          -0.8694013273363985,
          -0.8694013273363985,
          -0.984386795719617,
          -0.7100946814533222,
          -0.984386795719617,
          -0.984386795719617,
          -0.984386795719617,
          -0.984386795719617,
          -0.984386795719617,
          -0.984386795719617,
          -0.8445228897682157,
          -0.984386795719617,
          -0.8694013273363985,
          -0.984386795719617,
          -0.984386795719617,
          -0.984386795719617,
          -0.984386795719617,
          -0.984386795719617,
          -0.984386795719617,
          -0.984386795719617,
          -0.8694013273363985,
          -0.984386795719617,
          -0.984386795719617,
          -0.8694013273363985,
          -0.8694013273363985,
          -0.9843867957196167,
          -0.984386795719617,
          -0.984386795719617,
          -0.984386795719617,
          -0.8694013273363985,
          -0.984386795719617,
          -0.984386795719617,
          -0.984386795719617,
          -0.984386795719617,
          -0.8694013273363985,
          -0.984386795719617,
          -0.7100946814533222,
          -0.984386795719617,
          -0.984386795719617
         ],
         "yaxis": "y"
        },
        {
         "hovertemplate": "Cluster=1<br>X=%{x}<br>Y=%{y}<br>size=%{marker.size}<extra></extra>",
         "legendgroup": "1",
         "marker": {
          "color": "#B6E880",
          "size": [
           10,
           10,
           10,
           10,
           10,
           10,
           10,
           10,
           10,
           10,
           10,
           10,
           10,
           10,
           10,
           10,
           10,
           10,
           10,
           10,
           10,
           10,
           10,
           10,
           10,
           10,
           10,
           10,
           10,
           10,
           10,
           10,
           10,
           10,
           10,
           10,
           10,
           10,
           10,
           10,
           10,
           10,
           10,
           10,
           10,
           10,
           10,
           10,
           10,
           10,
           10,
           10,
           10,
           10,
           10,
           10,
           10,
           10,
           10,
           10,
           10,
           10,
           10,
           10,
           10,
           10,
           10,
           10,
           10,
           10,
           10,
           10,
           10,
           10,
           10,
           10,
           10,
           10,
           10,
           10,
           10,
           10,
           10,
           10,
           10,
           10,
           10,
           10,
           10,
           10,
           10,
           10,
           10,
           10
          ],
          "sizemode": "area",
          "sizeref": 0.025,
          "symbol": "circle"
         },
         "mode": "markers",
         "name": "1",
         "orientation": "v",
         "showlegend": true,
         "type": "scatter",
         "x": [
          4.4854566178506845,
          4.518665483982335,
          4.4854566178506845,
          4.4854566178506845,
          4.4854566178506845,
          4.4854566178506845,
          4.4854566178506845,
          4.518665483982335,
          4.4854566178506845,
          4.518665483982335,
          4.4854566178506845,
          4.4854566178506845,
          4.4854566178506845,
          4.4854566178506845,
          4.4854566178506845,
          4.4854566178506845,
          4.4854566178506845,
          4.4854566178506845,
          4.4854566178506845,
          4.518665483982335,
          4.4854566178506845,
          4.4854566178506845,
          4.4854566178506845,
          4.4854566178506845,
          4.4854566178506845,
          4.4854566178506845,
          4.4854566178506845,
          4.4854566178506845,
          4.518665483982335,
          4.4854566178506845,
          4.4854566178506845,
          4.4854566178506845,
          4.518665483982335,
          4.4854566178506845,
          4.4854566178506845,
          4.4854566178506845,
          4.4854566178506845,
          4.4854566178506845,
          4.4854566178506845,
          4.4854566178506845,
          4.4854566178506845,
          4.518665483982335,
          4.518665483982335,
          4.4854566178506845,
          4.518665483982335,
          4.518665483982335,
          4.4854566178506845,
          4.4854566178506845,
          4.4854566178506845,
          4.4854566178506845,
          4.518665483982335,
          4.4854566178506845,
          4.518665483982335,
          4.518665483982335,
          4.518665483982335,
          4.4854566178506845,
          4.4854566178506845,
          4.4854566178506845,
          4.4854566178506845,
          4.4854566178506845,
          4.4854566178506845,
          4.4854566178506845,
          4.4854566178506845,
          4.4854566178506845,
          4.518665483982335,
          4.4854566178506845,
          4.4854566178506845,
          4.4854566178506845,
          4.4854566178506845,
          4.518665483982335,
          4.4854566178506845,
          4.518665483982335,
          4.518665483982335,
          4.518665483982335,
          4.4854566178506845,
          4.4854566178506845,
          4.4854566178506845,
          4.4854566178506845,
          4.4854566178506845,
          4.4854566178506845,
          4.4854566178506845,
          4.4854566178506845,
          4.4854566178506845,
          4.4854566178506845,
          4.518665483982335,
          4.4854566178506845,
          4.4854566178506845,
          4.4854566178506845,
          4.518665483982335,
          4.518665483982335,
          4.4854566178506845,
          4.4854566178506845,
          4.4854566178506845,
          4.4854566178506845
         ],
         "xaxis": "x",
         "y": [
          -0.48348276122070444,
          -0.368497292837486,
          -0.48348276122070444,
          -0.48348276122070444,
          -0.48348276122070444,
          -0.48348276122070444,
          -0.48348276122070444,
          -0.368497292837486,
          -0.48348276122070444,
          -0.368497292837486,
          -0.48348276122070444,
          -0.48348276122070444,
          -0.48348276122070444,
          -0.48348276122070444,
          -0.48348276122070444,
          -0.48348276122070444,
          -0.48348276122070444,
          -0.48348276122070444,
          -0.48348276122070444,
          -0.368497292837486,
          -0.48348276122070444,
          -0.48348276122070444,
          -0.48348276122070444,
          -0.48348276122070444,
          -0.48348276122070444,
          -0.48348276122070444,
          -0.48348276122070444,
          -0.48348276122070444,
          -0.368497292837486,
          -0.48348276122070444,
          -0.48348276122070444,
          -0.48348276122070444,
          -0.368497292837486,
          -0.48348276122070444,
          -0.48348276122070444,
          -0.48348276122070444,
          -0.48348276122070444,
          -0.48348276122070444,
          -0.48348276122070444,
          -0.48348276122070444,
          -0.48348276122070444,
          -0.368497292837486,
          -0.368497292837486,
          -0.48348276122070444,
          -0.368497292837486,
          -0.368497292837486,
          -0.48348276122070444,
          -0.48348276122070444,
          -0.48348276122070444,
          -0.48348276122070444,
          -0.368497292837486,
          -0.48348276122070444,
          -0.368497292837486,
          -0.368497292837486,
          -0.368497292837486,
          -0.48348276122070444,
          -0.48348276122070444,
          -0.48348276122070444,
          -0.48348276122070444,
          -0.48348276122070444,
          -0.48348276122070444,
          -0.48348276122070444,
          -0.48348276122070444,
          -0.48348276122070444,
          -0.368497292837486,
          -0.48348276122070444,
          -0.48348276122070444,
          -0.48348276122070444,
          -0.48348276122070444,
          -0.368497292837486,
          -0.48348276122070444,
          -0.368497292837486,
          -0.368497292837486,
          -0.368497292837486,
          -0.48348276122070444,
          -0.48348276122070444,
          -0.48348276122070444,
          -0.48348276122070444,
          -0.48348276122070444,
          -0.48348276122070444,
          -0.48348276122070427,
          -0.48348276122070427,
          -0.48348276122070444,
          -0.48348276122070444,
          -0.368497292837486,
          -0.48348276122070444,
          -0.48348276122070444,
          -0.48348276122070444,
          -0.368497292837486,
          -0.368497292837486,
          -0.48348276122070444,
          -0.48348276122070444,
          -0.48348276122070444,
          -0.48348276122070427
         ],
         "yaxis": "y"
        },
        {
         "hovertemplate": "Cluster=2<br>X=%{x}<br>Y=%{y}<br>size=%{marker.size}<extra></extra>",
         "legendgroup": "2",
         "marker": {
          "color": "#FF97FF",
          "size": [
           10,
           10,
           10,
           10,
           10,
           10,
           10,
           10,
           10,
           10,
           10,
           10,
           10,
           10,
           10,
           10,
           10,
           10,
           10,
           10,
           10,
           10,
           10,
           10,
           10,
           10,
           10,
           10,
           10,
           10,
           10,
           10,
           10,
           10,
           10,
           10,
           10,
           10,
           10
          ],
          "sizemode": "area",
          "sizeref": 0.025,
          "symbol": "circle"
         },
         "mode": "markers",
         "name": "2",
         "orientation": "v",
         "showlegend": true,
         "type": "scatter",
         "x": [
          3.5629460304477956,
          3.501570028246828,
          3.5268879000111943,
          3.5629460304477956,
          3.534778894378477,
          3.534778894378477,
          3.5268879000111943,
          3.5268879000111943,
          3.534778894378477,
          3.501570028246828,
          3.5629460304477956,
          3.534778894378477,
          3.501570028246828,
          3.4795954658448855,
          3.501570028246828,
          3.534778894378477,
          3.534778894378477,
          3.534778894378477,
          3.534778894378477,
          3.534778894378477,
          3.501570028246828,
          3.534778894378477,
          3.534778894378477,
          3.534778894378477,
          3.501570028246828,
          3.534778894378477,
          3.5629460304477956,
          3.5268879000111943,
          3.534778894378477,
          3.5629460304477956,
          3.534778894378477,
          3.5268879000111943,
          3.5268879000111943,
          3.534778894378477,
          3.534778894378477,
          3.534778894378477,
          3.501570028246828,
          3.5268879000111943,
          3.534778894378477
         ],
         "xaxis": "x",
         "y": [
          -0.31424157773980294,
          -0.14949923422021882,
          0.09991444247789302,
          -0.31424157773980294,
          -0.03451376583700052,
          -0.03451376583700052,
          0.09991444247789302,
          0.09991444247789302,
          -0.03451376583700052,
          -0.14949923422021882,
          -0.31424157773980294,
          -0.03451376583700052,
          -0.14949923422021882,
          0.12479288004607593,
          -0.14949923422021882,
          -0.03451376583700052,
          -0.03451376583700052,
          -0.03451376583700052,
          -0.03451376583700052,
          -0.03451376583700052,
          -0.14949923422021882,
          -0.03451376583700052,
          -0.03451376583700052,
          -0.03451376583700052,
          -0.14949923422021882,
          -0.03451376583700052,
          -0.31424157773980294,
          0.09991444247789302,
          -0.03451376583700052,
          -0.31424157773980294,
          -0.03451376583700052,
          0.09991444247789302,
          0.09991444247789302,
          -0.03451376583700052,
          -0.03451376583700052,
          -0.03451376583700052,
          -0.14949923422021882,
          0.09991444247789302,
          -0.03451376583700052
         ],
         "yaxis": "y"
        },
        {
         "hovertemplate": "Cluster=7<br>X=%{x}<br>Y=%{y}<br>size=%{marker.size}<extra></extra>",
         "legendgroup": "7",
         "marker": {
          "color": "#FECB52",
          "size": [
           10,
           10,
           10,
           10,
           10,
           10,
           10,
           10,
           10,
           10,
           10,
           10,
           10,
           10,
           10,
           10,
           10,
           10,
           10,
           10,
           10,
           10,
           10,
           10,
           10,
           10,
           10,
           10,
           10,
           10,
           10,
           10,
           10,
           10,
           10,
           10,
           10,
           10,
           10,
           10,
           10,
           10,
           10,
           10,
           10,
           10,
           10,
           10,
           10,
           10,
           10,
           10,
           10,
           10,
           10,
           10,
           10,
           10,
           10,
           10,
           10,
           10,
           10,
           10,
           10,
           10,
           10,
           10,
           10,
           10,
           10,
           10,
           10,
           10,
           10,
           10,
           10,
           10,
           10,
           10,
           10,
           10,
           10,
           10,
           10,
           10,
           10,
           10,
           10,
           10,
           10,
           10,
           10,
           10,
           10,
           10,
           10,
           10,
           10,
           10,
           10,
           10,
           10,
           10
          ],
          "sizemode": "area",
          "sizeref": 0.025,
          "symbol": "circle"
         },
         "mode": "markers",
         "name": "7",
         "orientation": "v",
         "showlegend": true,
         "type": "scatter",
         "x": [
          -1.5072433045526354,
          -1.5072433045526354,
          -1.5072433045526354,
          -1.5072433045526354,
          -1.5072433045526354,
          -1.5072433045526354,
          -1.5072433045526354,
          -1.5072433045526354,
          -1.5072433045526354,
          -1.5072433045526354,
          -1.5072433045526354,
          -1.5072433045526354,
          -1.5072433045526354,
          -1.5072433045526354,
          -1.5072433045526354,
          -1.5072433045526354,
          -1.5072433045526354,
          -1.5072433045526354,
          -1.5072433045526354,
          -1.5072433045526354,
          -1.5072433045526354,
          -1.5072433045526354,
          -1.5072433045526354,
          -1.5072433045526354,
          -1.5072433045526354,
          -1.5072433045526354,
          -1.5072433045526354,
          -1.5072433045526354,
          -1.5072433045526354,
          -1.5072433045526354,
          -1.5072433045526354,
          -1.5072433045526354,
          -1.5072433045526354,
          -1.5072433045526354,
          -1.5072433045526354,
          -1.5072433045526354,
          -1.5072433045526354,
          -1.5072433045526354,
          -1.5072433045526354,
          -1.5072433045526354,
          -1.5072433045526354,
          -1.5072433045526354,
          -1.5072433045526354,
          -1.5072433045526354,
          -1.5072433045526354,
          -1.5072433045526354,
          -1.5072433045526354,
          -1.5072433045526354,
          -1.5072433045526354,
          -1.5072433045526354,
          -1.5072433045526354,
          -1.5072433045526354,
          -1.5072433045526354,
          -1.5072433045526354,
          -1.5072433045526354,
          -1.5072433045526354,
          -1.5072433045526354,
          -1.5072433045526354,
          -1.5072433045526354,
          -1.5072433045526354,
          -1.5072433045526354,
          -1.5072433045526354,
          -1.5072433045526354,
          -1.5072433045526354,
          -1.5072433045526354,
          -1.5072433045526354,
          -1.5072433045526354,
          -1.5072433045526354,
          -1.5072433045526354,
          -1.5072433045526354,
          -1.5072433045526354,
          -1.5072433045526354,
          -1.5072433045526354,
          -1.5072433045526354,
          -1.5072433045526354,
          -1.5072433045526354,
          -1.5072433045526354,
          -1.5072433045526354,
          -1.5072433045526354,
          -1.5072433045526354,
          -1.5072433045526354,
          -1.5072433045526354,
          -1.5072433045526354,
          -1.5072433045526354,
          -1.5072433045526354,
          -1.5072433045526354,
          -1.5072433045526354,
          -1.5072433045526354,
          -1.5072433045526354,
          -1.5072433045526354,
          -1.5072433045526354,
          -1.5072433045526354,
          -1.5072433045526354,
          -1.5072433045526354,
          -1.5072433045526354,
          -1.5072433045526354,
          -1.5072433045526354,
          -1.5072433045526354,
          -1.5072433045526354,
          -1.5072433045526354,
          -1.5072433045526354,
          -1.5072433045526354,
          -1.5072433045526354,
          -1.5072433045526354
         ],
         "xaxis": "x",
         "y": [
          -0.5409549808485749,
          -0.5409549808485749,
          -0.5409549808485749,
          -0.5409549808485749,
          -0.5409549808485749,
          -0.5409549808485749,
          -0.5409549808485749,
          -0.5409549808485749,
          -0.5409549808485749,
          -0.5409549808485749,
          -0.5409549808485749,
          -0.5409549808485749,
          -0.5409549808485749,
          -0.5409549808485749,
          -0.5409549808485749,
          -0.5409549808485749,
          -0.5409549808485749,
          -0.5409549808485749,
          -0.5409549808485749,
          -0.5409549808485749,
          -0.5409549808485749,
          -0.5409549808485749,
          -0.5409549808485749,
          -0.5409549808485749,
          -0.5409549808485749,
          -0.5409549808485749,
          -0.5409549808485749,
          -0.5409549808485749,
          -0.5409549808485749,
          -0.5409549808485749,
          -0.5409549808485749,
          -0.5409549808485749,
          -0.5409549808485749,
          -0.5409549808485749,
          -0.5409549808485749,
          -0.5409549808485749,
          -0.5409549808485749,
          -0.5409549808485749,
          -0.5409549808485749,
          -0.5409549808485749,
          -0.5409549808485749,
          -0.5409549808485749,
          -0.5409549808485749,
          -0.5409549808485749,
          -0.5409549808485749,
          -0.5409549808485749,
          -0.5409549808485749,
          -0.5409549808485749,
          -0.5409549808485749,
          -0.5409549808485749,
          -0.5409549808485749,
          -0.5409549808485749,
          -0.5409549808485749,
          -0.5409549808485749,
          -0.5409549808485749,
          -0.5409549808485749,
          -0.5409549808485749,
          -0.5409549808485749,
          -0.5409549808485749,
          -0.5409549808485749,
          -0.5409549808485749,
          -0.5409549808485749,
          -0.5409549808485749,
          -0.5409549808485749,
          -0.5409549808485749,
          -0.5409549808485749,
          -0.5409549808485749,
          -0.5409549808485749,
          -0.5409549808485749,
          -0.5409549808485749,
          -0.5409549808485749,
          -0.5409549808485749,
          -0.5409549808485749,
          -0.5409549808485749,
          -0.5409549808485749,
          -0.5409549808485749,
          -0.5409549808485749,
          -0.5409549808485749,
          -0.5409549808485749,
          -0.5409549808485749,
          -0.5409549808485749,
          -0.5409549808485749,
          -0.5409549808485749,
          -0.5409549808485749,
          -0.5409549808485749,
          -0.5409549808485749,
          -0.5409549808485749,
          -0.5409549808485749,
          -0.5409549808485749,
          -0.5409549808485749,
          -0.5409549808485749,
          -0.5409549808485749,
          -0.5409549808485749,
          -0.5409549808485749,
          -0.5409549808485749,
          -0.5409549808485749,
          -0.5409549808485749,
          -0.5409549808485749,
          -0.5409549808485749,
          -0.5409549808485749,
          -0.5409549808485749,
          -0.5409549808485749,
          -0.5409549808485749,
          -0.5409549808485747
         ],
         "yaxis": "y"
        },
        {
         "marker": {
          "color": "white",
          "size": 15,
          "symbol": "x"
         },
         "mode": "markers+text",
         "name": "Centróide 0",
         "showlegend": true,
         "text": [
          "C-0"
         ],
         "textposition": "top center",
         "type": "scatter",
         "x": [
          5.451704238472206
         ],
         "y": [
          0.9480411188630374
         ]
        },
        {
         "marker": {
          "color": "white",
          "size": 15,
          "symbol": "x"
         },
         "mode": "markers+text",
         "name": "Centróide 1",
         "showlegend": true,
         "text": [
          "C-1"
         ],
         "textposition": "top center",
         "type": "scatter",
         "x": [
          4.493228905668725
         ],
         "y": [
          -0.45657126862037684
         ]
        },
        {
         "marker": {
          "color": "white",
          "size": 15,
          "symbol": "x"
         },
         "mode": "markers+text",
         "name": "Centróide 2",
         "showlegend": true,
         "text": [
          "C-2"
         ],
         "textposition": "top center",
         "type": "scatter",
         "x": [
          3.5295982079251553
         ],
         "y": [
          -0.06280179748082637
         ]
        },
        {
         "marker": {
          "color": "white",
          "size": 15,
          "symbol": "x"
         },
         "mode": "markers+text",
         "name": "Centróide 3",
         "showlegend": true,
         "text": [
          "C-3"
         ],
         "textposition": "top center",
         "type": "scatter",
         "x": [
          2.4353998387137796
         ],
         "y": [
          0.33974108391665736
         ]
        },
        {
         "marker": {
          "color": "white",
          "size": 15,
          "symbol": "x"
         },
         "mode": "markers+text",
         "name": "Centróide 4",
         "showlegend": true,
         "text": [
          "C-4"
         ],
         "textposition": "top center",
         "type": "scatter",
         "x": [
          1.510497600820398
         ],
         "y": [
          -0.0625331694818587
         ]
        },
        {
         "marker": {
          "color": "white",
          "size": 15,
          "symbol": "x"
         },
         "mode": "markers+text",
         "name": "Centróide 5",
         "showlegend": true,
         "text": [
          "C-5"
         ],
         "textposition": "top center",
         "type": "scatter",
         "x": [
          0.5378362386199166
         ],
         "y": [
          -0.9356748151716824
         ]
        },
        {
         "marker": {
          "color": "white",
          "size": 15,
          "symbol": "x"
         },
         "mode": "markers+text",
         "name": "Centróide 6",
         "showlegend": true,
         "text": [
          "C-6"
         ],
         "textposition": "top center",
         "type": "scatter",
         "x": [
          -0.5298270173048495
         ],
         "y": [
          0.027729490201514433
         ]
        },
        {
         "marker": {
          "color": "white",
          "size": 15,
          "symbol": "x"
         },
         "mode": "markers+text",
         "name": "Centróide 7",
         "showlegend": true,
         "text": [
          "C-7"
         ],
         "textposition": "top center",
         "type": "scatter",
         "x": [
          -1.5072433045526359
         ],
         "y": [
          -0.5409549808485749
         ]
        },
        {
         "marker": {
          "color": "white",
          "size": 15,
          "symbol": "x"
         },
         "mode": "markers+text",
         "name": "Centróide 8",
         "showlegend": true,
         "text": [
          "C-8"
         ],
         "textposition": "top center",
         "type": "scatter",
         "x": [
          -2.553336537116763
         ],
         "y": [
          0.15532506570790983
         ]
        },
        {
         "marker": {
          "color": "white",
          "size": 15,
          "symbol": "x"
         },
         "mode": "markers+text",
         "name": "Centróide 9",
         "showlegend": true,
         "text": [
          "C-9"
         ],
         "textposition": "top center",
         "type": "scatter",
         "x": [
          -3.570431992852264
         ],
         "y": [
          0.3743231243251772
         ]
        }
       ],
       "layout": {
        "height": 600,
        "legend": {
         "itemsizing": "constant",
         "title": {
          "text": "Cluster"
         },
         "tracegroupgap": 0
        },
        "margin": {
         "t": 60
        },
        "template": {
         "data": {
          "bar": [
           {
            "error_x": {
             "color": "#f2f5fa"
            },
            "error_y": {
             "color": "#f2f5fa"
            },
            "marker": {
             "line": {
              "color": "rgb(17,17,17)",
              "width": 0.5
             },
             "pattern": {
              "fillmode": "overlay",
              "size": 10,
              "solidity": 0.2
             }
            },
            "type": "bar"
           }
          ],
          "barpolar": [
           {
            "marker": {
             "line": {
              "color": "rgb(17,17,17)",
              "width": 0.5
             },
             "pattern": {
              "fillmode": "overlay",
              "size": 10,
              "solidity": 0.2
             }
            },
            "type": "barpolar"
           }
          ],
          "carpet": [
           {
            "aaxis": {
             "endlinecolor": "#A2B1C6",
             "gridcolor": "#506784",
             "linecolor": "#506784",
             "minorgridcolor": "#506784",
             "startlinecolor": "#A2B1C6"
            },
            "baxis": {
             "endlinecolor": "#A2B1C6",
             "gridcolor": "#506784",
             "linecolor": "#506784",
             "minorgridcolor": "#506784",
             "startlinecolor": "#A2B1C6"
            },
            "type": "carpet"
           }
          ],
          "choropleth": [
           {
            "colorbar": {
             "outlinewidth": 0,
             "ticks": ""
            },
            "type": "choropleth"
           }
          ],
          "contour": [
           {
            "colorbar": {
             "outlinewidth": 0,
             "ticks": ""
            },
            "colorscale": [
             [
              0,
              "#0d0887"
             ],
             [
              0.1111111111111111,
              "#46039f"
             ],
             [
              0.2222222222222222,
              "#7201a8"
             ],
             [
              0.3333333333333333,
              "#9c179e"
             ],
             [
              0.4444444444444444,
              "#bd3786"
             ],
             [
              0.5555555555555556,
              "#d8576b"
             ],
             [
              0.6666666666666666,
              "#ed7953"
             ],
             [
              0.7777777777777778,
              "#fb9f3a"
             ],
             [
              0.8888888888888888,
              "#fdca26"
             ],
             [
              1,
              "#f0f921"
             ]
            ],
            "type": "contour"
           }
          ],
          "contourcarpet": [
           {
            "colorbar": {
             "outlinewidth": 0,
             "ticks": ""
            },
            "type": "contourcarpet"
           }
          ],
          "heatmap": [
           {
            "colorbar": {
             "outlinewidth": 0,
             "ticks": ""
            },
            "colorscale": [
             [
              0,
              "#0d0887"
             ],
             [
              0.1111111111111111,
              "#46039f"
             ],
             [
              0.2222222222222222,
              "#7201a8"
             ],
             [
              0.3333333333333333,
              "#9c179e"
             ],
             [
              0.4444444444444444,
              "#bd3786"
             ],
             [
              0.5555555555555556,
              "#d8576b"
             ],
             [
              0.6666666666666666,
              "#ed7953"
             ],
             [
              0.7777777777777778,
              "#fb9f3a"
             ],
             [
              0.8888888888888888,
              "#fdca26"
             ],
             [
              1,
              "#f0f921"
             ]
            ],
            "type": "heatmap"
           }
          ],
          "heatmapgl": [
           {
            "colorbar": {
             "outlinewidth": 0,
             "ticks": ""
            },
            "colorscale": [
             [
              0,
              "#0d0887"
             ],
             [
              0.1111111111111111,
              "#46039f"
             ],
             [
              0.2222222222222222,
              "#7201a8"
             ],
             [
              0.3333333333333333,
              "#9c179e"
             ],
             [
              0.4444444444444444,
              "#bd3786"
             ],
             [
              0.5555555555555556,
              "#d8576b"
             ],
             [
              0.6666666666666666,
              "#ed7953"
             ],
             [
              0.7777777777777778,
              "#fb9f3a"
             ],
             [
              0.8888888888888888,
              "#fdca26"
             ],
             [
              1,
              "#f0f921"
             ]
            ],
            "type": "heatmapgl"
           }
          ],
          "histogram": [
           {
            "marker": {
             "pattern": {
              "fillmode": "overlay",
              "size": 10,
              "solidity": 0.2
             }
            },
            "type": "histogram"
           }
          ],
          "histogram2d": [
           {
            "colorbar": {
             "outlinewidth": 0,
             "ticks": ""
            },
            "colorscale": [
             [
              0,
              "#0d0887"
             ],
             [
              0.1111111111111111,
              "#46039f"
             ],
             [
              0.2222222222222222,
              "#7201a8"
             ],
             [
              0.3333333333333333,
              "#9c179e"
             ],
             [
              0.4444444444444444,
              "#bd3786"
             ],
             [
              0.5555555555555556,
              "#d8576b"
             ],
             [
              0.6666666666666666,
              "#ed7953"
             ],
             [
              0.7777777777777778,
              "#fb9f3a"
             ],
             [
              0.8888888888888888,
              "#fdca26"
             ],
             [
              1,
              "#f0f921"
             ]
            ],
            "type": "histogram2d"
           }
          ],
          "histogram2dcontour": [
           {
            "colorbar": {
             "outlinewidth": 0,
             "ticks": ""
            },
            "colorscale": [
             [
              0,
              "#0d0887"
             ],
             [
              0.1111111111111111,
              "#46039f"
             ],
             [
              0.2222222222222222,
              "#7201a8"
             ],
             [
              0.3333333333333333,
              "#9c179e"
             ],
             [
              0.4444444444444444,
              "#bd3786"
             ],
             [
              0.5555555555555556,
              "#d8576b"
             ],
             [
              0.6666666666666666,
              "#ed7953"
             ],
             [
              0.7777777777777778,
              "#fb9f3a"
             ],
             [
              0.8888888888888888,
              "#fdca26"
             ],
             [
              1,
              "#f0f921"
             ]
            ],
            "type": "histogram2dcontour"
           }
          ],
          "mesh3d": [
           {
            "colorbar": {
             "outlinewidth": 0,
             "ticks": ""
            },
            "type": "mesh3d"
           }
          ],
          "parcoords": [
           {
            "line": {
             "colorbar": {
              "outlinewidth": 0,
              "ticks": ""
             }
            },
            "type": "parcoords"
           }
          ],
          "pie": [
           {
            "automargin": true,
            "type": "pie"
           }
          ],
          "scatter": [
           {
            "marker": {
             "line": {
              "color": "#283442"
             }
            },
            "type": "scatter"
           }
          ],
          "scatter3d": [
           {
            "line": {
             "colorbar": {
              "outlinewidth": 0,
              "ticks": ""
             }
            },
            "marker": {
             "colorbar": {
              "outlinewidth": 0,
              "ticks": ""
             }
            },
            "type": "scatter3d"
           }
          ],
          "scattercarpet": [
           {
            "marker": {
             "colorbar": {
              "outlinewidth": 0,
              "ticks": ""
             }
            },
            "type": "scattercarpet"
           }
          ],
          "scattergeo": [
           {
            "marker": {
             "colorbar": {
              "outlinewidth": 0,
              "ticks": ""
             }
            },
            "type": "scattergeo"
           }
          ],
          "scattergl": [
           {
            "marker": {
             "line": {
              "color": "#283442"
             }
            },
            "type": "scattergl"
           }
          ],
          "scattermapbox": [
           {
            "marker": {
             "colorbar": {
              "outlinewidth": 0,
              "ticks": ""
             }
            },
            "type": "scattermapbox"
           }
          ],
          "scatterpolar": [
           {
            "marker": {
             "colorbar": {
              "outlinewidth": 0,
              "ticks": ""
             }
            },
            "type": "scatterpolar"
           }
          ],
          "scatterpolargl": [
           {
            "marker": {
             "colorbar": {
              "outlinewidth": 0,
              "ticks": ""
             }
            },
            "type": "scatterpolargl"
           }
          ],
          "scatterternary": [
           {
            "marker": {
             "colorbar": {
              "outlinewidth": 0,
              "ticks": ""
             }
            },
            "type": "scatterternary"
           }
          ],
          "surface": [
           {
            "colorbar": {
             "outlinewidth": 0,
             "ticks": ""
            },
            "colorscale": [
             [
              0,
              "#0d0887"
             ],
             [
              0.1111111111111111,
              "#46039f"
             ],
             [
              0.2222222222222222,
              "#7201a8"
             ],
             [
              0.3333333333333333,
              "#9c179e"
             ],
             [
              0.4444444444444444,
              "#bd3786"
             ],
             [
              0.5555555555555556,
              "#d8576b"
             ],
             [
              0.6666666666666666,
              "#ed7953"
             ],
             [
              0.7777777777777778,
              "#fb9f3a"
             ],
             [
              0.8888888888888888,
              "#fdca26"
             ],
             [
              1,
              "#f0f921"
             ]
            ],
            "type": "surface"
           }
          ],
          "table": [
           {
            "cells": {
             "fill": {
              "color": "#506784"
             },
             "line": {
              "color": "rgb(17,17,17)"
             }
            },
            "header": {
             "fill": {
              "color": "#2a3f5f"
             },
             "line": {
              "color": "rgb(17,17,17)"
             }
            },
            "type": "table"
           }
          ]
         },
         "layout": {
          "annotationdefaults": {
           "arrowcolor": "#f2f5fa",
           "arrowhead": 0,
           "arrowwidth": 1
          },
          "autotypenumbers": "strict",
          "coloraxis": {
           "colorbar": {
            "outlinewidth": 0,
            "ticks": ""
           }
          },
          "colorscale": {
           "diverging": [
            [
             0,
             "#8e0152"
            ],
            [
             0.1,
             "#c51b7d"
            ],
            [
             0.2,
             "#de77ae"
            ],
            [
             0.3,
             "#f1b6da"
            ],
            [
             0.4,
             "#fde0ef"
            ],
            [
             0.5,
             "#f7f7f7"
            ],
            [
             0.6,
             "#e6f5d0"
            ],
            [
             0.7,
             "#b8e186"
            ],
            [
             0.8,
             "#7fbc41"
            ],
            [
             0.9,
             "#4d9221"
            ],
            [
             1,
             "#276419"
            ]
           ],
           "sequential": [
            [
             0,
             "#0d0887"
            ],
            [
             0.1111111111111111,
             "#46039f"
            ],
            [
             0.2222222222222222,
             "#7201a8"
            ],
            [
             0.3333333333333333,
             "#9c179e"
            ],
            [
             0.4444444444444444,
             "#bd3786"
            ],
            [
             0.5555555555555556,
             "#d8576b"
            ],
            [
             0.6666666666666666,
             "#ed7953"
            ],
            [
             0.7777777777777778,
             "#fb9f3a"
            ],
            [
             0.8888888888888888,
             "#fdca26"
            ],
            [
             1,
             "#f0f921"
            ]
           ],
           "sequentialminus": [
            [
             0,
             "#0d0887"
            ],
            [
             0.1111111111111111,
             "#46039f"
            ],
            [
             0.2222222222222222,
             "#7201a8"
            ],
            [
             0.3333333333333333,
             "#9c179e"
            ],
            [
             0.4444444444444444,
             "#bd3786"
            ],
            [
             0.5555555555555556,
             "#d8576b"
            ],
            [
             0.6666666666666666,
             "#ed7953"
            ],
            [
             0.7777777777777778,
             "#fb9f3a"
            ],
            [
             0.8888888888888888,
             "#fdca26"
            ],
            [
             1,
             "#f0f921"
            ]
           ]
          },
          "colorway": [
           "#636efa",
           "#EF553B",
           "#00cc96",
           "#ab63fa",
           "#FFA15A",
           "#19d3f3",
           "#FF6692",
           "#B6E880",
           "#FF97FF",
           "#FECB52"
          ],
          "font": {
           "color": "#f2f5fa"
          },
          "geo": {
           "bgcolor": "rgb(17,17,17)",
           "lakecolor": "rgb(17,17,17)",
           "landcolor": "rgb(17,17,17)",
           "showlakes": true,
           "showland": true,
           "subunitcolor": "#506784"
          },
          "hoverlabel": {
           "align": "left"
          },
          "hovermode": "closest",
          "mapbox": {
           "style": "dark"
          },
          "paper_bgcolor": "rgb(17,17,17)",
          "plot_bgcolor": "rgb(17,17,17)",
          "polar": {
           "angularaxis": {
            "gridcolor": "#506784",
            "linecolor": "#506784",
            "ticks": ""
           },
           "bgcolor": "rgb(17,17,17)",
           "radialaxis": {
            "gridcolor": "#506784",
            "linecolor": "#506784",
            "ticks": ""
           }
          },
          "scene": {
           "xaxis": {
            "backgroundcolor": "rgb(17,17,17)",
            "gridcolor": "#506784",
            "gridwidth": 2,
            "linecolor": "#506784",
            "showbackground": true,
            "ticks": "",
            "zerolinecolor": "#C8D4E3"
           },
           "yaxis": {
            "backgroundcolor": "rgb(17,17,17)",
            "gridcolor": "#506784",
            "gridwidth": 2,
            "linecolor": "#506784",
            "showbackground": true,
            "ticks": "",
            "zerolinecolor": "#C8D4E3"
           },
           "zaxis": {
            "backgroundcolor": "rgb(17,17,17)",
            "gridcolor": "#506784",
            "gridwidth": 2,
            "linecolor": "#506784",
            "showbackground": true,
            "ticks": "",
            "zerolinecolor": "#C8D4E3"
           }
          },
          "shapedefaults": {
           "line": {
            "color": "#f2f5fa"
           }
          },
          "sliderdefaults": {
           "bgcolor": "#C8D4E3",
           "bordercolor": "rgb(17,17,17)",
           "borderwidth": 1,
           "tickwidth": 0
          },
          "ternary": {
           "aaxis": {
            "gridcolor": "#506784",
            "linecolor": "#506784",
            "ticks": ""
           },
           "baxis": {
            "gridcolor": "#506784",
            "linecolor": "#506784",
            "ticks": ""
           },
           "bgcolor": "rgb(17,17,17)",
           "caxis": {
            "gridcolor": "#506784",
            "linecolor": "#506784",
            "ticks": ""
           }
          },
          "title": {
           "x": 0.05
          },
          "updatemenudefaults": {
           "bgcolor": "#506784",
           "borderwidth": 0
          },
          "xaxis": {
           "automargin": true,
           "gridcolor": "#283442",
           "linecolor": "#506784",
           "ticks": "",
           "title": {
            "standoff": 15
           },
           "zerolinecolor": "#283442",
           "zerolinewidth": 2
          },
          "yaxis": {
           "automargin": true,
           "gridcolor": "#283442",
           "linecolor": "#506784",
           "ticks": "",
           "title": {
            "standoff": 15
           },
           "zerolinecolor": "#283442",
           "zerolinewidth": 2
          }
         }
        },
        "title": {
         "text": "Visualização dos Clusters (AgglomerativeClustering)",
         "x": 0.5,
         "xanchor": "center",
         "yanchor": "top"
        },
        "width": 900,
        "xaxis": {
         "anchor": "y",
         "domain": [
          0,
          1
         ],
         "title": {
          "text": "X"
         }
        },
        "yaxis": {
         "anchor": "x",
         "domain": [
          0,
          1
         ],
         "title": {
          "text": "Y"
         }
        }
       }
      }
     },
     "metadata": {},
     "output_type": "display_data"
    }
   ],
   "source": [
    "\n",
    "plotClusters(X_titanic, labels)"
   ]
  },
  {
   "cell_type": "code",
   "execution_count": 65,
   "id": "22b6e157d25e275c",
   "metadata": {
    "ExecuteTime": {
     "end_time": "2024-12-06T12:20:54.048598Z",
     "start_time": "2024-12-06T12:20:54.017095Z"
    },
    "id": "22b6e157d25e275c",
    "outputId": "63cd2ae6-81f5-49a8-e12e-b962ac2cbf04"
   },
   "outputs": [
    {
     "name": "stdout",
     "output_type": "stream",
     "text": [
      "Coeficiente médio de silhueta (Geral): 0.904\n",
      "\n",
      "Coeficiente médio de silhueta por cluster:\n",
      "Cluster\n",
      "0    0.727\n",
      "1    0.873\n",
      "2    0.648\n",
      "3    0.835\n",
      "4    1.000\n",
      "5    0.834\n",
      "6    0.845\n",
      "7    1.000\n",
      "8    1.000\n",
      "9    1.000\n",
      "Name: Silhouette, dtype: float64\n"
     ]
    }
   ],
   "source": [
    "calculateSilhouette(X_titanic, labels)"
   ]
  },
  {
   "cell_type": "code",
   "execution_count": 66,
   "id": "900894c0a41f8c40",
   "metadata": {
    "ExecuteTime": {
     "end_time": "2024-12-06T12:20:54.081416Z",
     "start_time": "2024-12-06T12:20:54.068732Z"
    },
    "id": "900894c0a41f8c40",
    "outputId": "4238cf86-7a2f-48f8-c857-04a5be221a68"
   },
   "outputs": [
    {
     "data": {
      "text/plain": [
       "{'Davies-Bouldin Index': 0.25, 'Calinski-Harabasz Index': 21891.25}"
      ]
     },
     "execution_count": 66,
     "metadata": {},
     "output_type": "execute_result"
    }
   ],
   "source": [
    "calculateClusteringMetrics(X_titanic, labels)"
   ]
  },
  {
   "cell_type": "markdown",
   "id": "94fd368996402fe3",
   "metadata": {
    "id": "94fd368996402fe3"
   },
   "source": [
    "## Etapa 6: Análise dos Clusters"
   ]
  },
  {
   "cell_type": "code",
   "execution_count": 67,
   "id": "e2246063",
   "metadata": {
    "ExecuteTime": {
     "end_time": "2024-12-06T12:20:54.131098Z",
     "start_time": "2024-12-06T12:20:54.122422Z"
    },
    "executionInfo": {
     "elapsed": 249,
     "status": "ok",
     "timestamp": 1733852780965,
     "user": {
      "displayName": "François Barbosa",
      "userId": "14896221271618559833"
     },
     "user_tz": 180
    },
    "id": "e2246063"
   },
   "outputs": [],
   "source": [
    "# region Mapeamentos das variáveis mais Influentes\n",
    "# Mapeamento\n",
    "classMapping = {1: \"Classe A\", 2: \"Classe B\", 3: \"Classe C\"}\n",
    "sexMapping = {0: \"Feminino\", 1: \"Masculino\"}\n",
    "ageMapping = {0: \"Adultos (18-50)\", 1: \"Idosos (50+)\", 2: \"Jovens (0-17)\"}\n",
    "embarkedMapping = {1: \"Cherbourg\", 2: \"Queenstown\", 3: \"Southampton\"}\n",
    "\n",
    "data = titanic.copy()\n",
    "data[\"Cluster\"] = labels\n",
    "\n",
    "# Aplicação do Mapeamento\n",
    "data[\"Pclass\"] = data[\"Pclass\"].map(classMapping)\n",
    "data[\"Sex\"] = data[\"Sex\"].map(sexMapping)\n",
    "data[\"AgeGroup\"] = data[\"AgeGroup\"].map(ageMapping)\n",
    "data[\"Embarked\"] = data[\"Embarked\"].map(embarkedMapping)\n",
    "# endregion"
   ]
  },
  {
   "cell_type": "code",
   "execution_count": 68,
   "id": "4c589749",
   "metadata": {
    "ExecuteTime": {
     "end_time": "2024-12-06T12:20:54.584318Z",
     "start_time": "2024-12-06T12:20:54.161214Z"
    },
    "colab": {
     "base_uri": "https://localhost:8080/",
     "height": 616
    },
    "executionInfo": {
     "elapsed": 2158,
     "status": "ok",
     "timestamp": 1733852855514,
     "user": {
      "displayName": "François Barbosa",
      "userId": "14896221271618559833"
     },
     "user_tz": 180
    },
    "id": "4c589749",
    "outputId": "73c42f90-4640-4c50-b6f8-a9bd938f7378"
   },
   "outputs": [
    {
     "data": {
      "image/png": "[encoded data removed]",
      "text/plain": [
       "<Figure size 1200x720 with 1 Axes>"
      ]
     },
     "metadata": {},
     "output_type": "display_data"
    }
   ],
   "source": [
    "# region Taamanho de Amostras por Clusters\n",
    "clusterSizes = pd.Series(labels).value_counts()\n",
    "\n",
    "# Estilo do seaborn para o gráfico\n",
    "sns.set_theme(style=\"whitegrid\")\n",
    "\n",
    "# Criação do gráfico com formatação elegante\n",
    "plt.figure(figsize=(10, 6), dpi=120)\n",
    "ax = sns.barplot(x=clusterSizes.index, y=clusterSizes.values, palette=\"viridis\")\n",
    "\n",
    "# Configurações adicionais para tornar o gráfico mais elegante\n",
    "ax.set_title(\"Tamanho dos Clusters\", fontsize=14, weight=\"bold\")\n",
    "ax.set_xlabel(\"Cluster\", fontsize=12, labelpad=10)\n",
    "ax.set_ylabel(\"Número de Amostras\", fontsize=12, labelpad=10)\n",
    "\n",
    "for container in ax.containers:\n",
    "    ax.bar_label(container, fmt=\"%d\", label_type=\"edge\", fontsize=12, weight=\"bold\")\n",
    "\n",
    "plt.xticks(rotation=0, fontsize=14)\n",
    "plt.yticks(fontsize=12)\n",
    "plt.tight_layout()\n",
    "\n",
    "plt.show()\n",
    "# endregion"
   ]
  },
  {
   "cell_type": "code",
   "execution_count": 69,
   "id": "1031022d",
   "metadata": {
    "ExecuteTime": {
     "end_time": "2024-12-06T12:20:54.614786Z",
     "start_time": "2024-12-06T12:20:54.601636Z"
    },
    "id": "1031022d",
    "outputId": "42e414b2-cfad-44a4-a654-c28982c7371d"
   },
   "outputs": [
    {
     "data": {
      "text/html": [
       "<style type=\"text/css\">\n",
       "#T_63f83_row0_col0, #T_63f83_row0_col2, #T_63f83_row0_col8, #T_63f83_row2_col6, #T_63f83_row3_col5, #T_63f83_row3_col9 {\n",
       "  background-color: #fdd86e;\n",
       "}\n",
       "#T_63f83_row0_col3, #T_63f83_row0_col5, #T_63f83_row0_col7, #T_63f83_row1_col9, #T_63f83_row2_col1, #T_63f83_row2_col4, #T_63f83_row3_col0, #T_63f83_row3_col2, #T_63f83_row3_col6, #T_63f83_row3_col8 {\n",
       "  background-color: #ffa463;\n",
       "}\n",
       "#T_63f83_row0_col9, #T_63f83_row1_col0, #T_63f83_row1_col3, #T_63f83_row1_col4, #T_63f83_row1_col6, #T_63f83_row1_col8, #T_63f83_row2_col2, #T_63f83_row2_col5, #T_63f83_row3_col1, #T_63f83_row3_col7 {\n",
       "  background-color: #f66b40;\n",
       "}\n",
       "</style>\n",
       "<table id=\"T_63f83\">\n",
       "  <thead>\n",
       "    <tr>\n",
       "      <th class=\"index_name level0\" >Cluster</th>\n",
       "      <th id=\"T_63f83_level0_col0\" class=\"col_heading level0 col0\" >0</th>\n",
       "      <th id=\"T_63f83_level0_col1\" class=\"col_heading level0 col1\" >1</th>\n",
       "      <th id=\"T_63f83_level0_col2\" class=\"col_heading level0 col2\" >2</th>\n",
       "      <th id=\"T_63f83_level0_col3\" class=\"col_heading level0 col3\" >3</th>\n",
       "      <th id=\"T_63f83_level0_col4\" class=\"col_heading level0 col4\" >4</th>\n",
       "      <th id=\"T_63f83_level0_col5\" class=\"col_heading level0 col5\" >5</th>\n",
       "      <th id=\"T_63f83_level0_col6\" class=\"col_heading level0 col6\" >6</th>\n",
       "      <th id=\"T_63f83_level0_col7\" class=\"col_heading level0 col7\" >7</th>\n",
       "      <th id=\"T_63f83_level0_col8\" class=\"col_heading level0 col8\" >8</th>\n",
       "      <th id=\"T_63f83_level0_col9\" class=\"col_heading level0 col9\" >9</th>\n",
       "    </tr>\n",
       "  </thead>\n",
       "  <tbody>\n",
       "    <tr>\n",
       "      <th id=\"T_63f83_level0_row0\" class=\"row_heading level0 row0\" >Pclass</th>\n",
       "      <td id=\"T_63f83_row0_col0\" class=\"data row0 col0\" >0.843</td>\n",
       "      <td id=\"T_63f83_row0_col1\" class=\"data row0 col1\" >0.000</td>\n",
       "      <td id=\"T_63f83_row0_col2\" class=\"data row0 col2\" >0.603</td>\n",
       "      <td id=\"T_63f83_row0_col3\" class=\"data row0 col3\" >0.842</td>\n",
       "      <td id=\"T_63f83_row0_col4\" class=\"data row0 col4\" >0.000</td>\n",
       "      <td id=\"T_63f83_row0_col5\" class=\"data row0 col5\" >0.041</td>\n",
       "      <td id=\"T_63f83_row0_col6\" class=\"data row0 col6\" >0.000</td>\n",
       "      <td id=\"T_63f83_row0_col7\" class=\"data row0 col7\" >0.500</td>\n",
       "      <td id=\"T_63f83_row0_col8\" class=\"data row0 col8\" >0.500</td>\n",
       "      <td id=\"T_63f83_row0_col9\" class=\"data row0 col9\" >1.000</td>\n",
       "    </tr>\n",
       "    <tr>\n",
       "      <th id=\"T_63f83_level0_row1\" class=\"row_heading level0 row1\" >Sex</th>\n",
       "      <td id=\"T_63f83_row1_col0\" class=\"data row1 col0\" >1.000</td>\n",
       "      <td id=\"T_63f83_row1_col1\" class=\"data row1 col1\" >0.000</td>\n",
       "      <td id=\"T_63f83_row1_col2\" class=\"data row1 col2\" >0.000</td>\n",
       "      <td id=\"T_63f83_row1_col3\" class=\"data row1 col3\" >1.000</td>\n",
       "      <td id=\"T_63f83_row1_col4\" class=\"data row1 col4\" >1.000</td>\n",
       "      <td id=\"T_63f83_row1_col5\" class=\"data row1 col5\" >0.000</td>\n",
       "      <td id=\"T_63f83_row1_col6\" class=\"data row1 col6\" >1.000</td>\n",
       "      <td id=\"T_63f83_row1_col7\" class=\"data row1 col7\" >0.000</td>\n",
       "      <td id=\"T_63f83_row1_col8\" class=\"data row1 col8\" >1.000</td>\n",
       "      <td id=\"T_63f83_row1_col9\" class=\"data row1 col9\" >1.000</td>\n",
       "    </tr>\n",
       "    <tr>\n",
       "      <th id=\"T_63f83_level0_row2\" class=\"row_heading level0 row2\" >AgeGroup</th>\n",
       "      <td id=\"T_63f83_row2_col0\" class=\"data row2 col0\" >0.843</td>\n",
       "      <td id=\"T_63f83_row2_col1\" class=\"data row2 col1\" >0.117</td>\n",
       "      <td id=\"T_63f83_row2_col2\" class=\"data row2 col2\" >0.897</td>\n",
       "      <td id=\"T_63f83_row2_col3\" class=\"data row2 col3\" >0.000</td>\n",
       "      <td id=\"T_63f83_row2_col4\" class=\"data row2 col4\" >0.500</td>\n",
       "      <td id=\"T_63f83_row2_col5\" class=\"data row2 col5\" >0.102</td>\n",
       "      <td id=\"T_63f83_row2_col6\" class=\"data row2 col6\" >0.167</td>\n",
       "      <td id=\"T_63f83_row2_col7\" class=\"data row2 col7\" >0.000</td>\n",
       "      <td id=\"T_63f83_row2_col8\" class=\"data row2 col8\" >0.000</td>\n",
       "      <td id=\"T_63f83_row2_col9\" class=\"data row2 col9\" >0.000</td>\n",
       "    </tr>\n",
       "    <tr>\n",
       "      <th id=\"T_63f83_level0_row3\" class=\"row_heading level0 row3\" >Embarked</th>\n",
       "      <td id=\"T_63f83_row3_col0\" class=\"data row3 col0\" >0.888</td>\n",
       "      <td id=\"T_63f83_row3_col1\" class=\"data row3 col1\" >1.000</td>\n",
       "      <td id=\"T_63f83_row3_col2\" class=\"data row3 col2\" >0.782</td>\n",
       "      <td id=\"T_63f83_row3_col3\" class=\"data row3 col3\" >0.000</td>\n",
       "      <td id=\"T_63f83_row3_col4\" class=\"data row3 col4\" >0.000</td>\n",
       "      <td id=\"T_63f83_row3_col5\" class=\"data row3 col5\" >0.010</td>\n",
       "      <td id=\"T_63f83_row3_col6\" class=\"data row3 col6\" >0.992</td>\n",
       "      <td id=\"T_63f83_row3_col7\" class=\"data row3 col7\" >1.000</td>\n",
       "      <td id=\"T_63f83_row3_col8\" class=\"data row3 col8\" >1.000</td>\n",
       "      <td id=\"T_63f83_row3_col9\" class=\"data row3 col9\" >1.000</td>\n",
       "    </tr>\n",
       "  </tbody>\n",
       "</table>\n"
      ],
      "text/plain": [
       "<pandas.io.formats.style.Styler at 0x1e47053fe90>"
      ]
     },
     "execution_count": 69,
     "metadata": {},
     "output_type": "execute_result"
    }
   ],
   "source": [
    "topInfluences"
   ]
  },
  {
   "cell_type": "markdown",
   "id": "046b013b",
   "metadata": {
    "id": "046b013b"
   },
   "source": [
    "### Cluster 0"
   ]
  },
  {
   "cell_type": "code",
   "execution_count": 70,
   "id": "dc5da496",
   "metadata": {
    "ExecuteTime": {
     "end_time": "2024-12-06T12:20:54.657367Z",
     "start_time": "2024-12-06T12:20:54.644122Z"
    },
    "id": "dc5da496",
    "outputId": "8651fb43-7300-4ac0-cece-8cb3eb705208"
   },
   "outputs": [
    {
     "data": {
      "text/html": [
       "<div>\n",
       "<style scoped>\n",
       "    .dataframe tbody tr th:only-of-type {\n",
       "        vertical-align: middle;\n",
       "    }\n",
       "\n",
       "    .dataframe tbody tr th {\n",
       "        vertical-align: top;\n",
       "    }\n",
       "\n",
       "    .dataframe thead th {\n",
       "        text-align: right;\n",
       "    }\n",
       "</style>\n",
       "<table border=\"1\" class=\"dataframe\">\n",
       "  <thead>\n",
       "    <tr style=\"text-align: right;\">\n",
       "      <th></th>\n",
       "      <th>Sexo</th>\n",
       "      <th>Porto</th>\n",
       "      <th>Classe</th>\n",
       "      <th>Total</th>\n",
       "      <th>Sobreviventes</th>\n",
       "    </tr>\n",
       "  </thead>\n",
       "  <tbody>\n",
       "    <tr>\n",
       "      <th>0</th>\n",
       "      <td>Masculino</td>\n",
       "      <td>Cherbourg</td>\n",
       "      <td>Classe C</td>\n",
       "      <td>5</td>\n",
       "      <td>0</td>\n",
       "    </tr>\n",
       "    <tr>\n",
       "      <th>1</th>\n",
       "      <td>Masculino</td>\n",
       "      <td>Queenstown</td>\n",
       "      <td>Classe B</td>\n",
       "      <td>3</td>\n",
       "      <td>0</td>\n",
       "    </tr>\n",
       "    <tr>\n",
       "      <th>2</th>\n",
       "      <td>Masculino</td>\n",
       "      <td>Queenstown</td>\n",
       "      <td>Classe C</td>\n",
       "      <td>7</td>\n",
       "      <td>0</td>\n",
       "    </tr>\n",
       "    <tr>\n",
       "      <th>3</th>\n",
       "      <td>Masculino</td>\n",
       "      <td>Southampton</td>\n",
       "      <td>Classe B</td>\n",
       "      <td>25</td>\n",
       "      <td>11</td>\n",
       "    </tr>\n",
       "    <tr>\n",
       "      <th>4</th>\n",
       "      <td>Masculino</td>\n",
       "      <td>Southampton</td>\n",
       "      <td>Classe C</td>\n",
       "      <td>49</td>\n",
       "      <td>0</td>\n",
       "    </tr>\n",
       "  </tbody>\n",
       "</table>\n",
       "</div>"
      ],
      "text/plain": [
       "        Sexo        Porto    Classe  Total  Sobreviventes\n",
       "0  Masculino    Cherbourg  Classe C      5              0\n",
       "1  Masculino   Queenstown  Classe B      3              0\n",
       "2  Masculino   Queenstown  Classe C      7              0\n",
       "3  Masculino  Southampton  Classe B     25             11\n",
       "4  Masculino  Southampton  Classe C     49              0"
      ]
     },
     "execution_count": 70,
     "metadata": {},
     "output_type": "execute_result"
    }
   ],
   "source": [
    "# region Cluster 0\n",
    "cluster = 0\n",
    "cols = getInfluentialVariables(topInfluences.data, cluster)\n",
    "grouped = translateFields(cols)\n",
    "\n",
    "filterByCluster(data=data, cluster=cluster, cols=cols, grouped=grouped)\n",
    "#endregion"
   ]
  },
  {
   "cell_type": "markdown",
   "id": "eb70deeb",
   "metadata": {
    "id": "eb70deeb"
   },
   "source": [
    "### Cluster 1"
   ]
  },
  {
   "cell_type": "code",
   "execution_count": 71,
   "id": "16d9d8ed",
   "metadata": {
    "ExecuteTime": {
     "end_time": "2024-12-06T12:20:54.715457Z",
     "start_time": "2024-12-06T12:20:54.701034Z"
    },
    "id": "16d9d8ed",
    "outputId": "46a90039-0901-46b6-f2bc-da6e5399d100"
   },
   "outputs": [
    {
     "data": {
      "text/html": [
       "<div>\n",
       "<style scoped>\n",
       "    .dataframe tbody tr th:only-of-type {\n",
       "        vertical-align: middle;\n",
       "    }\n",
       "\n",
       "    .dataframe tbody tr th {\n",
       "        vertical-align: top;\n",
       "    }\n",
       "\n",
       "    .dataframe thead th {\n",
       "        text-align: right;\n",
       "    }\n",
       "</style>\n",
       "<table border=\"1\" class=\"dataframe\">\n",
       "  <thead>\n",
       "    <tr style=\"text-align: right;\">\n",
       "      <th></th>\n",
       "      <th>Porto</th>\n",
       "      <th>Grupo de Idade</th>\n",
       "      <th>Classe</th>\n",
       "      <th>Total</th>\n",
       "      <th>Sobreviventes</th>\n",
       "    </tr>\n",
       "  </thead>\n",
       "  <tbody>\n",
       "    <tr>\n",
       "      <th>0</th>\n",
       "      <td>Southampton</td>\n",
       "      <td>Adultos (18-50)</td>\n",
       "      <td>Classe A</td>\n",
       "      <td>72</td>\n",
       "      <td>72</td>\n",
       "    </tr>\n",
       "    <tr>\n",
       "      <th>1</th>\n",
       "      <td>Southampton</td>\n",
       "      <td>Idosos (50+)</td>\n",
       "      <td>Classe A</td>\n",
       "      <td>22</td>\n",
       "      <td>22</td>\n",
       "    </tr>\n",
       "  </tbody>\n",
       "</table>\n",
       "</div>"
      ],
      "text/plain": [
       "         Porto   Grupo de Idade    Classe  Total  Sobreviventes\n",
       "0  Southampton  Adultos (18-50)  Classe A     72             72\n",
       "1  Southampton     Idosos (50+)  Classe A     22             22"
      ]
     },
     "execution_count": 71,
     "metadata": {},
     "output_type": "execute_result"
    }
   ],
   "source": [
    "# region Cluster 1\n",
    "cluster = 1\n",
    "cols = getInfluentialVariables(topInfluences.data, cluster)\n",
    "grouped = translateFields(cols)\n",
    "\n",
    "filterByCluster(data=data, cluster=cluster, cols=cols, grouped=grouped)\n",
    "#endregion"
   ]
  },
  {
   "cell_type": "markdown",
   "id": "557e67cc",
   "metadata": {
    "id": "557e67cc"
   },
   "source": [
    "### Cluster 2"
   ]
  },
  {
   "cell_type": "code",
   "execution_count": 72,
   "id": "a80979c5",
   "metadata": {
    "ExecuteTime": {
     "end_time": "2024-12-06T12:20:54.809576Z",
     "start_time": "2024-12-06T12:20:54.796636Z"
    },
    "id": "a80979c5",
    "outputId": "cc90cd1b-cf3d-4c27-c261-ca9c3b2116c8"
   },
   "outputs": [
    {
     "data": {
      "text/html": [
       "<div>\n",
       "<style scoped>\n",
       "    .dataframe tbody tr th:only-of-type {\n",
       "        vertical-align: middle;\n",
       "    }\n",
       "\n",
       "    .dataframe tbody tr th {\n",
       "        vertical-align: top;\n",
       "    }\n",
       "\n",
       "    .dataframe thead th {\n",
       "        text-align: right;\n",
       "    }\n",
       "</style>\n",
       "<table border=\"1\" class=\"dataframe\">\n",
       "  <thead>\n",
       "    <tr style=\"text-align: right;\">\n",
       "      <th></th>\n",
       "      <th>Grupo de Idade</th>\n",
       "      <th>Porto</th>\n",
       "      <th>Classe</th>\n",
       "      <th>Total</th>\n",
       "      <th>Sobreviventes</th>\n",
       "    </tr>\n",
       "  </thead>\n",
       "  <tbody>\n",
       "    <tr>\n",
       "      <th>0</th>\n",
       "      <td>Idosos (50+)</td>\n",
       "      <td>Southampton</td>\n",
       "      <td>Classe B</td>\n",
       "      <td>7</td>\n",
       "      <td>7</td>\n",
       "    </tr>\n",
       "    <tr>\n",
       "      <th>1</th>\n",
       "      <td>Idosos (50+)</td>\n",
       "      <td>Southampton</td>\n",
       "      <td>Classe C</td>\n",
       "      <td>1</td>\n",
       "      <td>1</td>\n",
       "    </tr>\n",
       "    <tr>\n",
       "      <th>2</th>\n",
       "      <td>Jovens (0-17)</td>\n",
       "      <td>Cherbourg</td>\n",
       "      <td>Classe B</td>\n",
       "      <td>5</td>\n",
       "      <td>5</td>\n",
       "    </tr>\n",
       "    <tr>\n",
       "      <th>3</th>\n",
       "      <td>Jovens (0-17)</td>\n",
       "      <td>Queenstown</td>\n",
       "      <td>Classe C</td>\n",
       "      <td>7</td>\n",
       "      <td>7</td>\n",
       "    </tr>\n",
       "    <tr>\n",
       "      <th>4</th>\n",
       "      <td>Jovens (0-17)</td>\n",
       "      <td>Southampton</td>\n",
       "      <td>Classe B</td>\n",
       "      <td>19</td>\n",
       "      <td>19</td>\n",
       "    </tr>\n",
       "  </tbody>\n",
       "</table>\n",
       "</div>"
      ],
      "text/plain": [
       "  Grupo de Idade        Porto    Classe  Total  Sobreviventes\n",
       "0   Idosos (50+)  Southampton  Classe B      7              7\n",
       "1   Idosos (50+)  Southampton  Classe C      1              1\n",
       "2  Jovens (0-17)    Cherbourg  Classe B      5              5\n",
       "3  Jovens (0-17)   Queenstown  Classe C      7              7\n",
       "4  Jovens (0-17)  Southampton  Classe B     19             19"
      ]
     },
     "execution_count": 72,
     "metadata": {},
     "output_type": "execute_result"
    }
   ],
   "source": [
    "# region Cluster 2\n",
    "cluster = 2\n",
    "cols = getInfluentialVariables(topInfluences.data, cluster)\n",
    "grouped = translateFields(cols)\n",
    "\n",
    "filterByCluster(data=data, cluster=cluster, cols=cols, grouped=grouped)\n",
    "#endregion"
   ]
  },
  {
   "cell_type": "markdown",
   "id": "464b75e2",
   "metadata": {
    "id": "464b75e2"
   },
   "source": [
    "### Cluster 3"
   ]
  },
  {
   "cell_type": "code",
   "execution_count": 73,
   "id": "eddaf49f",
   "metadata": {
    "ExecuteTime": {
     "end_time": "2024-12-06T12:20:55.105610Z",
     "start_time": "2024-12-06T12:20:55.092146Z"
    },
    "id": "eddaf49f",
    "outputId": "13666ee4-b4da-4a56-934d-5549818c8af4"
   },
   "outputs": [
    {
     "data": {
      "text/html": [
       "<div>\n",
       "<style scoped>\n",
       "    .dataframe tbody tr th:only-of-type {\n",
       "        vertical-align: middle;\n",
       "    }\n",
       "\n",
       "    .dataframe tbody tr th {\n",
       "        vertical-align: top;\n",
       "    }\n",
       "\n",
       "    .dataframe thead th {\n",
       "        text-align: right;\n",
       "    }\n",
       "</style>\n",
       "<table border=\"1\" class=\"dataframe\">\n",
       "  <thead>\n",
       "    <tr style=\"text-align: right;\">\n",
       "      <th></th>\n",
       "      <th>Sexo</th>\n",
       "      <th>Classe</th>\n",
       "      <th>Grupo de Idade</th>\n",
       "      <th>Total</th>\n",
       "      <th>Sobreviventes</th>\n",
       "    </tr>\n",
       "  </thead>\n",
       "  <tbody>\n",
       "    <tr>\n",
       "      <th>0</th>\n",
       "      <td>Masculino</td>\n",
       "      <td>Classe B</td>\n",
       "      <td>Adultos (18-50)</td>\n",
       "      <td>12</td>\n",
       "      <td>0</td>\n",
       "    </tr>\n",
       "    <tr>\n",
       "      <th>1</th>\n",
       "      <td>Masculino</td>\n",
       "      <td>Classe C</td>\n",
       "      <td>Adultos (18-50)</td>\n",
       "      <td>26</td>\n",
       "      <td>0</td>\n",
       "    </tr>\n",
       "  </tbody>\n",
       "</table>\n",
       "</div>"
      ],
      "text/plain": [
       "        Sexo    Classe   Grupo de Idade  Total  Sobreviventes\n",
       "0  Masculino  Classe B  Adultos (18-50)     12              0\n",
       "1  Masculino  Classe C  Adultos (18-50)     26              0"
      ]
     },
     "execution_count": 73,
     "metadata": {},
     "output_type": "execute_result"
    }
   ],
   "source": [
    "# region Cluster 3\n",
    "cluster = 3\n",
    "cols = getInfluentialVariables(topInfluences.data, cluster)\n",
    "grouped = translateFields(cols)\n",
    "\n",
    "filterByCluster(data=data, cluster=cluster, cols=cols, grouped=grouped)\n",
    "#endregion"
   ]
  },
  {
   "cell_type": "markdown",
   "id": "3e8d8197",
   "metadata": {
    "id": "3e8d8197"
   },
   "source": [
    "### Cluster 4"
   ]
  },
  {
   "cell_type": "code",
   "execution_count": 74,
   "id": "ffdaada9",
   "metadata": {
    "ExecuteTime": {
     "end_time": "2024-12-06T12:20:55.310973Z",
     "start_time": "2024-12-06T12:20:55.288559Z"
    },
    "id": "ffdaada9",
    "outputId": "42d0f024-1758-4609-9197-8f08d4ce0fb5"
   },
   "outputs": [
    {
     "data": {
      "text/html": [
       "<div>\n",
       "<style scoped>\n",
       "    .dataframe tbody tr th:only-of-type {\n",
       "        vertical-align: middle;\n",
       "    }\n",
       "\n",
       "    .dataframe tbody tr th {\n",
       "        vertical-align: top;\n",
       "    }\n",
       "\n",
       "    .dataframe thead th {\n",
       "        text-align: right;\n",
       "    }\n",
       "</style>\n",
       "<table border=\"1\" class=\"dataframe\">\n",
       "  <thead>\n",
       "    <tr style=\"text-align: right;\">\n",
       "      <th></th>\n",
       "      <th>Sexo</th>\n",
       "      <th>Grupo de Idade</th>\n",
       "      <th>Classe</th>\n",
       "      <th>Total</th>\n",
       "      <th>Sobreviventes</th>\n",
       "    </tr>\n",
       "  </thead>\n",
       "  <tbody>\n",
       "    <tr>\n",
       "      <th>0</th>\n",
       "      <td>Masculino</td>\n",
       "      <td>Idosos (50+)</td>\n",
       "      <td>Classe A</td>\n",
       "      <td>15</td>\n",
       "      <td>0</td>\n",
       "    </tr>\n",
       "  </tbody>\n",
       "</table>\n",
       "</div>"
      ],
      "text/plain": [
       "        Sexo Grupo de Idade    Classe  Total  Sobreviventes\n",
       "0  Masculino   Idosos (50+)  Classe A     15              0"
      ]
     },
     "execution_count": 74,
     "metadata": {},
     "output_type": "execute_result"
    }
   ],
   "source": [
    "# region Cluster 4\n",
    "cluster = 4\n",
    "cols = getInfluentialVariables(topInfluences.data, cluster)\n",
    "grouped = translateFields(cols)\n",
    "\n",
    "filterByCluster(data=data, cluster=cluster, cols=cols, grouped=grouped)\n",
    "#endregion"
   ]
  },
  {
   "cell_type": "markdown",
   "id": "bhS7zo4Fv0Ih",
   "metadata": {
    "id": "bhS7zo4Fv0Ih"
   },
   "source": []
  },
  {
   "cell_type": "markdown",
   "id": "4f0dadcc",
   "metadata": {
    "id": "4f0dadcc"
   },
   "source": [
    "### Cluster 5"
   ]
  },
  {
   "cell_type": "code",
   "execution_count": 75,
   "id": "283e19d1",
   "metadata": {
    "ExecuteTime": {
     "end_time": "2024-12-06T12:20:55.582772Z",
     "start_time": "2024-12-06T12:20:55.570459Z"
    },
    "id": "283e19d1",
    "outputId": "906dc0fb-235c-4104-a840-db1fd65facc6"
   },
   "outputs": [
    {
     "data": {
      "text/html": [
       "<div>\n",
       "<style scoped>\n",
       "    .dataframe tbody tr th:only-of-type {\n",
       "        vertical-align: middle;\n",
       "    }\n",
       "\n",
       "    .dataframe tbody tr th {\n",
       "        vertical-align: top;\n",
       "    }\n",
       "\n",
       "    .dataframe thead th {\n",
       "        text-align: right;\n",
       "    }\n",
       "</style>\n",
       "<table border=\"1\" class=\"dataframe\">\n",
       "  <thead>\n",
       "    <tr style=\"text-align: right;\">\n",
       "      <th></th>\n",
       "      <th>Grupo de Idade</th>\n",
       "      <th>Classe</th>\n",
       "      <th>Porto</th>\n",
       "      <th>Total</th>\n",
       "      <th>Sobreviventes</th>\n",
       "    </tr>\n",
       "  </thead>\n",
       "  <tbody>\n",
       "    <tr>\n",
       "      <th>0</th>\n",
       "      <td>Adultos (18-50)</td>\n",
       "      <td>Classe A</td>\n",
       "      <td>Cherbourg</td>\n",
       "      <td>68</td>\n",
       "      <td>68</td>\n",
       "    </tr>\n",
       "    <tr>\n",
       "      <th>1</th>\n",
       "      <td>Adultos (18-50)</td>\n",
       "      <td>Classe A</td>\n",
       "      <td>Queenstown</td>\n",
       "      <td>2</td>\n",
       "      <td>2</td>\n",
       "    </tr>\n",
       "    <tr>\n",
       "      <th>2</th>\n",
       "      <td>Adultos (18-50)</td>\n",
       "      <td>Classe B</td>\n",
       "      <td>Cherbourg</td>\n",
       "      <td>8</td>\n",
       "      <td>8</td>\n",
       "    </tr>\n",
       "    <tr>\n",
       "      <th>3</th>\n",
       "      <td>Idosos (50+)</td>\n",
       "      <td>Classe A</td>\n",
       "      <td>Cherbourg</td>\n",
       "      <td>20</td>\n",
       "      <td>20</td>\n",
       "    </tr>\n",
       "  </tbody>\n",
       "</table>\n",
       "</div>"
      ],
      "text/plain": [
       "    Grupo de Idade    Classe       Porto  Total  Sobreviventes\n",
       "0  Adultos (18-50)  Classe A   Cherbourg     68             68\n",
       "1  Adultos (18-50)  Classe A  Queenstown      2              2\n",
       "2  Adultos (18-50)  Classe B   Cherbourg      8              8\n",
       "3     Idosos (50+)  Classe A   Cherbourg     20             20"
      ]
     },
     "execution_count": 75,
     "metadata": {},
     "output_type": "execute_result"
    }
   ],
   "source": [
    "# region Cluster 5\n",
    "cluster = 5\n",
    "cols = getInfluentialVariables(topInfluences.data, cluster)\n",
    "grouped = translateFields(cols)\n",
    "\n",
    "filterByCluster(data=data, cluster=cluster, cols=cols, grouped=grouped)\n",
    "#endregion"
   ]
  },
  {
   "cell_type": "markdown",
   "id": "c1e235fe",
   "metadata": {
    "id": "c1e235fe"
   },
   "source": [
    "### Cluster 6"
   ]
  },
  {
   "cell_type": "code",
   "execution_count": 76,
   "id": "136ee820",
   "metadata": {
    "ExecuteTime": {
     "end_time": "2024-12-06T12:20:55.823617Z",
     "start_time": "2024-12-06T12:20:55.809348Z"
    },
    "id": "136ee820",
    "outputId": "8d520157-b34b-430f-fa83-92c29d04c164"
   },
   "outputs": [
    {
     "data": {
      "text/html": [
       "<div>\n",
       "<style scoped>\n",
       "    .dataframe tbody tr th:only-of-type {\n",
       "        vertical-align: middle;\n",
       "    }\n",
       "\n",
       "    .dataframe tbody tr th {\n",
       "        vertical-align: top;\n",
       "    }\n",
       "\n",
       "    .dataframe thead th {\n",
       "        text-align: right;\n",
       "    }\n",
       "</style>\n",
       "<table border=\"1\" class=\"dataframe\">\n",
       "  <thead>\n",
       "    <tr style=\"text-align: right;\">\n",
       "      <th></th>\n",
       "      <th>Sexo</th>\n",
       "      <th>Porto</th>\n",
       "      <th>Grupo de Idade</th>\n",
       "      <th>Total</th>\n",
       "      <th>Sobreviventes</th>\n",
       "    </tr>\n",
       "  </thead>\n",
       "  <tbody>\n",
       "    <tr>\n",
       "      <th>0</th>\n",
       "      <td>Masculino</td>\n",
       "      <td>Queenstown</td>\n",
       "      <td>Adultos (18-50)</td>\n",
       "      <td>1</td>\n",
       "      <td>0</td>\n",
       "    </tr>\n",
       "    <tr>\n",
       "      <th>1</th>\n",
       "      <td>Masculino</td>\n",
       "      <td>Southampton</td>\n",
       "      <td>Adultos (18-50)</td>\n",
       "      <td>41</td>\n",
       "      <td>0</td>\n",
       "    </tr>\n",
       "    <tr>\n",
       "      <th>2</th>\n",
       "      <td>Masculino</td>\n",
       "      <td>Southampton</td>\n",
       "      <td>Idosos (50+)</td>\n",
       "      <td>21</td>\n",
       "      <td>0</td>\n",
       "    </tr>\n",
       "  </tbody>\n",
       "</table>\n",
       "</div>"
      ],
      "text/plain": [
       "        Sexo        Porto   Grupo de Idade  Total  Sobreviventes\n",
       "0  Masculino   Queenstown  Adultos (18-50)      1              0\n",
       "1  Masculino  Southampton  Adultos (18-50)     41              0\n",
       "2  Masculino  Southampton     Idosos (50+)     21              0"
      ]
     },
     "execution_count": 76,
     "metadata": {},
     "output_type": "execute_result"
    }
   ],
   "source": [
    "# region Cluster 6\n",
    "cluster = 6\n",
    "cols = getInfluentialVariables(topInfluences.data, cluster)\n",
    "grouped = translateFields(cols)\n",
    "\n",
    "filterByCluster(data=data, cluster=cluster, cols=cols, grouped=grouped)\n",
    "#endregion"
   ]
  },
  {
   "cell_type": "markdown",
   "id": "7c711f9e",
   "metadata": {
    "id": "7c711f9e"
   },
   "source": [
    "### Cluster 7"
   ]
  },
  {
   "cell_type": "code",
   "execution_count": 77,
   "id": "2729c35c",
   "metadata": {
    "ExecuteTime": {
     "end_time": "2024-12-06T12:20:56.093338Z",
     "start_time": "2024-12-06T12:20:56.078832Z"
    },
    "id": "2729c35c",
    "outputId": "f0ee976e-8dbb-4038-884b-0a6511dc6be8"
   },
   "outputs": [
    {
     "data": {
      "text/html": [
       "<div>\n",
       "<style scoped>\n",
       "    .dataframe tbody tr th:only-of-type {\n",
       "        vertical-align: middle;\n",
       "    }\n",
       "\n",
       "    .dataframe tbody tr th {\n",
       "        vertical-align: top;\n",
       "    }\n",
       "\n",
       "    .dataframe thead th {\n",
       "        text-align: right;\n",
       "    }\n",
       "</style>\n",
       "<table border=\"1\" class=\"dataframe\">\n",
       "  <thead>\n",
       "    <tr style=\"text-align: right;\">\n",
       "      <th></th>\n",
       "      <th>Porto</th>\n",
       "      <th>Classe</th>\n",
       "      <th>Sexo</th>\n",
       "      <th>Total</th>\n",
       "      <th>Sobreviventes</th>\n",
       "    </tr>\n",
       "  </thead>\n",
       "  <tbody>\n",
       "    <tr>\n",
       "      <th>0</th>\n",
       "      <td>Southampton</td>\n",
       "      <td>Classe B</td>\n",
       "      <td>Feminino</td>\n",
       "      <td>104</td>\n",
       "      <td>104</td>\n",
       "    </tr>\n",
       "  </tbody>\n",
       "</table>\n",
       "</div>"
      ],
      "text/plain": [
       "         Porto    Classe      Sexo  Total  Sobreviventes\n",
       "0  Southampton  Classe B  Feminino    104            104"
      ]
     },
     "execution_count": 77,
     "metadata": {},
     "output_type": "execute_result"
    }
   ],
   "source": [
    "# region Cluster 7\n",
    "cluster = 7\n",
    "cols = getInfluentialVariables(topInfluences.data, cluster)\n",
    "grouped = translateFields(cols)\n",
    "\n",
    "filterByCluster(data=data, cluster=cluster, cols=cols, grouped=grouped)\n",
    "#endregion"
   ]
  },
  {
   "cell_type": "markdown",
   "id": "dae62a8c",
   "metadata": {
    "id": "dae62a8c"
   },
   "source": [
    "### Cluster 8"
   ]
  },
  {
   "cell_type": "code",
   "execution_count": 78,
   "id": "6d2a3ec0",
   "metadata": {
    "ExecuteTime": {
     "end_time": "2024-12-06T12:20:56.361472Z",
     "start_time": "2024-12-06T12:20:56.336145Z"
    },
    "id": "6d2a3ec0",
    "outputId": "e96a6aaf-58fd-4303-af5a-4cd9e2203492"
   },
   "outputs": [
    {
     "data": {
      "text/html": [
       "<div>\n",
       "<style scoped>\n",
       "    .dataframe tbody tr th:only-of-type {\n",
       "        vertical-align: middle;\n",
       "    }\n",
       "\n",
       "    .dataframe tbody tr th {\n",
       "        vertical-align: top;\n",
       "    }\n",
       "\n",
       "    .dataframe thead th {\n",
       "        text-align: right;\n",
       "    }\n",
       "</style>\n",
       "<table border=\"1\" class=\"dataframe\">\n",
       "  <thead>\n",
       "    <tr style=\"text-align: right;\">\n",
       "      <th></th>\n",
       "      <th>Sexo</th>\n",
       "      <th>Porto</th>\n",
       "      <th>Classe</th>\n",
       "      <th>Total</th>\n",
       "      <th>Sobreviventes</th>\n",
       "    </tr>\n",
       "  </thead>\n",
       "  <tbody>\n",
       "    <tr>\n",
       "      <th>0</th>\n",
       "      <td>Masculino</td>\n",
       "      <td>Southampton</td>\n",
       "      <td>Classe B</td>\n",
       "      <td>107</td>\n",
       "      <td>0</td>\n",
       "    </tr>\n",
       "  </tbody>\n",
       "</table>\n",
       "</div>"
      ],
      "text/plain": [
       "        Sexo        Porto    Classe  Total  Sobreviventes\n",
       "0  Masculino  Southampton  Classe B    107              0"
      ]
     },
     "execution_count": 78,
     "metadata": {},
     "output_type": "execute_result"
    }
   ],
   "source": [
    "# region Cluster 8\n",
    "cluster = 8\n",
    "cols = getInfluentialVariables(topInfluences.data, cluster)\n",
    "grouped = translateFields(cols)\n",
    "\n",
    "filterByCluster(data=data, cluster=cluster, cols=cols, grouped=grouped)\n",
    "#endregion"
   ]
  },
  {
   "cell_type": "markdown",
   "id": "45b1bfd0",
   "metadata": {
    "id": "45b1bfd0"
   },
   "source": [
    "### Cluster 9"
   ]
  },
  {
   "cell_type": "code",
   "execution_count": 79,
   "id": "3ba31aef",
   "metadata": {
    "ExecuteTime": {
     "end_time": "2024-12-06T12:20:56.677888Z",
     "start_time": "2024-12-06T12:20:56.663183Z"
    },
    "id": "3ba31aef",
    "outputId": "57ab6d12-ab0a-4db6-9e22-ba3abb459268"
   },
   "outputs": [
    {
     "data": {
      "text/html": [
       "<div>\n",
       "<style scoped>\n",
       "    .dataframe tbody tr th:only-of-type {\n",
       "        vertical-align: middle;\n",
       "    }\n",
       "\n",
       "    .dataframe tbody tr th {\n",
       "        vertical-align: top;\n",
       "    }\n",
       "\n",
       "    .dataframe thead th {\n",
       "        text-align: right;\n",
       "    }\n",
       "</style>\n",
       "<table border=\"1\" class=\"dataframe\">\n",
       "  <thead>\n",
       "    <tr style=\"text-align: right;\">\n",
       "      <th></th>\n",
       "      <th>Classe</th>\n",
       "      <th>Sexo</th>\n",
       "      <th>Porto</th>\n",
       "      <th>Total</th>\n",
       "      <th>Sobreviventes</th>\n",
       "    </tr>\n",
       "  </thead>\n",
       "  <tbody>\n",
       "    <tr>\n",
       "      <th>0</th>\n",
       "      <td>Classe C</td>\n",
       "      <td>Masculino</td>\n",
       "      <td>Southampton</td>\n",
       "      <td>210</td>\n",
       "      <td>0</td>\n",
       "    </tr>\n",
       "  </tbody>\n",
       "</table>\n",
       "</div>"
      ],
      "text/plain": [
       "     Classe       Sexo        Porto  Total  Sobreviventes\n",
       "0  Classe C  Masculino  Southampton    210              0"
      ]
     },
     "execution_count": 79,
     "metadata": {},
     "output_type": "execute_result"
    }
   ],
   "source": [
    "# region Cluster 9\n",
    "cluster = 9\n",
    "cols = getInfluentialVariables(topInfluences.data, cluster)\n",
    "grouped = translateFields(cols)\n",
    "\n",
    "filterByCluster(data=data, cluster=cluster, cols=cols, grouped=grouped)\n",
    "#endregion"
   ]
  },
  {
   "cell_type": "markdown",
   "id": "861c5f98",
   "metadata": {
    "id": "861c5f98"
   },
   "source": [
    "### Outros Resultados"
   ]
  },
  {
   "cell_type": "code",
   "execution_count": 80,
   "id": "4e5f8ddf",
   "metadata": {
    "ExecuteTime": {
     "end_time": "2024-12-06T12:20:57.673452Z",
     "start_time": "2024-12-06T12:20:57.136978Z"
    },
    "id": "4e5f8ddf",
    "outputId": "85882e6b-1fcd-4485-9d0b-27ea1703b7a9"
   },
   "outputs": [
    {
     "data": {
      "image/png": "[encoded data removed]",
      "text/plain": [
       "<Figure size 1600x600 with 1 Axes>"
      ]
     },
     "metadata": {},
     "output_type": "display_data"
    }
   ],
   "source": [
    "# region Distribuição de \"Pclass\" por cluster.\n",
    "classMapping = {1: \"Classe A\", 2: \"Classe B\", 3: \"Classe C\"}\n",
    "\n",
    "dataClass = X_titanic.copy()\n",
    "dataClass[\"Pclass\"] = titanic[\"Pclass\"].map(classMapping)\n",
    "dataClass[\"Survived\"] = titanic[\"Survived\"]\n",
    "\n",
    "plotBarChartWithDeaths(\n",
    "    data=dataClass,\n",
    "    columns=[\"Cluster\", \"Pclass\"],\n",
    "    title=\"Distribuição de Pclass por Cluster\",\n",
    "    xlabel=\"Clusters\",\n",
    "    ylabel=\"Contagem\",\n",
    "    legend=\"Classes\",\n",
    ")\n",
    "# endregion"
   ]
  },
  {
   "cell_type": "code",
   "execution_count": 81,
   "id": "ff4b3adf",
   "metadata": {
    "ExecuteTime": {
     "end_time": "2024-12-06T12:20:58.300193Z",
     "start_time": "2024-12-06T12:20:57.726868Z"
    },
    "id": "ff4b3adf",
    "outputId": "cd0a3b86-1797-4dec-ba93-66bc90986272"
   },
   "outputs": [
    {
     "data": {
      "image/png": "[encoded data removed]",
      "text/plain": [
       "<Figure size 1600x600 with 1 Axes>"
      ]
     },
     "metadata": {},
     "output_type": "display_data"
    }
   ],
   "source": [
    "# region Distribuição de \"AgeGroup\" por cluster.\n",
    "ageMapping = {0: \"Adultos (18-50)\", 1: \"Idosos (50+)\", 2: \"Jovens (0-17)\"}\n",
    "\n",
    "dataAge = X_titanic.copy()\n",
    "dataAge[\"AgeGroup\"] = titanic[\"AgeGroup\"].map(ageMapping)\n",
    "dataAge[\"Survived\"] = titanic[\"Survived\"]\n",
    "\n",
    "plotBarChartWithDeaths(\n",
    "    data=dataAge,\n",
    "    columns=[\"Cluster\", \"AgeGroup\"],\n",
    "    title=\"Distribuição de AgeGroup por Cluster\",\n",
    "    xlabel=\"Clusters\",\n",
    "    ylabel=\"Contagem\",\n",
    "    legend=\"Agrupamentos\",\n",
    ")\n",
    "# endregion"
   ]
  },
  {
   "cell_type": "code",
   "execution_count": 82,
   "id": "60dd5a05",
   "metadata": {
    "ExecuteTime": {
     "end_time": "2024-12-06T12:20:58.677841Z",
     "start_time": "2024-12-06T12:20:58.331016Z"
    },
    "id": "60dd5a05",
    "outputId": "25005a49-1812-4631-ad54-e1a18e838e40"
   },
   "outputs": [
    {
     "data": {
      "image/png": "[encoded data removed]",
      "text/plain": [
       "<Figure size 1600x600 with 1 Axes>"
      ]
     },
     "metadata": {},
     "output_type": "display_data"
    }
   ],
   "source": [
    "# region Proporção de homens e mulheres em cada cluster.\n",
    "sexMapping = {0: \"Feminino\", 1: \"Masculino\"}\n",
    "\n",
    "dataSex = X_titanic.copy()\n",
    "dataSex[\"Sex\"] = titanic[\"Sex\"].map(sexMapping)\n",
    "dataSex[\"Survived\"] = titanic[\"Survived\"]\n",
    "\n",
    "plotBarChartWithDeaths(\n",
    "    data=dataSex,\n",
    "    columns=[\"Cluster\", \"Sex\"],\n",
    "    title=\"Distribuição de Sexo por Cluster\",\n",
    "    xlabel=\"Clusters\",\n",
    "    ylabel=\"Contagem\",\n",
    "    legend=\"Sexo\",\n",
    ")\n",
    "# endregion"
   ]
  },
  {
   "cell_type": "code",
   "execution_count": 83,
   "id": "bb2cea46",
   "metadata": {
    "ExecuteTime": {
     "end_time": "2024-12-06T12:20:59.227165Z",
     "start_time": "2024-12-06T12:20:58.677841Z"
    },
    "id": "bb2cea46",
    "outputId": "3bcca3a2-1625-4b33-d4f5-697aa74b96bc"
   },
   "outputs": [
    {
     "data": {
      "image/png": "[encoded data removed]",
      "text/plain": [
       "<Figure size 1600x600 with 1 Axes>"
      ]
     },
     "metadata": {},
     "output_type": "display_data"
    }
   ],
   "source": [
    "# region Explorar os portos de embarque predominantes em cada cluster.\n",
    "embarkedMapping = {1: \"Cherbourg\", 2: \"Queenstown\", 3: \"Southampton\"}\n",
    "\n",
    "dataEmbarked = X_titanic.copy()\n",
    "dataEmbarked[\"Embarked\"] = titanic[\"Embarked\"].map(embarkedMapping)\n",
    "dataEmbarked[\"Survived\"] = titanic[\"Survived\"]\n",
    "\n",
    "plotBarChartWithDeaths(\n",
    "    data=dataEmbarked,\n",
    "    columns=[\"Cluster\", \"Embarked\"],\n",
    "    title=\"Distribuição de Porto de Embarque por Cluster\",\n",
    "    xlabel=\"Clusters\",\n",
    "    ylabel=\"Contagem\",\n",
    "    legend=\"Porto de Embarque\",\n",
    ")\n",
    "# endregion"
   ]
  },
  {
   "cell_type": "markdown",
   "id": "43291dfb",
   "metadata": {
    "id": "43291dfb"
   },
   "source": [
    "## **\"Nem Deus pode afundar esse navio.\"**\n",
    "\n",
    "## **A soberba precede a destruição, e a altivez do espírito precede a queda.** *(Provérbios 16:18)*\n",
    "\n",
    "<img src=\"figs/Titanic.JPG\" alt=\"Titanic\" width=\"900\"/>"
   ]
  }
 ],
 "metadata": {
  "colab": {
   "collapsed_sections": [
    "12663bd22ff5eafa",
    "224f377fe41b7eda",
    "c6d6e87973203bb8",
    "1b19d5030a8407b0",
    "d4e520a6b59dc6db"
   ],
   "provenance": []
  },
  "kernelspec": {
   "display_name": "base",
   "language": "python",
   "name": "python3"
  },
  "language_info": {
   "codemirror_mode": {
    "name": "ipython",
    "version": 3
   },
   "file_extension": ".py",
   "mimetype": "text/x-python",
   "name": "python",
   "nbconvert_exporter": "python",
   "pygments_lexer": "ipython3",
   "version": "3.12.3"
  }
 },
 "nbformat": 4,
 "nbformat_minor": 5
}
