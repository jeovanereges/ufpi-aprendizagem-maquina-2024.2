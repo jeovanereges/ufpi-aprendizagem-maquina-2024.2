{
 "cells": [
  {
   "cell_type": "markdown",
   "id": "8f107354de9867c6",
   "metadata": {
    "id": "8f107354de9867c6"
   },
   "source": [
    "---\n",
    "# Projeto 6: Pré-Processamento - Titanic\n",
    "---"
   ]
  },
  {
   "cell_type": "markdown",
   "id": "b459568826d780a5",
   "metadata": {
    "id": "b459568826d780a5"
   },
   "source": [
    "## Etapa 1: Importação das Bibliotecas"
   ]
  },
  {
   "cell_type": "code",
   "execution_count": 121,
   "id": "initial_id",
   "metadata": {
    "ExecuteTime": {
     "end_time": "2024-12-07T13:24:49.728329Z",
     "start_time": "2024-12-07T13:24:48.513658Z"
    },
    "collapsed": true,
    "id": "initial_id"
   },
   "outputs": [],
   "source": [
    "# region Bibliotecas\n",
    "import pandas as pd\n",
    "import re\n",
    "import seaborn as sns\n",
    "import matplotlib.pyplot as plt\n",
    "import os\n",
    "\n",
    "from sklearn.preprocessing import LabelEncoder, StandardScaler, PolynomialFeatures\n",
    "from sklearn.linear_model import LinearRegression, Ridge\n",
    "from sklearn.pipeline import Pipeline\n",
    "from sklearn.model_selection import GridSearchCV, train_test_split\n",
    "from sklearn.metrics import mean_squared_error, r2_score\n",
    "from sklearn.tree import DecisionTreeRegressor\n",
    "from sklearn.ensemble import RandomForestRegressor\n",
    "from xgboost import XGBRegressor\n",
    "\n",
    "import warnings\n",
    "\n",
    "warnings.filterwarnings(\"ignore\")\n",
    "# endregion"
   ]
  },
  {
   "cell_type": "code",
   "execution_count": 122,
   "id": "a36457ad5e293145",
   "metadata": {
    "ExecuteTime": {
     "end_time": "2024-12-07T13:24:49.772045Z",
     "start_time": "2024-12-07T13:24:49.732332Z"
    },
    "id": "a36457ad5e293145"
   },
   "outputs": [],
   "source": [
    "# region Extras\n",
    "# import importlib\n",
    "#\n",
    "# import modulos.estrategia2\n",
    "#\n",
    "# importlib.reload(modulos.estrategia2)\n",
    "\n",
    "from modulos.estrategia1 import *\n",
    "from modulos.estrategia2 import *\n",
    "from modulos.estrategia3 import *\n",
    "\n",
    "# endregion"
   ]
  },
  {
   "cell_type": "code",
   "execution_count": 123,
   "id": "ed2d73bf3e43fb47",
   "metadata": {
    "ExecuteTime": {
     "end_time": "2024-12-07T13:24:50.055964Z",
     "start_time": "2024-12-07T13:24:50.051921Z"
    },
    "id": "ed2d73bf3e43fb47"
   },
   "outputs": [],
   "source": [
    "def Stop():\n",
    "    raise SystemExit(\"A célula foi interrompida para evitar a execução do código abaixo.\")"
   ]
  },
  {
   "cell_type": "markdown",
   "id": "8db73f0143beab72",
   "metadata": {
    "id": "8db73f0143beab72"
   },
   "source": [
    "## Etapa 2: Importação dos Dados"
   ]
  },
  {
   "cell_type": "code",
   "execution_count": 124,
   "id": "276882c950eabc23",
   "metadata": {
    "ExecuteTime": {
     "end_time": "2024-12-07T13:24:50.080922Z",
     "start_time": "2024-12-07T13:24:50.061010Z"
    },
    "id": "276882c950eabc23"
   },
   "outputs": [],
   "source": [
    "# region Importação do Dataset\n",
    "fileTitanic = \"dataset/titanic.csv\"\n",
    "\n",
    "if os.path.exists(fileTitanic):\n",
    "    titanic = pd.read_csv(fileTitanic)\n",
    "else:\n",
    "    link = \"https://drive.google.com/file/d/1FGE-R5tNMgQs8-_T2fKUFFEq43sFGTfx/view?usp=sharing\"\n",
    "    fileID = link.split(\"/d/\")[1].split(\"/\")[0]\n",
    "    fileTitanic = \"https://drive.google.com/uc?id=\" + fileID\n",
    "    titanic = pd.read_csv(fileTitanic)\n",
    "# endregion"
   ]
  },
  {
   "cell_type": "code",
   "execution_count": 125,
   "id": "806a4d2b07575af6",
   "metadata": {
    "ExecuteTime": {
     "end_time": "2024-12-07T13:24:50.162106Z",
     "start_time": "2024-12-07T13:24:50.142396Z"
    },
    "id": "806a4d2b07575af6",
    "outputId": "cbf0c1fc-f64b-4b56-821c-763d99fe404e"
   },
   "outputs": [
    {
     "data": {
      "text/html": [
       "<div>\n",
       "<style scoped>\n",
       "    .dataframe tbody tr th:only-of-type {\n",
       "        vertical-align: middle;\n",
       "    }\n",
       "\n",
       "    .dataframe tbody tr th {\n",
       "        vertical-align: top;\n",
       "    }\n",
       "\n",
       "    .dataframe thead th {\n",
       "        text-align: right;\n",
       "    }\n",
       "</style>\n",
       "<table border=\"1\" class=\"dataframe\">\n",
       "  <thead>\n",
       "    <tr style=\"text-align: right;\">\n",
       "      <th></th>\n",
       "      <th>PassengerId</th>\n",
       "      <th>Survived</th>\n",
       "      <th>Pclass</th>\n",
       "      <th>Name</th>\n",
       "      <th>Sex</th>\n",
       "      <th>Age</th>\n",
       "      <th>SibSp</th>\n",
       "      <th>Parch</th>\n",
       "      <th>Ticket</th>\n",
       "      <th>Fare</th>\n",
       "      <th>Cabin</th>\n",
       "      <th>Embarked</th>\n",
       "    </tr>\n",
       "  </thead>\n",
       "  <tbody>\n",
       "    <tr>\n",
       "      <th>0</th>\n",
       "      <td>1</td>\n",
       "      <td>0</td>\n",
       "      <td>3</td>\n",
       "      <td>Braund, Mr. Owen Harris</td>\n",
       "      <td>male</td>\n",
       "      <td>22.0</td>\n",
       "      <td>1</td>\n",
       "      <td>0</td>\n",
       "      <td>A/5 21171</td>\n",
       "      <td>7.2500</td>\n",
       "      <td>NaN</td>\n",
       "      <td>S</td>\n",
       "    </tr>\n",
       "    <tr>\n",
       "      <th>1</th>\n",
       "      <td>2</td>\n",
       "      <td>1</td>\n",
       "      <td>1</td>\n",
       "      <td>Cumings, Mrs. John Bradley (Florence Briggs Th...</td>\n",
       "      <td>female</td>\n",
       "      <td>38.0</td>\n",
       "      <td>1</td>\n",
       "      <td>0</td>\n",
       "      <td>PC 17599</td>\n",
       "      <td>71.2833</td>\n",
       "      <td>C85</td>\n",
       "      <td>C</td>\n",
       "    </tr>\n",
       "    <tr>\n",
       "      <th>2</th>\n",
       "      <td>3</td>\n",
       "      <td>1</td>\n",
       "      <td>3</td>\n",
       "      <td>Heikkinen, Miss. Laina</td>\n",
       "      <td>female</td>\n",
       "      <td>26.0</td>\n",
       "      <td>0</td>\n",
       "      <td>0</td>\n",
       "      <td>STON/O2. 3101282</td>\n",
       "      <td>7.9250</td>\n",
       "      <td>NaN</td>\n",
       "      <td>S</td>\n",
       "    </tr>\n",
       "    <tr>\n",
       "      <th>3</th>\n",
       "      <td>4</td>\n",
       "      <td>1</td>\n",
       "      <td>1</td>\n",
       "      <td>Futrelle, Mrs. Jacques Heath (Lily May Peel)</td>\n",
       "      <td>female</td>\n",
       "      <td>35.0</td>\n",
       "      <td>1</td>\n",
       "      <td>0</td>\n",
       "      <td>113803</td>\n",
       "      <td>53.1000</td>\n",
       "      <td>C123</td>\n",
       "      <td>S</td>\n",
       "    </tr>\n",
       "    <tr>\n",
       "      <th>4</th>\n",
       "      <td>5</td>\n",
       "      <td>0</td>\n",
       "      <td>3</td>\n",
       "      <td>Allen, Mr. William Henry</td>\n",
       "      <td>male</td>\n",
       "      <td>35.0</td>\n",
       "      <td>0</td>\n",
       "      <td>0</td>\n",
       "      <td>373450</td>\n",
       "      <td>8.0500</td>\n",
       "      <td>NaN</td>\n",
       "      <td>S</td>\n",
       "    </tr>\n",
       "  </tbody>\n",
       "</table>\n",
       "</div>"
      ],
      "text/plain": [
       "   PassengerId  Survived  Pclass  \\\n",
       "0            1         0       3   \n",
       "1            2         1       1   \n",
       "2            3         1       3   \n",
       "3            4         1       1   \n",
       "4            5         0       3   \n",
       "\n",
       "                                                Name     Sex   Age  SibSp  \\\n",
       "0                            Braund, Mr. Owen Harris    male  22.0      1   \n",
       "1  Cumings, Mrs. John Bradley (Florence Briggs Th...  female  38.0      1   \n",
       "2                             Heikkinen, Miss. Laina  female  26.0      0   \n",
       "3       Futrelle, Mrs. Jacques Heath (Lily May Peel)  female  35.0      1   \n",
       "4                           Allen, Mr. William Henry    male  35.0      0   \n",
       "\n",
       "   Parch            Ticket     Fare Cabin Embarked  \n",
       "0      0         A/5 21171   7.2500   NaN        S  \n",
       "1      0          PC 17599  71.2833   C85        C  \n",
       "2      0  STON/O2. 3101282   7.9250   NaN        S  \n",
       "3      0            113803  53.1000  C123        S  \n",
       "4      0            373450   8.0500   NaN        S  "
      ]
     },
     "execution_count": 125,
     "metadata": {},
     "output_type": "execute_result"
    }
   ],
   "source": [
    "titanic.head()"
   ]
  },
  {
   "cell_type": "code",
   "execution_count": 126,
   "id": "f14d6c77",
   "metadata": {
    "ExecuteTime": {
     "end_time": "2024-12-07T13:24:50.344681Z",
     "start_time": "2024-12-07T13:24:50.327302Z"
    }
   },
   "outputs": [
    {
     "data": {
      "text/html": [
       "<div>\n",
       "<style scoped>\n",
       "    .dataframe tbody tr th:only-of-type {\n",
       "        vertical-align: middle;\n",
       "    }\n",
       "\n",
       "    .dataframe tbody tr th {\n",
       "        vertical-align: top;\n",
       "    }\n",
       "\n",
       "    .dataframe thead th {\n",
       "        text-align: right;\n",
       "    }\n",
       "</style>\n",
       "<table border=\"1\" class=\"dataframe\">\n",
       "  <thead>\n",
       "    <tr style=\"text-align: right;\">\n",
       "      <th></th>\n",
       "      <th>PassengerId</th>\n",
       "      <th>Survived</th>\n",
       "      <th>Pclass</th>\n",
       "      <th>Age</th>\n",
       "      <th>SibSp</th>\n",
       "      <th>Parch</th>\n",
       "      <th>Fare</th>\n",
       "    </tr>\n",
       "  </thead>\n",
       "  <tbody>\n",
       "    <tr>\n",
       "      <th>count</th>\n",
       "      <td>1309.000000</td>\n",
       "      <td>1309.000000</td>\n",
       "      <td>1309.000000</td>\n",
       "      <td>1046.000000</td>\n",
       "      <td>1309.000000</td>\n",
       "      <td>1309.000000</td>\n",
       "      <td>1308.000000</td>\n",
       "    </tr>\n",
       "    <tr>\n",
       "      <th>mean</th>\n",
       "      <td>655.000000</td>\n",
       "      <td>0.377387</td>\n",
       "      <td>2.294882</td>\n",
       "      <td>29.881138</td>\n",
       "      <td>0.498854</td>\n",
       "      <td>0.385027</td>\n",
       "      <td>33.295479</td>\n",
       "    </tr>\n",
       "    <tr>\n",
       "      <th>std</th>\n",
       "      <td>378.020061</td>\n",
       "      <td>0.484918</td>\n",
       "      <td>0.837836</td>\n",
       "      <td>14.413493</td>\n",
       "      <td>1.041658</td>\n",
       "      <td>0.865560</td>\n",
       "      <td>51.758668</td>\n",
       "    </tr>\n",
       "    <tr>\n",
       "      <th>min</th>\n",
       "      <td>1.000000</td>\n",
       "      <td>0.000000</td>\n",
       "      <td>1.000000</td>\n",
       "      <td>0.170000</td>\n",
       "      <td>0.000000</td>\n",
       "      <td>0.000000</td>\n",
       "      <td>0.000000</td>\n",
       "    </tr>\n",
       "    <tr>\n",
       "      <th>25%</th>\n",
       "      <td>328.000000</td>\n",
       "      <td>0.000000</td>\n",
       "      <td>2.000000</td>\n",
       "      <td>21.000000</td>\n",
       "      <td>0.000000</td>\n",
       "      <td>0.000000</td>\n",
       "      <td>7.895800</td>\n",
       "    </tr>\n",
       "    <tr>\n",
       "      <th>50%</th>\n",
       "      <td>655.000000</td>\n",
       "      <td>0.000000</td>\n",
       "      <td>3.000000</td>\n",
       "      <td>28.000000</td>\n",
       "      <td>0.000000</td>\n",
       "      <td>0.000000</td>\n",
       "      <td>14.454200</td>\n",
       "    </tr>\n",
       "    <tr>\n",
       "      <th>75%</th>\n",
       "      <td>982.000000</td>\n",
       "      <td>1.000000</td>\n",
       "      <td>3.000000</td>\n",
       "      <td>39.000000</td>\n",
       "      <td>1.000000</td>\n",
       "      <td>0.000000</td>\n",
       "      <td>31.275000</td>\n",
       "    </tr>\n",
       "    <tr>\n",
       "      <th>max</th>\n",
       "      <td>1309.000000</td>\n",
       "      <td>1.000000</td>\n",
       "      <td>3.000000</td>\n",
       "      <td>80.000000</td>\n",
       "      <td>8.000000</td>\n",
       "      <td>9.000000</td>\n",
       "      <td>512.329200</td>\n",
       "    </tr>\n",
       "  </tbody>\n",
       "</table>\n",
       "</div>"
      ],
      "text/plain": [
       "       PassengerId     Survived       Pclass          Age        SibSp  \\\n",
       "count  1309.000000  1309.000000  1309.000000  1046.000000  1309.000000   \n",
       "mean    655.000000     0.377387     2.294882    29.881138     0.498854   \n",
       "std     378.020061     0.484918     0.837836    14.413493     1.041658   \n",
       "min       1.000000     0.000000     1.000000     0.170000     0.000000   \n",
       "25%     328.000000     0.000000     2.000000    21.000000     0.000000   \n",
       "50%     655.000000     0.000000     3.000000    28.000000     0.000000   \n",
       "75%     982.000000     1.000000     3.000000    39.000000     1.000000   \n",
       "max    1309.000000     1.000000     3.000000    80.000000     8.000000   \n",
       "\n",
       "             Parch         Fare  \n",
       "count  1309.000000  1308.000000  \n",
       "mean      0.385027    33.295479  \n",
       "std       0.865560    51.758668  \n",
       "min       0.000000     0.000000  \n",
       "25%       0.000000     7.895800  \n",
       "50%       0.000000    14.454200  \n",
       "75%       0.000000    31.275000  \n",
       "max       9.000000   512.329200  "
      ]
     },
     "execution_count": 126,
     "metadata": {},
     "output_type": "execute_result"
    }
   ],
   "source": [
    "titanic.describe()"
   ]
  },
  {
   "cell_type": "code",
   "execution_count": 127,
   "id": "42f367535f4aa6c7",
   "metadata": {
    "ExecuteTime": {
     "end_time": "2024-12-07T13:24:50.426565Z",
     "start_time": "2024-12-07T13:24:50.421579Z"
    },
    "id": "42f367535f4aa6c7",
    "outputId": "c0b57ee9-0212-449e-c110-7889f5966457"
   },
   "outputs": [
    {
     "data": {
      "text/plain": [
       "(1309, 12)"
      ]
     },
     "execution_count": 127,
     "metadata": {},
     "output_type": "execute_result"
    }
   ],
   "source": [
    "titanic.shape"
   ]
  },
  {
   "cell_type": "markdown",
   "id": "de8c3cda",
   "metadata": {},
   "source": [
    "## Etapa 3: Manipulação do Dataset"
   ]
  },
  {
   "cell_type": "markdown",
   "id": "83411e2c937a5da9",
   "metadata": {
    "id": "83411e2c937a5da9"
   },
   "source": [
    "### Descrição das Colunas"
   ]
  },
  {
   "cell_type": "markdown",
   "id": "987ae48799d36e2f",
   "metadata": {
    "id": "987ae48799d36e2f"
   },
   "source": [
    ">**Pclass:**\n",
    "* Classe do passageiro (1 = 1ª classe, 2 = 2ª classe, 3 = 3ª classe)\n",
    "***\n",
    ">**SibSp:**\n",
    "* Número de irmãos/cônjuges a bordo.\n",
    "* 0 = O passageiro não estava acompanhado por irmãos ou cônjuges.\n",
    "* 1 = O passageiro estava acompanhado por um irmão ou cônjuge.\n",
    "* 2 ou mais: O passageiro estava acompanhado por múltiplos irmãos e/ou cônjuges.\n",
    "***\n",
    ">**Parch:**\n",
    "* Número de pais/filhos a bordo.\n",
    "* 0 = Sem pais/filhos.\n",
    "* 1 = O passageiro estava acompanhado por um pai ou filho.\n",
    "* 2 ou mais: O passageiro estava acompanhado por múltiplos pais e/ou filhos.\n"
   ]
  },
  {
   "cell_type": "markdown",
   "id": "90e1cc89e9d87a77",
   "metadata": {
    "id": "90e1cc89e9d87a77"
   },
   "source": [
    "### Encoding"
   ]
  },
  {
   "cell_type": "code",
   "execution_count": 128,
   "id": "ed49effbd3f57d63",
   "metadata": {
    "ExecuteTime": {
     "end_time": "2024-12-07T13:24:50.629379Z",
     "start_time": "2024-12-07T13:24:50.619086Z"
    },
    "id": "ed49effbd3f57d63"
   },
   "outputs": [],
   "source": [
    "# region Encoding com LabelEncoder\n",
    "def encodeLabel(data, cols):\n",
    "    encoderLabel = LabelEncoder()\n",
    "\n",
    "    data = data.dropna(subset=cols)\n",
    "\n",
    "    for col in cols:\n",
    "        sum = 1 if col == \"Embarked\" else 0\n",
    "        data[col] = encoderLabel.fit_transform(data[col]) + sum\n",
    "\n",
    "    return data\n",
    "\n",
    "# endregion"
   ]
  },
  {
   "cell_type": "code",
   "execution_count": 129,
   "id": "7a0dbc89c93ed327",
   "metadata": {
    "ExecuteTime": {
     "end_time": "2024-12-07T13:24:50.844670Z",
     "start_time": "2024-12-07T13:24:50.828515Z"
    },
    "id": "7a0dbc89c93ed327"
   },
   "outputs": [],
   "source": [
    "# Sex: 0 - Feminino, 1 - Masculino\n",
    "# Embarked: 1 - C, 2 - Q, 3 - S (Cherbourg, Queenstown, Southampton)\n",
    "titanic = encodeLabel(titanic, [\"Sex\", \"Embarked\"])"
   ]
  },
  {
   "cell_type": "markdown",
   "id": "54a2ef6a1455a938",
   "metadata": {
    "id": "54a2ef6a1455a938"
   },
   "source": [
    "### Tratamento de Dados Faltantes"
   ]
  },
  {
   "cell_type": "code",
   "execution_count": 130,
   "id": "967efad90792ef7f",
   "metadata": {
    "ExecuteTime": {
     "end_time": "2024-12-07T13:24:51.552956Z",
     "start_time": "2024-12-07T13:24:50.948251Z"
    },
    "id": "967efad90792ef7f",
    "outputId": "2535529e-b636-453d-ad77-13da53c0d6b2"
   },
   "outputs": [
    {
     "data": {
      "image/png": "[encoded data removed]",
      "text/plain": [
       "<Figure size 1400x800 with 1 Axes>"
      ]
     },
     "metadata": {},
     "output_type": "display_data"
    }
   ],
   "source": [
    "plt.figure(figsize=(14, 8), dpi=100)\n",
    "\n",
    "sns.heatmap(titanic.isna(), cbar=False, cmap=\"coolwarm\");"
   ]
  },
  {
   "cell_type": "code",
   "execution_count": 131,
   "id": "c04e3fcc599a07f7",
   "metadata": {
    "ExecuteTime": {
     "end_time": "2024-12-07T13:24:51.566525Z",
     "start_time": "2024-12-07T13:24:51.556958Z"
    },
    "id": "c04e3fcc599a07f7",
    "outputId": "30f2bd29-6f91-4538-aca8-9cfb65aecd15"
   },
   "outputs": [
    {
     "name": "stdout",
     "output_type": "stream",
     "text": [
      "O dataset tem 8.15 % de valores ausentes.\n"
     ]
    }
   ],
   "source": [
    "calcPercentualValoresAusentes(titanic)"
   ]
  },
  {
   "cell_type": "code",
   "execution_count": 132,
   "id": "b92473bd9a99bd93",
   "metadata": {
    "ExecuteTime": {
     "end_time": "2024-12-07T13:24:51.713792Z",
     "start_time": "2024-12-07T13:24:51.620418Z"
    },
    "id": "b92473bd9a99bd93",
    "outputId": "69b84916-9582-457f-e99a-f73cd1f70ea9"
   },
   "outputs": [
    {
     "name": "stdout",
     "output_type": "stream",
     "text": [
      "79.34 % das linhas no conjunto de dados contêm pelo menos um valor ausente.\n"
     ]
    }
   ],
   "source": [
    "calcPercentualValoresAusentesLinha(titanic)"
   ]
  },
  {
   "cell_type": "code",
   "execution_count": 133,
   "id": "7bd09903d5c35d76",
   "metadata": {
    "ExecuteTime": {
     "end_time": "2024-12-07T13:24:51.732412Z",
     "start_time": "2024-12-07T13:24:51.721856Z"
    },
    "id": "7bd09903d5c35d76",
    "outputId": "d7483e62-92ba-477d-9610-d6347bd63684"
   },
   "outputs": [
    {
     "name": "stdout",
     "output_type": "stream",
     "text": [
      "O dataset tem 12 colunas.\n",
      "Encontrado: 3 colunas que têm valores ausentes.\n"
     ]
    },
    {
     "data": {
      "text/html": [
       "<div>\n",
       "<style scoped>\n",
       "    .dataframe tbody tr th:only-of-type {\n",
       "        vertical-align: middle;\n",
       "    }\n",
       "\n",
       "    .dataframe tbody tr th {\n",
       "        vertical-align: top;\n",
       "    }\n",
       "\n",
       "    .dataframe thead th {\n",
       "        text-align: right;\n",
       "    }\n",
       "</style>\n",
       "<table border=\"1\" class=\"dataframe\">\n",
       "  <thead>\n",
       "    <tr style=\"text-align: right;\">\n",
       "      <th></th>\n",
       "      <th>Valores Ausentes</th>\n",
       "      <th>% de Valores Ausentes</th>\n",
       "      <th>Dtype</th>\n",
       "    </tr>\n",
       "  </thead>\n",
       "  <tbody>\n",
       "    <tr>\n",
       "      <th>Cabin</th>\n",
       "      <td>1014</td>\n",
       "      <td>77.58</td>\n",
       "      <td>object</td>\n",
       "    </tr>\n",
       "    <tr>\n",
       "      <th>Age</th>\n",
       "      <td>263</td>\n",
       "      <td>20.12</td>\n",
       "      <td>float64</td>\n",
       "    </tr>\n",
       "    <tr>\n",
       "      <th>Fare</th>\n",
       "      <td>1</td>\n",
       "      <td>0.08</td>\n",
       "      <td>float64</td>\n",
       "    </tr>\n",
       "  </tbody>\n",
       "</table>\n",
       "</div>"
      ],
      "text/plain": [
       "       Valores Ausentes  % de Valores Ausentes    Dtype\n",
       "Cabin              1014                  77.58   object\n",
       "Age                 263                  20.12  float64\n",
       "Fare                  1                   0.08  float64"
      ]
     },
     "execution_count": 133,
     "metadata": {},
     "output_type": "execute_result"
    }
   ],
   "source": [
    "calcPercentualValoresAusentesColuna(titanic)"
   ]
  },
  {
   "cell_type": "code",
   "execution_count": 134,
   "id": "f75f55cac90b84d0",
   "metadata": {
    "ExecuteTime": {
     "end_time": "2024-12-07T13:24:51.852810Z",
     "start_time": "2024-12-07T13:24:51.847820Z"
    },
    "id": "f75f55cac90b84d0",
    "outputId": "031382e6-bbcf-486e-9294-042b531c0519"
   },
   "outputs": [
    {
     "name": "stdout",
     "output_type": "stream",
     "text": [
      "1 coluna foi descartada.\n"
     ]
    }
   ],
   "source": [
    "# Drop de colunas com mais de 30% de valores ausentes\n",
    "dropColumns(titanic, [\"Cabin\"])"
   ]
  },
  {
   "cell_type": "markdown",
   "id": "b83b2c710309dbc4",
   "metadata": {
    "id": "b83b2c710309dbc4"
   },
   "source": [
    "### Tratamento de Dados na coluna \"Age\""
   ]
  },
  {
   "cell_type": "code",
   "execution_count": 135,
   "id": "fa7de876",
   "metadata": {
    "ExecuteTime": {
     "end_time": "2024-12-07T13:24:52.002471Z",
     "start_time": "2024-12-07T13:24:51.989095Z"
    }
   },
   "outputs": [],
   "source": [
    "# region Funções com modelos para previsão de valores ausentes\n",
    "def optimizeLinearModel(X, y, seed=42):\n",
    "    # Divisão do conjunto de dados em treino e teste\n",
    "    train_X, test_X, train_y, test_y = train_test_split(\n",
    "        X, y, test_size=0.2, random_state=seed, shuffle=True\n",
    "    )\n",
    "\n",
    "    # Construção do pipeline\n",
    "    pipe = Pipeline(\n",
    "        [\n",
    "            # Normalização dos dados\n",
    "            (\"scaler\", StandardScaler()),\n",
    "            # Interações não lineares\n",
    "            (\"poly\", PolynomialFeatures()),\n",
    "            # Regressão linear com regularização\n",
    "            (\"model\", Ridge()),\n",
    "        ]\n",
    "    )\n",
    "\n",
    "    # Definição dos parâmetros para o tuning\n",
    "    params = {\n",
    "        # Grau das interações polinomiais\n",
    "        \"poly__degree\": [1, 2, 3],\n",
    "        # Intensidade da regularização\n",
    "        \"model__alpha\": [0.01, 0.1, 1, 10, 100],\n",
    "        # Incluir intercepto\n",
    "        \"model__fit_intercept\": [True, False],\n",
    "        # Normalizar com média\n",
    "        \"scaler__with_mean\": [True, False],\n",
    "    }\n",
    "\n",
    "    # Configuração do GridSearchCV\n",
    "    grid = GridSearchCV(\n",
    "        estimator=pipe,\n",
    "        param_grid=params,\n",
    "        cv=5,\n",
    "        scoring=\"neg_mean_squared_error\",\n",
    "        n_jobs=-1,\n",
    "        verbose=0,\n",
    "    )\n",
    "\n",
    "    # Treinamento com validação cruzada\n",
    "    grid.fit(train_X, train_y)\n",
    "\n",
    "    # Predição no conjunto de teste\n",
    "    pred_y = grid.best_estimator_.predict(test_X)\n",
    "\n",
    "    # Avaliação do modelo\n",
    "    mse = mean_squared_error(test_y, pred_y)\n",
    "    r2 = r2_score(test_y, pred_y)\n",
    "\n",
    "    # Resultados\n",
    "    print(f\"\\nMelhor MSE: {mse:.4f}\")\n",
    "    print(f\"R² no teste: {r2:.4f}\")\n",
    "    print(f\"Melhores Parâmetros: {grid.best_params_}\")\n",
    "\n",
    "    # Retornar o melhor modelo ajustado\n",
    "    return grid.best_estimator_\n",
    "\n",
    "\n",
    "def optimizeXGBoostModel(X, y, seed=42):\n",
    "    train_X, test_X, train_y, test_y = train_test_split(\n",
    "        X, y, test_size=0.2, random_state=seed, shuffle=True\n",
    "    )\n",
    "\n",
    "    model = XGBRegressor(random_state=seed, use_label_encoder=False)\n",
    "    params = {\n",
    "        \"n_estimators\": [50, 100, 200],\n",
    "        \"max_depth\": [3, 5, 10],\n",
    "        \"learning_rate\": [0.01, 0.1, 0.2],\n",
    "        \"subsample\": [0.8, 1.0],\n",
    "        \"colsample_bytree\": [0.8, 1.0],\n",
    "        \"gamma\": [0, 1, 5],\n",
    "    }\n",
    "\n",
    "    grid = GridSearchCV(\n",
    "        estimator=model,\n",
    "        param_grid=params,\n",
    "        cv=5,\n",
    "        scoring=\"neg_mean_squared_error\",\n",
    "        n_jobs=-1,\n",
    "        verbose=0,\n",
    "    )\n",
    "\n",
    "    grid.fit(train_X, train_y)\n",
    "    pred_y = grid.best_estimator_.predict(test_X)\n",
    "\n",
    "    mse = mean_squared_error(test_y, pred_y)\n",
    "    r2 = r2_score(test_y, pred_y)\n",
    "\n",
    "    print(f\"\\nMelhor MSE: {mse:.4f}\")\n",
    "    print(f\"R² no teste: {r2:.4f}\")\n",
    "    print(f\"Melhores Parâmetros: {grid.best_params_}\")\n",
    "\n",
    "    return grid.best_estimator_\n",
    "\n",
    "\n",
    "# endregion\n",
    "# endregion"
   ]
  },
  {
   "cell_type": "code",
   "execution_count": 136,
   "id": "e9d21777",
   "metadata": {
    "ExecuteTime": {
     "end_time": "2024-12-07T13:24:52.061784Z",
     "start_time": "2024-12-07T13:24:52.056416Z"
    }
   },
   "outputs": [],
   "source": [
    "# region Preprocessamento e Otimização do Modelo\n",
    "def preprocessAndOptimizeModel(data):\n",
    "    # Filtrar as linhas onde \"Age\" não é nulo e remover outras ausências\n",
    "    complete = data[data[\"Age\"].notna()]\n",
    "    complete.dropna(inplace=True)\n",
    "\n",
    "    # Selecionar variáveis numéricas (exceto \"Age\") como preditoras\n",
    "    X = complete.select_dtypes(include=[\"number\"]).drop(columns=[\"Age\"])\n",
    "    y = complete[\"Age\"].astype(int)\n",
    "\n",
    "    # Remover classes com menos de 2 exemplos\n",
    "    counts = y.value_counts()\n",
    "    valid_classes = counts[counts >= 2].index\n",
    "    X = X[y.isin(valid_classes)]\n",
    "    y = y[y.isin(valid_classes)]\n",
    "\n",
    "    # Ajustar e otimizar o modelo XGBoost\n",
    "    best_model = optimizeXGBoostModel(X, y)\n",
    "\n",
    "    return best_model\n",
    "\n",
    "\n",
    "# endregion"
   ]
  },
  {
   "cell_type": "code",
   "execution_count": 137,
   "id": "422018d71d13ab17",
   "metadata": {
    "ExecuteTime": {
     "end_time": "2024-12-07T13:24:52.155437Z",
     "start_time": "2024-12-07T13:24:52.146965Z"
    },
    "id": "422018d71d13ab17"
   },
   "outputs": [],
   "source": [
    "# region Tratamento de Dados Faltantes na coluna \"Age\"\n",
    "def imputarValoresFaltantesIdade(data):\n",
    "    # Divisão dos dados em completos e faltantes\n",
    "    complete = data[data[\"Age\"].notna()]\n",
    "    missing = data[data[\"Age\"].isna()]\n",
    "\n",
    "    # Selecionar apenas variáveis numéricas (exceto 'Age') para predição\n",
    "    X = complete.select_dtypes(include=[\"number\"]).drop(columns=[\"Age\"])\n",
    "    y = complete[\"Age\"].astype(int)\n",
    "\n",
    "    # Remover classes com menos de 2 exemplos\n",
    "    counts = y.value_counts()\n",
    "    valid_classes = counts[counts >= 2].index\n",
    "    X = X[y.isin(valid_classes)]\n",
    "    y = y[y.isin(valid_classes)]\n",
    "\n",
    "    # Configuração do modelo XGBoost\n",
    "    xgb = XGBRegressor(\n",
    "        n_estimators=100,\n",
    "        max_depth=5,\n",
    "        learning_rate=0.1,\n",
    "        subsample=0.8,\n",
    "        colsample_bytree=0.8,\n",
    "        random_state=42,\n",
    "    )\n",
    "\n",
    "    # Treinamento do modelo\n",
    "    xgb.fit(X, y)\n",
    "\n",
    "    # Selecionar as mesmas colunas para as linhas com valores faltantes\n",
    "    missingFeatures = missing[X.columns]\n",
    "\n",
    "    # Preencher os valores faltantes de 'Age'\n",
    "    data.loc[data[\"Age\"].isna(), \"Age\"] = xgb.predict(missingFeatures)\n",
    "\n",
    "    return data\n",
    "\n",
    "\n",
    "# endregion"
   ]
  },
  {
   "cell_type": "code",
   "execution_count": 138,
   "id": "dc3f4aa2ee2cb5f9",
   "metadata": {
    "ExecuteTime": {
     "end_time": "2024-12-07T13:24:52.166717Z",
     "start_time": "2024-12-07T13:24:52.163279Z"
    },
    "id": "dc3f4aa2ee2cb5f9"
   },
   "outputs": [],
   "source": [
    "# titanic = imputarValoresFaltantesIdade(titanic)"
   ]
  },
  {
   "cell_type": "code",
   "execution_count": 139,
   "id": "9ae33e0c3c227476",
   "metadata": {
    "ExecuteTime": {
     "end_time": "2024-12-07T13:24:52.180471Z",
     "start_time": "2024-12-07T13:24:52.174542Z"
    },
    "id": "9ae33e0c3c227476",
    "outputId": "4761ca32-f83b-4b75-875d-bbd0b452d0ab"
   },
   "outputs": [
    {
     "name": "stdout",
     "output_type": "stream",
     "text": [
      "264 linhas contendo valores ausentes foram descartadas.\n"
     ]
    }
   ],
   "source": [
    "# Drop de linhas com valores ausentes\n",
    "dropRowsWithMissingValues(titanic)"
   ]
  },
  {
   "cell_type": "code",
   "execution_count": 140,
   "id": "71e296f941d72f25",
   "metadata": {
    "ExecuteTime": {
     "end_time": "2024-12-07T13:24:52.255179Z",
     "start_time": "2024-12-07T13:24:52.241587Z"
    },
    "id": "71e296f941d72f25",
    "outputId": "7a299d34-abdb-4236-9e41-23b5a0597863"
   },
   "outputs": [
    {
     "name": "stdout",
     "output_type": "stream",
     "text": [
      "O dataset tem 0.0 % de valores ausentes.\n"
     ]
    }
   ],
   "source": [
    "calcPercentualValoresAusentes(titanic)"
   ]
  },
  {
   "cell_type": "code",
   "execution_count": 141,
   "id": "9901e2cf7883a9fa",
   "metadata": {
    "ExecuteTime": {
     "end_time": "2024-12-07T13:24:52.309645Z",
     "start_time": "2024-12-07T13:24:52.305165Z"
    },
    "id": "9901e2cf7883a9fa"
   },
   "outputs": [],
   "source": [
    "# region Agrupar os passageiros por faixa de idade\n",
    "def groupAges(data, column=\"Age\"):\n",
    "    bins = [0, 18, 50, float(\"inf\")]\n",
    "    labels = [\"Jovens (0-17)\", \"Adultos (18-50)\", \"Idosos (50+)\"]\n",
    "\n",
    "    data[\"AgeGroup\"] = pd.cut(data[column], bins=bins, labels=labels, right=False)\n",
    "\n",
    "    return data\n",
    "\n",
    "\n",
    "# endregion"
   ]
  },
  {
   "cell_type": "code",
   "execution_count": 142,
   "id": "3ecde16d10298641",
   "metadata": {
    "ExecuteTime": {
     "end_time": "2024-12-07T13:24:52.365847Z",
     "start_time": "2024-12-07T13:24:52.360682Z"
    },
    "id": "3ecde16d10298641"
   },
   "outputs": [],
   "source": [
    "titanic = groupAges(titanic)"
   ]
  },
  {
   "cell_type": "markdown",
   "id": "89e0891ad7cfb766",
   "metadata": {
    "id": "89e0891ad7cfb766"
   },
   "source": [
    "### Manipulação das demais Colunas"
   ]
  },
  {
   "cell_type": "code",
   "execution_count": 143,
   "id": "bfcfc6dcc55fb0a5",
   "metadata": {
    "ExecuteTime": {
     "end_time": "2024-12-07T13:24:52.374078Z",
     "start_time": "2024-12-07T13:24:52.367850Z"
    },
    "id": "bfcfc6dcc55fb0a5"
   },
   "outputs": [],
   "source": [
    "# region Tratamento da coluna \"Name\"\n",
    "def splitNames(data, column=\"Name\"):\n",
    "    # Separar pelo caractere ','\n",
    "    data[[\"LastName\", \"FirstName\"]] = data[column].str.split(\",\", n=1, expand=True)\n",
    "\n",
    "    # Remover pronomes de tratamento da coluna 'FirstName'\n",
    "    data[\"FirstName\"] = (\n",
    "        data[\"FirstName\"]\n",
    "        .str.replace(r\"(Mr\\.|Mrs\\.|Miss|Master|Dr\\.)\", \"\", regex=True)\n",
    "        .str.strip()\n",
    "    )\n",
    "\n",
    "    # Remover quaisquer caracteres especiais e espaços extras\n",
    "    data[\"LastName\"] = (\n",
    "        data[\"LastName\"]\n",
    "        # Remover caracteres especiais\n",
    "        .str.replace(r\"[^\\w\\s]\", \"\", regex=True)\n",
    "        # Remover espaços no início e no fim\n",
    "        .str.strip()\n",
    "        # Remover espaços extras no meio\n",
    "        .str.replace(r\"\\s+\", \" \", regex=True)\n",
    "    )\n",
    "\n",
    "    data[\"FirstName\"] = (\n",
    "        data[\"FirstName\"]\n",
    "        # Remover caracteres especiais\n",
    "        .str.replace(r\"[^\\w\\s]\", \"\", regex=True)\n",
    "        # Remover espaços no início e no fim\n",
    "        .str.strip()\n",
    "        # Remover espaços extras no meio\n",
    "        .str.replace(r\"\\s+\", \" \", regex=True)\n",
    "    )\n",
    "\n",
    "    return data\n",
    "\n",
    "\n",
    "# endregion"
   ]
  },
  {
   "cell_type": "code",
   "execution_count": 144,
   "id": "5ea0d5e801e65d98",
   "metadata": {
    "ExecuteTime": {
     "end_time": "2024-12-07T13:24:52.440529Z",
     "start_time": "2024-12-07T13:24:52.428514Z"
    },
    "id": "5ea0d5e801e65d98"
   },
   "outputs": [],
   "source": [
    "titanic = splitNames(titanic, column=\"Name\")"
   ]
  },
  {
   "cell_type": "markdown",
   "id": "c3ff4ab0d94b614e",
   "metadata": {
    "id": "c3ff4ab0d94b614e"
   },
   "source": [
    "## Etapa 4: Feature Engineering"
   ]
  },
  {
   "cell_type": "code",
   "execution_count": 145,
   "id": "483279db54586c98",
   "metadata": {
    "ExecuteTime": {
     "end_time": "2024-12-07T13:24:52.473390Z",
     "start_time": "2024-12-07T13:24:52.468330Z"
    },
    "id": "483279db54586c98"
   },
   "outputs": [],
   "source": [
    "data = titanic.copy()"
   ]
  },
  {
   "cell_type": "code",
   "execution_count": 146,
   "id": "c32ce608",
   "metadata": {
    "ExecuteTime": {
     "end_time": "2024-12-07T13:24:52.483148Z",
     "start_time": "2024-12-07T13:24:52.473390Z"
    }
   },
   "outputs": [],
   "source": [
    "embarkedMapping = {1: \"Cherbourg\", 2: \"Queenstown\", 3: \"Southampton\"}\n",
    "\n",
    "# Verificar se a coluna já foi mapeada\n",
    "if data[\"Embarked\"].dtype != \"object\":\n",
    "\t\tdata[\"Embarked\"] = data[\"Embarked\"].map(embarkedMapping)"
   ]
  },
  {
   "cell_type": "code",
   "execution_count": 147,
   "id": "f6904696",
   "metadata": {
    "ExecuteTime": {
     "end_time": "2024-12-07T13:24:52.501018Z",
     "start_time": "2024-12-07T13:24:52.495494Z"
    },
    "id": "f6904696"
   },
   "outputs": [],
   "source": [
    "# region Contagem de Passageiros por Porto de Embarque\n",
    "def passengerPercentageByPortAndClass(data):\n",
    "    # Contagem total de passageiros por porto de embarque\n",
    "    totalByPort = data.groupby(\"Embarked\")[\"PassengerId\"].count()\n",
    "\n",
    "    # Contagem de passageiros por porto de embarque e classe\n",
    "    passengersByPortAndClass = (\n",
    "        data.groupby([\"Embarked\", \"Pclass\"])[\"PassengerId\"].count().reset_index()\n",
    "    )\n",
    "\n",
    "    # Calcular a porcentagem\n",
    "    passengersByPortAndClass[\"Porcentagem\"] = passengersByPortAndClass.apply(\n",
    "        lambda row: (row[\"PassengerId\"] / totalByPort[row[\"Embarked\"]]) * 100,\n",
    "        axis=1,\n",
    "    ).round(2)\n",
    "\n",
    "    # Renomear colunas para melhor legibilidade\n",
    "    passengersByPortAndClass.columns = [\n",
    "        \"Porto de Embarque\",\n",
    "        \"Classe\",\n",
    "        \"Quantidade\",\n",
    "        \"Porcentagem (%)\",\n",
    "    ]\n",
    "\n",
    "    return passengersByPortAndClass\n",
    "\n",
    "\n",
    "# endregion"
   ]
  },
  {
   "cell_type": "code",
   "execution_count": 148,
   "id": "88280246",
   "metadata": {
    "ExecuteTime": {
     "end_time": "2024-12-07T13:24:52.530661Z",
     "start_time": "2024-12-07T13:24:52.514636Z"
    },
    "id": "88280246",
    "outputId": "a413815a-a8bd-4d9c-b1f7-fdb1846cec97"
   },
   "outputs": [
    {
     "data": {
      "text/html": [
       "<div>\n",
       "<style scoped>\n",
       "    .dataframe tbody tr th:only-of-type {\n",
       "        vertical-align: middle;\n",
       "    }\n",
       "\n",
       "    .dataframe tbody tr th {\n",
       "        vertical-align: top;\n",
       "    }\n",
       "\n",
       "    .dataframe thead th {\n",
       "        text-align: right;\n",
       "    }\n",
       "</style>\n",
       "<table border=\"1\" class=\"dataframe\">\n",
       "  <thead>\n",
       "    <tr style=\"text-align: right;\">\n",
       "      <th></th>\n",
       "      <th>Porto de Embarque</th>\n",
       "      <th>Classe</th>\n",
       "      <th>Quantidade</th>\n",
       "      <th>Porcentagem (%)</th>\n",
       "    </tr>\n",
       "  </thead>\n",
       "  <tbody>\n",
       "    <tr>\n",
       "      <th>0</th>\n",
       "      <td>Cherbourg</td>\n",
       "      <td>1</td>\n",
       "      <td>128</td>\n",
       "      <td>60.38</td>\n",
       "    </tr>\n",
       "    <tr>\n",
       "      <th>1</th>\n",
       "      <td>Cherbourg</td>\n",
       "      <td>2</td>\n",
       "      <td>24</td>\n",
       "      <td>11.32</td>\n",
       "    </tr>\n",
       "    <tr>\n",
       "      <th>2</th>\n",
       "      <td>Cherbourg</td>\n",
       "      <td>3</td>\n",
       "      <td>60</td>\n",
       "      <td>28.30</td>\n",
       "    </tr>\n",
       "    <tr>\n",
       "      <th>3</th>\n",
       "      <td>Queenstown</td>\n",
       "      <td>1</td>\n",
       "      <td>3</td>\n",
       "      <td>6.00</td>\n",
       "    </tr>\n",
       "    <tr>\n",
       "      <th>4</th>\n",
       "      <td>Queenstown</td>\n",
       "      <td>2</td>\n",
       "      <td>5</td>\n",
       "      <td>10.00</td>\n",
       "    </tr>\n",
       "    <tr>\n",
       "      <th>5</th>\n",
       "      <td>Queenstown</td>\n",
       "      <td>3</td>\n",
       "      <td>42</td>\n",
       "      <td>84.00</td>\n",
       "    </tr>\n",
       "    <tr>\n",
       "      <th>6</th>\n",
       "      <td>Southampton</td>\n",
       "      <td>1</td>\n",
       "      <td>151</td>\n",
       "      <td>19.33</td>\n",
       "    </tr>\n",
       "    <tr>\n",
       "      <th>7</th>\n",
       "      <td>Southampton</td>\n",
       "      <td>2</td>\n",
       "      <td>232</td>\n",
       "      <td>29.71</td>\n",
       "    </tr>\n",
       "    <tr>\n",
       "      <th>8</th>\n",
       "      <td>Southampton</td>\n",
       "      <td>3</td>\n",
       "      <td>398</td>\n",
       "      <td>50.96</td>\n",
       "    </tr>\n",
       "  </tbody>\n",
       "</table>\n",
       "</div>"
      ],
      "text/plain": [
       "  Porto de Embarque  Classe  Quantidade  Porcentagem (%)\n",
       "0         Cherbourg       1         128            60.38\n",
       "1         Cherbourg       2          24            11.32\n",
       "2         Cherbourg       3          60            28.30\n",
       "3        Queenstown       1           3             6.00\n",
       "4        Queenstown       2           5            10.00\n",
       "5        Queenstown       3          42            84.00\n",
       "6       Southampton       1         151            19.33\n",
       "7       Southampton       2         232            29.71\n",
       "8       Southampton       3         398            50.96"
      ]
     },
     "execution_count": 148,
     "metadata": {},
     "output_type": "execute_result"
    }
   ],
   "source": [
    "passengers = passengerPercentageByPortAndClass(data)\n",
    "\n",
    "# Exibir os resultados\n",
    "passengers\n"
   ]
  },
  {
   "cell_type": "code",
   "execution_count": 149,
   "id": "a43de48d7a5c0b22",
   "metadata": {
    "ExecuteTime": {
     "end_time": "2024-12-07T13:24:52.638466Z",
     "start_time": "2024-12-07T13:24:52.616817Z"
    },
    "id": "a43de48d7a5c0b22",
    "outputId": "1e85d58d-cff2-4ec6-9d5e-ee8ca2c982ef"
   },
   "outputs": [],
   "source": [
    "# region Plot de Sobreviventes/falecidos por Porto de Embarque\n",
    "def plotPassengersEmbarked(data):\n",
    "    # Mapeamento para coluna de sobrevivência\n",
    "    data[\"sobreviveu\"] = data[\"Survived\"].map({0: \"Não\", 1: \"Sim\"})\n",
    "\n",
    "    # Configuração do estilo do gráfico\n",
    "    sns.set_theme(style=\"whitegrid\", palette=\"pastel\")\n",
    "\n",
    "    # Criar o gráfico\n",
    "    plt.figure(figsize=(10, 6), dpi=120)\n",
    "    ax = sns.countplot(\n",
    "        x=\"Embarked\", hue=\"sobreviveu\", data=data, palette=[\"darkred\", \"navy\"], edgecolor=\"black\"\n",
    "    )\n",
    "\n",
    "    # Adicionar as contagens às barras\n",
    "    for bar in ax.patches:\n",
    "        # Verificar se a barra é visível (altura maior que zero)\n",
    "        if bar.get_height() > 0:\n",
    "            # Calcular posição do texto\n",
    "            xPos = bar.get_x() + bar.get_width() / 2\n",
    "            height = bar.get_height()\n",
    "\n",
    "            # Inserir texto com a contagem acima da barra\n",
    "            ax.text(\n",
    "                xPos,\n",
    "                height + 2,\n",
    "                f\"{int(height)}\",\n",
    "                ha=\"center\",\n",
    "                va=\"bottom\",\n",
    "                fontsize=10,\n",
    "                weight=\"bold\",\n",
    "            )\n",
    "\n",
    "    # Personalizar título e rótulos\n",
    "    ax.set_title(\n",
    "        \"Sobreviventes/Falecimentos por Porto de Embarque\", fontsize=16, weight=\"bold\"\n",
    "    )\n",
    "    ax.set_xlabel(\"Portos de Embarque\", fontsize=14)\n",
    "    ax.set_ylabel(\"Contagem\", fontsize=14)\n",
    "\n",
    "    # Ajustar tamanho dos rótulos\n",
    "    ax.tick_params(axis=\"x\", labelsize=12)\n",
    "    ax.tick_params(axis=\"y\", labelsize=12)\n",
    "\n",
    "    # Melhorar a posição da legenda\n",
    "    ax.legend(title=\"Sobreviveu\", fontsize=12, title_fontsize=13, loc=\"upper right\")\n",
    "\n",
    "    # Mostrar o gráfico com layout ajustado\n",
    "    plt.tight_layout()\n",
    "    plt.show()\n",
    "\n",
    "\n",
    "# endregion"
   ]
  },
  {
   "cell_type": "code",
   "execution_count": 150,
   "id": "6f009a02",
   "metadata": {
    "ExecuteTime": {
     "end_time": "2024-12-07T13:24:52.980793Z",
     "start_time": "2024-12-07T13:24:52.754797Z"
    }
   },
   "outputs": [
    {
     "data": {
      "image/png": "[encoded data removed]",
      "text/plain": [
       "<Figure size 1200x720 with 1 Axes>"
      ]
     },
     "metadata": {},
     "output_type": "display_data"
    }
   ],
   "source": [
    "plotPassengersEmbarked(data)"
   ]
  },
  {
   "cell_type": "code",
   "execution_count": 151,
   "id": "f6f966dd0157ee6a",
   "metadata": {
    "ExecuteTime": {
     "end_time": "2024-12-07T13:24:53.038580Z",
     "start_time": "2024-12-07T13:24:53.033920Z"
    },
    "id": "f6f966dd0157ee6a"
   },
   "outputs": [],
   "source": [
    "# region Porcentagem de Falecimento por Porto de Embarque\n",
    "def DeathPercentageByPort(data):\n",
    "    # Filtrar passageiros que não sobreviveram (Survived == 0)\n",
    "    deceasedByPort = data[data[\"Survived\"] == 0].groupby(\"Embarked\")[\"PassengerId\"].count()\n",
    "\n",
    "    # Total de passageiros por porto\n",
    "    totalByPort = data.groupby(\"Embarked\")[\"PassengerId\"].count()\n",
    "\n",
    "    # Calcular a porcentagem de passageiros que faleceram por porto\n",
    "    percentageDeceasedByPort = (\n",
    "        (deceasedByPort / totalByPort * 100).round(2).reset_index()\n",
    "    )\n",
    "    percentageDeceasedByPort.columns = [\"Porto de Embarque\", \"Falecimentos (%)\"]\n",
    "\n",
    "    return percentageDeceasedByPort\n",
    "\n",
    "\n",
    "# endregion"
   ]
  },
  {
   "cell_type": "code",
   "execution_count": 152,
   "id": "d22476c6",
   "metadata": {
    "ExecuteTime": {
     "end_time": "2024-12-07T13:24:53.150403Z",
     "start_time": "2024-12-07T13:24:53.140493Z"
    },
    "id": "d22476c6",
    "outputId": "5387b313-f25a-458e-db66-7185c2f48e84"
   },
   "outputs": [
    {
     "data": {
      "text/html": [
       "<div>\n",
       "<style scoped>\n",
       "    .dataframe tbody tr th:only-of-type {\n",
       "        vertical-align: middle;\n",
       "    }\n",
       "\n",
       "    .dataframe tbody tr th {\n",
       "        vertical-align: top;\n",
       "    }\n",
       "\n",
       "    .dataframe thead th {\n",
       "        text-align: right;\n",
       "    }\n",
       "</style>\n",
       "<table border=\"1\" class=\"dataframe\">\n",
       "  <thead>\n",
       "    <tr style=\"text-align: right;\">\n",
       "      <th></th>\n",
       "      <th>Porto de Embarque</th>\n",
       "      <th>Falecimentos (%)</th>\n",
       "    </tr>\n",
       "  </thead>\n",
       "  <tbody>\n",
       "    <tr>\n",
       "      <th>0</th>\n",
       "      <td>Cherbourg</td>\n",
       "      <td>45.28</td>\n",
       "    </tr>\n",
       "    <tr>\n",
       "      <th>1</th>\n",
       "      <td>Queenstown</td>\n",
       "      <td>60.00</td>\n",
       "    </tr>\n",
       "    <tr>\n",
       "      <th>2</th>\n",
       "      <td>Southampton</td>\n",
       "      <td>64.28</td>\n",
       "    </tr>\n",
       "  </tbody>\n",
       "</table>\n",
       "</div>"
      ],
      "text/plain": [
       "  Porto de Embarque  Falecimentos (%)\n",
       "0         Cherbourg             45.28\n",
       "1        Queenstown             60.00\n",
       "2       Southampton             64.28"
      ]
     },
     "execution_count": 152,
     "metadata": {},
     "output_type": "execute_result"
    }
   ],
   "source": [
    "percentageDeceasedByPort = DeathPercentageByPort(data)\n",
    "\n",
    "# Exibir os resultados\n",
    "percentageDeceasedByPort"
   ]
  },
  {
   "cell_type": "markdown",
   "id": "f9daf984",
   "metadata": {
    "id": "f9daf984"
   },
   "source": [
    "* Jack Dawson, interpretado por Leonardo DiCaprio, embarca no Titanic no porto de **Southampton**.\n",
    "* Rose DeWitt Bukater, interpretada por Kate Winslet, também embarca no Titanic no porto de **Southampton**."
   ]
  },
  {
   "cell_type": "code",
   "execution_count": 153,
   "id": "3c6790e50156375b",
   "metadata": {
    "ExecuteTime": {
     "end_time": "2024-12-07T13:24:53.260063Z",
     "start_time": "2024-12-07T13:24:53.254605Z"
    },
    "id": "3c6790e50156375b"
   },
   "outputs": [],
   "source": [
    "#region Porcentagem de Falecimentos por Porto e Classe\n",
    "def PassengersByPortAndClass(data):\n",
    "    # Total de passageiros por porto e classe\n",
    "    totalByPortClass = data.groupby([\"Embarked\", \"Pclass\"])[\"PassengerId\"].count().reset_index()\n",
    "    totalByPortClass.columns = [\"Porto de Embarque\", \"Classe\", \"Total de Passageiros\"]\n",
    "\n",
    "    # Filtrar passageiros que não sobreviveram (Survived == 0) e agrupar por porto e classe\n",
    "    deceasedByPortClass = data[data[\"Survived\"] == 0].groupby([\"Embarked\", \"Pclass\"])[\"PassengerId\"].count().reset_index()\n",
    "    deceasedByPortClass.columns = [\"Porto de Embarque\", \"Classe\", \"Falecimentos\"]\n",
    "\n",
    "    # Combinar os dados de total de passageiros e falecimentos\n",
    "    combinedData = totalByPortClass.merge(deceasedByPortClass, on=[\"Porto de Embarque\", \"Classe\"], how=\"left\")\n",
    "    combinedData[\"Falecimentos\"] = combinedData[\"Falecimentos\"].fillna(0).astype(int)  # Substituir valores ausentes por 0\n",
    "\n",
    "    # Calcular a porcentagem de falecimentos\n",
    "    combinedData[\"Falecimentos (%)\"] = (combinedData[\"Falecimentos\"] / combinedData[\"Total de Passageiros\"] * 100).round(2)\n",
    "\n",
    "    # Reordenar as colunas para colocar \"Falecimentos (%)\" como última\n",
    "    combinedData = combinedData[[\"Porto de Embarque\", \"Classe\", \"Total de Passageiros\", \"Falecimentos\", \"Falecimentos (%)\"]]\n",
    "\n",
    "    return combinedData\n",
    "\n",
    "#endregion"
   ]
  },
  {
   "cell_type": "code",
   "execution_count": 154,
   "id": "98db6022",
   "metadata": {
    "ExecuteTime": {
     "end_time": "2024-12-07T13:24:53.365155Z",
     "start_time": "2024-12-07T13:24:53.349081Z"
    },
    "id": "98db6022",
    "outputId": "8a47abf6-38ae-433b-c7de-51248abefca4"
   },
   "outputs": [
    {
     "data": {
      "text/html": [
       "<div>\n",
       "<style scoped>\n",
       "    .dataframe tbody tr th:only-of-type {\n",
       "        vertical-align: middle;\n",
       "    }\n",
       "\n",
       "    .dataframe tbody tr th {\n",
       "        vertical-align: top;\n",
       "    }\n",
       "\n",
       "    .dataframe thead th {\n",
       "        text-align: right;\n",
       "    }\n",
       "</style>\n",
       "<table border=\"1\" class=\"dataframe\">\n",
       "  <thead>\n",
       "    <tr style=\"text-align: right;\">\n",
       "      <th></th>\n",
       "      <th>Porto de Embarque</th>\n",
       "      <th>Classe</th>\n",
       "      <th>Total de Passageiros</th>\n",
       "      <th>Falecimentos</th>\n",
       "      <th>Falecimentos (%)</th>\n",
       "    </tr>\n",
       "  </thead>\n",
       "  <tbody>\n",
       "    <tr>\n",
       "      <th>0</th>\n",
       "      <td>Cherbourg</td>\n",
       "      <td>1</td>\n",
       "      <td>128</td>\n",
       "      <td>48</td>\n",
       "      <td>37.50</td>\n",
       "    </tr>\n",
       "    <tr>\n",
       "      <th>1</th>\n",
       "      <td>Cherbourg</td>\n",
       "      <td>2</td>\n",
       "      <td>24</td>\n",
       "      <td>12</td>\n",
       "      <td>50.00</td>\n",
       "    </tr>\n",
       "    <tr>\n",
       "      <th>2</th>\n",
       "      <td>Cherbourg</td>\n",
       "      <td>3</td>\n",
       "      <td>60</td>\n",
       "      <td>36</td>\n",
       "      <td>60.00</td>\n",
       "    </tr>\n",
       "    <tr>\n",
       "      <th>3</th>\n",
       "      <td>Queenstown</td>\n",
       "      <td>1</td>\n",
       "      <td>3</td>\n",
       "      <td>1</td>\n",
       "      <td>33.33</td>\n",
       "    </tr>\n",
       "    <tr>\n",
       "      <th>4</th>\n",
       "      <td>Queenstown</td>\n",
       "      <td>2</td>\n",
       "      <td>5</td>\n",
       "      <td>4</td>\n",
       "      <td>80.00</td>\n",
       "    </tr>\n",
       "    <tr>\n",
       "      <th>5</th>\n",
       "      <td>Queenstown</td>\n",
       "      <td>3</td>\n",
       "      <td>42</td>\n",
       "      <td>25</td>\n",
       "      <td>59.52</td>\n",
       "    </tr>\n",
       "    <tr>\n",
       "      <th>6</th>\n",
       "      <td>Southampton</td>\n",
       "      <td>1</td>\n",
       "      <td>151</td>\n",
       "      <td>65</td>\n",
       "      <td>43.05</td>\n",
       "    </tr>\n",
       "    <tr>\n",
       "      <th>7</th>\n",
       "      <td>Southampton</td>\n",
       "      <td>2</td>\n",
       "      <td>232</td>\n",
       "      <td>133</td>\n",
       "      <td>57.33</td>\n",
       "    </tr>\n",
       "    <tr>\n",
       "      <th>8</th>\n",
       "      <td>Southampton</td>\n",
       "      <td>3</td>\n",
       "      <td>398</td>\n",
       "      <td>304</td>\n",
       "      <td>76.38</td>\n",
       "    </tr>\n",
       "  </tbody>\n",
       "</table>\n",
       "</div>"
      ],
      "text/plain": [
       "  Porto de Embarque  Classe  Total de Passageiros  Falecimentos  \\\n",
       "0         Cherbourg       1                   128            48   \n",
       "1         Cherbourg       2                    24            12   \n",
       "2         Cherbourg       3                    60            36   \n",
       "3        Queenstown       1                     3             1   \n",
       "4        Queenstown       2                     5             4   \n",
       "5        Queenstown       3                    42            25   \n",
       "6       Southampton       1                   151            65   \n",
       "7       Southampton       2                   232           133   \n",
       "8       Southampton       3                   398           304   \n",
       "\n",
       "   Falecimentos (%)  \n",
       "0             37.50  \n",
       "1             50.00  \n",
       "2             60.00  \n",
       "3             33.33  \n",
       "4             80.00  \n",
       "5             59.52  \n",
       "6             43.05  \n",
       "7             57.33  \n",
       "8             76.38  "
      ]
     },
     "execution_count": 154,
     "metadata": {},
     "output_type": "execute_result"
    }
   ],
   "source": [
    "percentageDeceasedByPortClass = PassengersByPortAndClass(data)\n",
    "\n",
    "# Exibir os resultados\n",
    "percentageDeceasedByPortClass"
   ]
  },
  {
   "cell_type": "code",
   "execution_count": 155,
   "id": "9a248b3b3ea04f70",
   "metadata": {
    "ExecuteTime": {
     "end_time": "2024-12-07T13:24:53.496460Z",
     "start_time": "2024-12-07T13:24:53.490303Z"
    },
    "id": "9a248b3b3ea04f70"
   },
   "outputs": [],
   "source": [
    "# region Passageiros que viajavam juntos\n",
    "def PassengersTravelingTogether(data):\n",
    "    # Agrupar passageiros com base no Ticket\n",
    "    groupedTickets = data.groupby(\"Ticket\")[\"PassengerId\"].count()\n",
    "\n",
    "    # Identificar tickets compartilhados por mais de uma pessoa\n",
    "    sharedTickets = groupedTickets[groupedTickets > 1]\n",
    "\n",
    "    # Total de pessoas que compartilhavam tickets\n",
    "    totalShared = sharedTickets.sum()\n",
    "\n",
    "    # Recriar `sharedGroups` para garantir que todas as colunas relevantes estão presentes\n",
    "    sharedGroups = data[data[\"Ticket\"].isin(sharedTickets.index)]\n",
    "\n",
    "    # Mapear valores de 'Sex', se necessário\n",
    "    if sharedGroups[\"Sex\"].dtype in [int, float]:\n",
    "        sharedGroups[\"Sex\"] = sharedGroups[\"Sex\"].map({0: \"female\", 1: \"male\"})\n",
    "\n",
    "    totalBySexAll = sharedGroups.groupby(\"Sex\")[\"PassengerId\"].count()\n",
    "\n",
    "    # Calcular o total de passageiros por sexo que viajavam juntos\n",
    "    totalBySex = sharedGroups.groupby(\"Sex\")[\"Survived\"].count()\n",
    "\n",
    "    # Calcular o total de sobreviventes por sexo\n",
    "    survivedBySex = sharedGroups.groupby(\"Sex\")[\"Survived\"].sum()\n",
    "\n",
    "    # Calcular a porcentagem de sobreviventes por sexo\n",
    "    percentageSurvivedBySex = (survivedBySex / totalBySex * 100).round(2).reset_index()\n",
    "    percentageSurvivedBySex.columns = [\"Sex\", \"SurvivalPercentage\"]\n",
    "\n",
    "    # Exibir os resultados\n",
    "    print(\n",
    "        f\"Total de Pessoas que Compartilhavam Tickets: {totalShared} (F: {totalBySexAll.get(\"female\", 0)} | M: {totalBySexAll.get(\"male\", 0)})\\n\"\n",
    "    )\n",
    "\n",
    "    firstSurvivalPercentage = percentageSurvivedBySex.iloc[0][\"SurvivalPercentage\"]\n",
    "    print(\n",
    "        f\"Total de mulheres sobreviventes que compartilhavam tickets: {survivedBySex.iloc[0]} ({firstSurvivalPercentage}%)\\n\"\n",
    "    )\n",
    "\n",
    "    secondSurvivalPercentage = percentageSurvivedBySex.iloc[1][\"SurvivalPercentage\"]\n",
    "    print(\n",
    "        f\"Total de homens sobreviventes que compartilhavam tickets: {survivedBySex.iloc[1]} ({secondSurvivalPercentage}%)\"\n",
    "    )\n",
    "\n",
    "    # Detalhes de grupos que compartilhavam tickets\n",
    "    survivors = sharedGroups[sharedGroups[\"Survived\"] == 1]\n",
    "\n",
    "    print(\"\\nTotal de Mulheres Sobreveviventes por Classe:\")\n",
    "    females = survivors[survivors[\"Sex\"] == \"female\"]\n",
    "    print(females.value_counts(\"Pclass\"))\n",
    "\n",
    "    print(\"\\nTotal de Homens Sobreveviventes por Classe:\")\n",
    "    males = survivors[survivors[\"Sex\"] == \"male\"]\n",
    "    print(males.value_counts(\"Pclass\"))\n",
    "\n",
    "\n",
    "# endregion"
   ]
  },
  {
   "cell_type": "code",
   "execution_count": 156,
   "id": "ca70b13c",
   "metadata": {
    "ExecuteTime": {
     "end_time": "2024-12-07T13:24:53.659324Z",
     "start_time": "2024-12-07T13:24:53.647785Z"
    },
    "id": "ca70b13c",
    "outputId": "d87f6791-e351-43f9-f00d-ed224360d54e"
   },
   "outputs": [
    {
     "name": "stdout",
     "output_type": "stream",
     "text": [
      "Total de Pessoas que Compartilhavam Tickets: 493 (F: 260 | M: 233)\n",
      "\n",
      "Total de mulheres sobreviventes que compartilhavam tickets: 221 (85.0%)\n",
      "\n",
      "Total de homens sobreviventes que compartilhavam tickets: 44 (18.88%)\n",
      "\n",
      "Total de Mulheres Sobreveviventes por Classe:\n",
      "Pclass\n",
      "1    110\n",
      "2     64\n",
      "3     47\n",
      "Name: count, dtype: int64\n",
      "\n",
      "Total de Homens Sobreveviventes por Classe:\n",
      "Pclass\n",
      "1    19\n",
      "3    15\n",
      "2    10\n",
      "Name: count, dtype: int64\n"
     ]
    }
   ],
   "source": [
    "PassengersTravelingTogether(data)"
   ]
  },
  {
   "cell_type": "code",
   "execution_count": 157,
   "id": "fb6fab3c",
   "metadata": {
    "ExecuteTime": {
     "end_time": "2024-12-07T13:24:53.783567Z",
     "start_time": "2024-12-07T13:24:53.772252Z"
    },
    "id": "fb6fab3c"
   },
   "outputs": [],
   "source": [
    "# region Obtém os sobrenomes com 100% de falecimentos\n",
    "def getListLastNames(data, status):\n",
    "    # Contar o total de passageiros por sobrenome\n",
    "    totalByLastName = data.groupby(\"LastName\")[\"PassengerId\"].count()\n",
    "\n",
    "    # Contar o total de falecimentos por sobrenome\n",
    "    deceasedByLastName = (\n",
    "        data[data[\"Survived\"] == status].groupby(\"LastName\")[\"PassengerId\"].count()\n",
    "    )\n",
    "\n",
    "    # Alinhar os índices para comparação\n",
    "    deceasedByLastName = deceasedByLastName.reindex(totalByLastName.index, fill_value=0)\n",
    "\n",
    "    # Identificar sobrenomes com 100% de falecimentos\n",
    "    lastNamesWithFullDeaths = deceasedByLastName[\n",
    "        deceasedByLastName == totalByLastName\n",
    "    ].reset_index()\n",
    "\n",
    "    return lastNamesWithFullDeaths\n",
    "\n",
    "\n",
    "# endregion"
   ]
  },
  {
   "cell_type": "code",
   "execution_count": 158,
   "id": "4af0ab68a63ea6cf",
   "metadata": {
    "ExecuteTime": {
     "end_time": "2024-12-07T13:24:53.866989Z",
     "start_time": "2024-12-07T13:24:53.850777Z"
    },
    "id": "4af0ab68a63ea6cf"
   },
   "outputs": [],
   "source": [
    "# region Famílias que Partiram do mesmo Porto (Falecimentos)\n",
    "def FamiliesSamePort(data, status):\n",
    "    # Filtrar dados completos das famílias completamente falecidas\n",
    "    fullyDeceasedataamilies = data[\n",
    "        data[\"LastName\"].isin(getListLastNames(data, status)[\"LastName\"])\n",
    "    ]\n",
    "\n",
    "    # Agrupar por sobrenome, classe e porto de embarque para verificar famílias que partiram do mesmo porto\n",
    "    familiesFromSamePort = (\n",
    "        fullyDeceasedataamilies.groupby([\"LastName\", \"Pclass\", \"Embarked\"])[\"PassengerId\"]\n",
    "        .count()\n",
    "        .reset_index()\n",
    "    )\n",
    "\n",
    "    # Renomear as colunas para legibilidade\n",
    "    statuss = \"Falecidos\" if status == 0 else \"Sobreviventes\"\n",
    "    familiesFromSamePort.columns = [\"Sobrenome\", \"Classe\", \"Embarque\", statuss]\n",
    "\n",
    "    # Filtrar famílias que partiram do mesmo porto\n",
    "    familiesFromSamePort = familiesFromSamePort[familiesFromSamePort[statuss] > 1]\n",
    "\n",
    "    # Ordenar por número de falecidos\n",
    "    familiesFromSamePort = familiesFromSamePort.sort_values(\n",
    "        by=statuss, ascending=False\n",
    "    )\n",
    "\n",
    "    return familiesFromSamePort\n",
    "\n",
    "\n",
    "# endregion"
   ]
  },
  {
   "cell_type": "code",
   "execution_count": 159,
   "id": "c502360a",
   "metadata": {
    "ExecuteTime": {
     "end_time": "2024-12-07T13:24:53.903537Z",
     "start_time": "2024-12-07T13:24:53.890045Z"
    },
    "id": "c502360a",
    "outputId": "fc0cb545-f05c-4e4d-ec1a-867b353d16a0"
   },
   "outputs": [
    {
     "data": {
      "text/html": [
       "<div>\n",
       "<style scoped>\n",
       "    .dataframe tbody tr th:only-of-type {\n",
       "        vertical-align: middle;\n",
       "    }\n",
       "\n",
       "    .dataframe tbody tr th {\n",
       "        vertical-align: top;\n",
       "    }\n",
       "\n",
       "    .dataframe thead th {\n",
       "        text-align: right;\n",
       "    }\n",
       "</style>\n",
       "<table border=\"1\" class=\"dataframe\">\n",
       "  <thead>\n",
       "    <tr style=\"text-align: right;\">\n",
       "      <th></th>\n",
       "      <th>Sobrenome</th>\n",
       "      <th>Classe</th>\n",
       "      <th>Embarque</th>\n",
       "      <th>Sobreviventes</th>\n",
       "    </tr>\n",
       "  </thead>\n",
       "  <tbody>\n",
       "    <tr>\n",
       "      <th>8</th>\n",
       "      <td>Baclini</td>\n",
       "      <td>3</td>\n",
       "      <td>Cherbourg</td>\n",
       "      <td>4</td>\n",
       "    </tr>\n",
       "    <tr>\n",
       "      <th>17</th>\n",
       "      <td>Becker</td>\n",
       "      <td>2</td>\n",
       "      <td>Southampton</td>\n",
       "      <td>4</td>\n",
       "    </tr>\n",
       "    <tr>\n",
       "      <th>163</th>\n",
       "      <td>Sandstrom</td>\n",
       "      <td>3</td>\n",
       "      <td>Southampton</td>\n",
       "      <td>3</td>\n",
       "    </tr>\n",
       "    <tr>\n",
       "      <th>153</th>\n",
       "      <td>Richards</td>\n",
       "      <td>2</td>\n",
       "      <td>Southampton</td>\n",
       "      <td>3</td>\n",
       "    </tr>\n",
       "    <tr>\n",
       "      <th>151</th>\n",
       "      <td>Quick</td>\n",
       "      <td>2</td>\n",
       "      <td>Southampton</td>\n",
       "      <td>3</td>\n",
       "    </tr>\n",
       "  </tbody>\n",
       "</table>\n",
       "</div>"
      ],
      "text/plain": [
       "     Sobrenome  Classe     Embarque  Sobreviventes\n",
       "8      Baclini       3    Cherbourg              4\n",
       "17      Becker       2  Southampton              4\n",
       "163  Sandstrom       3  Southampton              3\n",
       "153   Richards       2  Southampton              3\n",
       "151      Quick       2  Southampton              3"
      ]
     },
     "execution_count": 159,
     "metadata": {},
     "output_type": "execute_result"
    }
   ],
   "source": [
    "status = 1\n",
    "\n",
    "familiesFromSamePort = FamiliesSamePort(data, status)\n",
    "\n",
    "# Exibir os resultados\n",
    "familiesFromSamePort.head()"
   ]
  },
  {
   "cell_type": "code",
   "execution_count": 160,
   "id": "38cb98c3",
   "metadata": {
    "ExecuteTime": {
     "end_time": "2024-12-07T13:24:53.957222Z",
     "start_time": "2024-12-07T13:24:53.952877Z"
    },
    "id": "38cb98c3"
   },
   "outputs": [],
   "source": [
    "# region Colorir Linhas Específicas\n",
    "def highlightSpecificRows(row, rows):\n",
    "    if row.name in rows:\n",
    "        return [\"background-color: yellow\"] * len(row)\n",
    "    else:\n",
    "        return [\"\"] * len(row)\n",
    "\n",
    "\n",
    "# endregion"
   ]
  },
  {
   "cell_type": "code",
   "execution_count": 161,
   "id": "7984817cb159daaf",
   "metadata": {
    "ExecuteTime": {
     "end_time": "2024-12-07T13:24:54.046873Z",
     "start_time": "2024-12-07T13:24:54.040056Z"
    },
    "id": "7984817cb159daaf"
   },
   "outputs": [],
   "source": [
    "# region Verificar os portos de embarque associados a um sobrenome\n",
    "def getPortsByLastName(data, lastName, rows):\n",
    "    # Filtrar dados pelo sobrenome exato (case insensitive, sem espaços extras)\n",
    "    filteredData = data[\n",
    "        data[\"LastName\"].str.strip().str.lower() == lastName.strip().lower()\n",
    "    ]\n",
    "\n",
    "    # Selecionar as colunas relevantes\n",
    "    filteredData = filteredData[\n",
    "        [\"Embarked\", \"Survived\", \"Sex\", \"Age\", \"Pclass\", \"Ticket\", \"PassengerId\"]\n",
    "    ]\n",
    "    filteredData[\"Age\"] = filteredData[\"Age\"].astype(int)\n",
    "\n",
    "    # Agrupar pelos portos de embarque, status de sobrevivência, sexo e ticket\n",
    "    portsByLastName = (\n",
    "        filteredData.groupby(\n",
    "            [\"Embarked\", \"Survived\", \"Sex\", \"Age\", \"Pclass\", \"Ticket\"]\n",
    "        )[\"PassengerId\"]\n",
    "        .count()\n",
    "        .reset_index()\n",
    "    )\n",
    "    portsByLastName.columns = [\n",
    "        \"Porto\",\n",
    "        \"Sobreviveu\",\n",
    "        \"Sexo\",\n",
    "        \"Idade\",\n",
    "        \"Classe\",\n",
    "        \"Ticket\",\n",
    "        \"Total\",\n",
    "    ]\n",
    "\n",
    "    # Mapear a coluna \"Sobreviveu\" para valores legíveis\n",
    "    portsByLastName[\"Sobreviveu\"] = portsByLastName[\"Sobreviveu\"].map(\n",
    "        {0: \"Não\", 1: \"Sim\"}\n",
    "    )\n",
    "    portsByLastName[\"Sexo\"] = portsByLastName[\"Sexo\"].map(\n",
    "        {0: \"Feminino\", 1: \"Masculino\"}\n",
    "    )\n",
    "\n",
    "    # return portsByLastName.sort_values(by=\"Ticket\", ascending=False)\n",
    "    return (\n",
    "        portsByLastName.style.apply(highlightSpecificRows, rows=rows, axis=1)\n",
    "        if lastName == \"Smith\"\n",
    "        else portsByLastName\n",
    "    )\n",
    "\n",
    "\n",
    "# endregion"
   ]
  },
  {
   "cell_type": "code",
   "execution_count": 162,
   "id": "9aba5635a8fb2797",
   "metadata": {
    "ExecuteTime": {
     "end_time": "2024-12-07T13:24:54.225290Z",
     "start_time": "2024-12-07T13:24:54.212120Z"
    },
    "id": "9aba5635a8fb2797",
    "outputId": "9a973d5a-ba2b-481d-fd30-4a22273ddc51"
   },
   "outputs": [
    {
     "data": {
      "text/html": [
       "<div>\n",
       "<style scoped>\n",
       "    .dataframe tbody tr th:only-of-type {\n",
       "        vertical-align: middle;\n",
       "    }\n",
       "\n",
       "    .dataframe tbody tr th {\n",
       "        vertical-align: top;\n",
       "    }\n",
       "\n",
       "    .dataframe thead th {\n",
       "        text-align: right;\n",
       "    }\n",
       "</style>\n",
       "<table border=\"1\" class=\"dataframe\">\n",
       "  <thead>\n",
       "    <tr style=\"text-align: right;\">\n",
       "      <th></th>\n",
       "      <th>Porto</th>\n",
       "      <th>Sobreviveu</th>\n",
       "      <th>Sexo</th>\n",
       "      <th>Idade</th>\n",
       "      <th>Classe</th>\n",
       "      <th>Ticket</th>\n",
       "      <th>Total</th>\n",
       "    </tr>\n",
       "  </thead>\n",
       "  <tbody>\n",
       "    <tr>\n",
       "      <th>0</th>\n",
       "      <td>Cherbourg</td>\n",
       "      <td>Sim</td>\n",
       "      <td>Feminino</td>\n",
       "      <td>0</td>\n",
       "      <td>3</td>\n",
       "      <td>2666</td>\n",
       "      <td>2</td>\n",
       "    </tr>\n",
       "    <tr>\n",
       "      <th>1</th>\n",
       "      <td>Cherbourg</td>\n",
       "      <td>Sim</td>\n",
       "      <td>Feminino</td>\n",
       "      <td>5</td>\n",
       "      <td>3</td>\n",
       "      <td>2666</td>\n",
       "      <td>1</td>\n",
       "    </tr>\n",
       "    <tr>\n",
       "      <th>2</th>\n",
       "      <td>Cherbourg</td>\n",
       "      <td>Sim</td>\n",
       "      <td>Feminino</td>\n",
       "      <td>24</td>\n",
       "      <td>3</td>\n",
       "      <td>2666</td>\n",
       "      <td>1</td>\n",
       "    </tr>\n",
       "  </tbody>\n",
       "</table>\n",
       "</div>"
      ],
      "text/plain": [
       "       Porto Sobreviveu      Sexo  Idade  Classe Ticket  Total\n",
       "0  Cherbourg        Sim  Feminino      0       3   2666      2\n",
       "1  Cherbourg        Sim  Feminino      5       3   2666      1\n",
       "2  Cherbourg        Sim  Feminino     24       3   2666      1"
      ]
     },
     "execution_count": 162,
     "metadata": {},
     "output_type": "execute_result"
    }
   ],
   "source": [
    "lastNameToCheck = \"Baclini\"\n",
    "portsForLastName = getPortsByLastName(data, lastNameToCheck, [1, 2])\n",
    "\n",
    "# Exibir os resultados\n",
    "portsForLastName"
   ]
  },
  {
   "cell_type": "code",
   "execution_count": 170,
   "id": "6a8bd4e8",
   "metadata": {},
   "outputs": [
    {
     "data": {
      "text/html": [
       "<div>\n",
       "<style scoped>\n",
       "    .dataframe tbody tr th:only-of-type {\n",
       "        vertical-align: middle;\n",
       "    }\n",
       "\n",
       "    .dataframe tbody tr th {\n",
       "        vertical-align: top;\n",
       "    }\n",
       "\n",
       "    .dataframe thead th {\n",
       "        text-align: right;\n",
       "    }\n",
       "</style>\n",
       "<table border=\"1\" class=\"dataframe\">\n",
       "  <thead>\n",
       "    <tr style=\"text-align: right;\">\n",
       "      <th></th>\n",
       "      <th>Survived</th>\n",
       "      <th>Pclass</th>\n",
       "      <th>Age</th>\n",
       "      <th>Name</th>\n",
       "    </tr>\n",
       "  </thead>\n",
       "  <tbody>\n",
       "    <tr>\n",
       "      <th>448</th>\n",
       "      <td>1</td>\n",
       "      <td>3</td>\n",
       "      <td>5</td>\n",
       "      <td>Baclini, Miss. Marie Catherine</td>\n",
       "    </tr>\n",
       "    <tr>\n",
       "      <th>469</th>\n",
       "      <td>1</td>\n",
       "      <td>3</td>\n",
       "      <td>0</td>\n",
       "      <td>Baclini, Miss. Helene Barbara</td>\n",
       "    </tr>\n",
       "    <tr>\n",
       "      <th>644</th>\n",
       "      <td>1</td>\n",
       "      <td>3</td>\n",
       "      <td>0</td>\n",
       "      <td>Baclini, Miss. Eugenie</td>\n",
       "    </tr>\n",
       "    <tr>\n",
       "      <th>858</th>\n",
       "      <td>1</td>\n",
       "      <td>3</td>\n",
       "      <td>24</td>\n",
       "      <td>Baclini, Mrs. Solomon (Latifa Qurban)</td>\n",
       "    </tr>\n",
       "  </tbody>\n",
       "</table>\n",
       "</div>"
      ],
      "text/plain": [
       "     Survived  Pclass  Age                                   Name\n",
       "448         1       3    5         Baclini, Miss. Marie Catherine\n",
       "469         1       3    0          Baclini, Miss. Helene Barbara\n",
       "644         1       3    0                 Baclini, Miss. Eugenie\n",
       "858         1       3   24  Baclini, Mrs. Solomon (Latifa Qurban)"
      ]
     },
     "execution_count": 170,
     "metadata": {},
     "output_type": "execute_result"
    }
   ],
   "source": [
    "ticket = \"2666\"\n",
    "\n",
    "filteredData = data[(data[\"Ticket\"] == ticket)]\n",
    "filteredData[\"Age\"] = filteredData[\"Age\"].astype(int)\n",
    "\n",
    "# Exibir o resultado\n",
    "filteredData[[\"Survived\", \"Pclass\", \"Age\", \"Name\"]]"
   ]
  },
  {
   "cell_type": "code",
   "execution_count": 171,
   "id": "eaf917ad",
   "metadata": {},
   "outputs": [
    {
     "data": {
      "text/html": [
       "<div>\n",
       "<style scoped>\n",
       "    .dataframe tbody tr th:only-of-type {\n",
       "        vertical-align: middle;\n",
       "    }\n",
       "\n",
       "    .dataframe tbody tr th {\n",
       "        vertical-align: top;\n",
       "    }\n",
       "\n",
       "    .dataframe thead th {\n",
       "        text-align: right;\n",
       "    }\n",
       "</style>\n",
       "<table border=\"1\" class=\"dataframe\">\n",
       "  <thead>\n",
       "    <tr style=\"text-align: right;\">\n",
       "      <th></th>\n",
       "      <th>Survived</th>\n",
       "      <th>Pclass</th>\n",
       "      <th>Age</th>\n",
       "      <th>Name</th>\n",
       "    </tr>\n",
       "  </thead>\n",
       "  <tbody>\n",
       "    <tr>\n",
       "      <th>448</th>\n",
       "      <td>1</td>\n",
       "      <td>3</td>\n",
       "      <td>5</td>\n",
       "      <td>Baclini, Miss. Marie Catherine</td>\n",
       "    </tr>\n",
       "    <tr>\n",
       "      <th>469</th>\n",
       "      <td>1</td>\n",
       "      <td>3</td>\n",
       "      <td>0</td>\n",
       "      <td>Baclini, Miss. Helene Barbara</td>\n",
       "    </tr>\n",
       "    <tr>\n",
       "      <th>644</th>\n",
       "      <td>1</td>\n",
       "      <td>3</td>\n",
       "      <td>0</td>\n",
       "      <td>Baclini, Miss. Eugenie</td>\n",
       "    </tr>\n",
       "    <tr>\n",
       "      <th>858</th>\n",
       "      <td>1</td>\n",
       "      <td>3</td>\n",
       "      <td>24</td>\n",
       "      <td>Baclini, Mrs. Solomon (Latifa Qurban)</td>\n",
       "    </tr>\n",
       "  </tbody>\n",
       "</table>\n",
       "</div>"
      ],
      "text/plain": [
       "     Survived  Pclass  Age                                   Name\n",
       "448         1       3    5         Baclini, Miss. Marie Catherine\n",
       "469         1       3    0          Baclini, Miss. Helene Barbara\n",
       "644         1       3    0                 Baclini, Miss. Eugenie\n",
       "858         1       3   24  Baclini, Mrs. Solomon (Latifa Qurban)"
      ]
     },
     "execution_count": 171,
     "metadata": {},
     "output_type": "execute_result"
    }
   ],
   "source": [
    "name = \"Baclini\"\n",
    "\n",
    "filteredData = data[(data[\"LastName\"] == name)]\n",
    "filteredData[\"Age\"] = filteredData[\"Age\"].astype(int)\n",
    "\n",
    "# Exibir o resultado\n",
    "filteredData[[\"Survived\", \"Pclass\", \"Age\", \"Name\"]]"
   ]
  },
  {
   "cell_type": "code",
   "execution_count": 164,
   "id": "7b59e4e7c854b39a",
   "metadata": {
    "ExecuteTime": {
     "end_time": "2024-12-07T13:24:54.348392Z",
     "start_time": "2024-12-07T13:24:54.344658Z"
    },
    "id": "7b59e4e7c854b39a"
   },
   "outputs": [],
   "source": [
    "# region Porcentagem de Falecimentos por Porto (Sobrenomes com 100%)\n",
    "\n",
    "def PercentageOfAliveDeathsByPort(data, status):\n",
    "    # Obter os dados completos das pessoas com sobrenomes de famílias totalmente falecidas\n",
    "    fullyDeceasedataamilies = data[\n",
    "        data[\"LastName\"].isin(getListLastNames(data, status)[\"LastName\"])\n",
    "    ]\n",
    "\n",
    "    # Calcular o número total de falecimentos por porto para sobrenomes com 100% de falecimentos\n",
    "    portDeceasedDetails = (\n",
    "        fullyDeceasedataamilies.groupby(\"Embarked\")[\"PassengerId\"].count()\n",
    "        / fullyDeceasedataamilies.shape[0]\n",
    "        * 100\n",
    "    ).round(2)\n",
    "    \n",
    "    # Transformar o resultado em DataFrame\n",
    "    portDeceasedDetails = portDeceasedDetails.reset_index()\n",
    "    portDeceasedDetails.columns = [\"Porto\", \"Falecimentos (%)\"]\n",
    "\n",
    "    return portDeceasedDetails\n",
    "\n",
    "\n",
    "# endregion"
   ]
  },
  {
   "cell_type": "code",
   "execution_count": 165,
   "id": "09da6073",
   "metadata": {
    "ExecuteTime": {
     "end_time": "2024-12-07T13:24:54.468170Z",
     "start_time": "2024-12-07T13:24:54.454411Z"
    },
    "id": "09da6073",
    "outputId": "896dd2a3-98d0-4b33-a0ca-9999a5a3fa38"
   },
   "outputs": [
    {
     "data": {
      "text/html": [
       "<div>\n",
       "<style scoped>\n",
       "    .dataframe tbody tr th:only-of-type {\n",
       "        vertical-align: middle;\n",
       "    }\n",
       "\n",
       "    .dataframe tbody tr th {\n",
       "        vertical-align: top;\n",
       "    }\n",
       "\n",
       "    .dataframe thead th {\n",
       "        text-align: right;\n",
       "    }\n",
       "</style>\n",
       "<table border=\"1\" class=\"dataframe\">\n",
       "  <thead>\n",
       "    <tr style=\"text-align: right;\">\n",
       "      <th></th>\n",
       "      <th>Porto</th>\n",
       "      <th>Falecimentos (%)</th>\n",
       "    </tr>\n",
       "  </thead>\n",
       "  <tbody>\n",
       "    <tr>\n",
       "      <th>0</th>\n",
       "      <td>Cherbourg</td>\n",
       "      <td>30.52</td>\n",
       "    </tr>\n",
       "    <tr>\n",
       "      <th>1</th>\n",
       "      <td>Queenstown</td>\n",
       "      <td>6.83</td>\n",
       "    </tr>\n",
       "    <tr>\n",
       "      <th>2</th>\n",
       "      <td>Southampton</td>\n",
       "      <td>62.65</td>\n",
       "    </tr>\n",
       "  </tbody>\n",
       "</table>\n",
       "</div>"
      ],
      "text/plain": [
       "         Porto  Falecimentos (%)\n",
       "0    Cherbourg             30.52\n",
       "1   Queenstown              6.83\n",
       "2  Southampton             62.65"
      ]
     },
     "execution_count": 165,
     "metadata": {},
     "output_type": "execute_result"
    }
   ],
   "source": [
    "percentageOfDeathsByPort = PercentageOfAliveDeathsByPort(data, status)\n",
    "\n",
    "# Exibir os resultados\n",
    "percentageOfDeathsByPort"
   ]
  },
  {
   "cell_type": "code",
   "execution_count": 166,
   "id": "33374cd49b70109",
   "metadata": {
    "ExecuteTime": {
     "end_time": "2024-12-07T13:24:54.616241Z",
     "start_time": "2024-12-07T13:24:54.610559Z"
    },
    "id": "33374cd49b70109"
   },
   "outputs": [],
   "source": [
    "# region Sobreviventes por Faixa Etária e Sexo\n",
    "def survivalByAgeGroupAndSex(data):\n",
    "    # Filtrar apenas os sobreviventes\n",
    "    survivors = data[data[\"Survived\"] == 1]\n",
    "\n",
    "    # Contar o número de sobreviventes por faixa etária e sexo\n",
    "    countByAgeGroupSex = survivors.groupby([\"AgeGroup\", \"Sex\"])[\"PassengerId\"].count()\n",
    "\n",
    "    # Total por faixa etária e sexo para calcular a porcentagem\n",
    "    totalByAgeGroupSex = data.groupby([\"AgeGroup\", \"Sex\"])[\"PassengerId\"].count()\n",
    "\n",
    "    # Calcular a porcentagem\n",
    "    percentageByAgeGroupSex = (countByAgeGroupSex / totalByAgeGroupSex * 100).round(2)\n",
    "\n",
    "    # Mapear os valores diretamente no índice durante a extração\n",
    "    mappedSex = totalByAgeGroupSex.index.get_level_values(1).map(\n",
    "        lambda x: \"Feminino\" if x == 0 else \"Masculino\"\n",
    "    )\n",
    "\n",
    "    # Criar um DataFrame para os resultados\n",
    "    result = pd.DataFrame(\n",
    "        {\n",
    "            \"FaixaEtaria\": totalByAgeGroupSex.index.get_level_values(0),\n",
    "            \"Sexo\": mappedSex,\n",
    "            \"Sobreviventes\": countByAgeGroupSex.values,\n",
    "            \"Sobreviventes (%)\": percentageByAgeGroupSex.values,\n",
    "        }\n",
    "    ).reset_index(drop=True)\n",
    "\n",
    "    return result\n",
    "\n",
    "\n",
    "# endregion"
   ]
  },
  {
   "cell_type": "code",
   "execution_count": 167,
   "id": "98150fda924e30eb",
   "metadata": {
    "ExecuteTime": {
     "end_time": "2024-12-07T13:24:54.749601Z",
     "start_time": "2024-12-07T13:24:54.732525Z"
    },
    "id": "98150fda924e30eb",
    "outputId": "3c3fe3a8-d700-49f5-86ee-609ad1fb67c1"
   },
   "outputs": [
    {
     "data": {
      "text/html": [
       "<div>\n",
       "<style scoped>\n",
       "    .dataframe tbody tr th:only-of-type {\n",
       "        vertical-align: middle;\n",
       "    }\n",
       "\n",
       "    .dataframe tbody tr th {\n",
       "        vertical-align: top;\n",
       "    }\n",
       "\n",
       "    .dataframe thead th {\n",
       "        text-align: right;\n",
       "    }\n",
       "</style>\n",
       "<table border=\"1\" class=\"dataframe\">\n",
       "  <thead>\n",
       "    <tr style=\"text-align: right;\">\n",
       "      <th></th>\n",
       "      <th>FaixaEtaria</th>\n",
       "      <th>Sexo</th>\n",
       "      <th>Sobreviventes</th>\n",
       "      <th>Sobreviventes (%)</th>\n",
       "    </tr>\n",
       "  </thead>\n",
       "  <tbody>\n",
       "    <tr>\n",
       "      <th>0</th>\n",
       "      <td>Jovens (0-17)</td>\n",
       "      <td>Feminino</td>\n",
       "      <td>55</td>\n",
       "      <td>76.39</td>\n",
       "    </tr>\n",
       "    <tr>\n",
       "      <th>1</th>\n",
       "      <td>Jovens (0-17)</td>\n",
       "      <td>Masculino</td>\n",
       "      <td>23</td>\n",
       "      <td>28.05</td>\n",
       "    </tr>\n",
       "    <tr>\n",
       "      <th>2</th>\n",
       "      <td>Adultos (18-50)</td>\n",
       "      <td>Feminino</td>\n",
       "      <td>232</td>\n",
       "      <td>83.75</td>\n",
       "    </tr>\n",
       "    <tr>\n",
       "      <th>3</th>\n",
       "      <td>Adultos (18-50)</td>\n",
       "      <td>Masculino</td>\n",
       "      <td>63</td>\n",
       "      <td>12.50</td>\n",
       "    </tr>\n",
       "    <tr>\n",
       "      <th>4</th>\n",
       "      <td>Idosos (50+)</td>\n",
       "      <td>Feminino</td>\n",
       "      <td>35</td>\n",
       "      <td>94.59</td>\n",
       "    </tr>\n",
       "    <tr>\n",
       "      <th>5</th>\n",
       "      <td>Idosos (50+)</td>\n",
       "      <td>Masculino</td>\n",
       "      <td>7</td>\n",
       "      <td>9.86</td>\n",
       "    </tr>\n",
       "  </tbody>\n",
       "</table>\n",
       "</div>"
      ],
      "text/plain": [
       "       FaixaEtaria       Sexo  Sobreviventes  Sobreviventes (%)\n",
       "0    Jovens (0-17)   Feminino             55              76.39\n",
       "1    Jovens (0-17)  Masculino             23              28.05\n",
       "2  Adultos (18-50)   Feminino            232              83.75\n",
       "3  Adultos (18-50)  Masculino             63              12.50\n",
       "4     Idosos (50+)   Feminino             35              94.59\n",
       "5     Idosos (50+)  Masculino              7               9.86"
      ]
     },
     "execution_count": 167,
     "metadata": {},
     "output_type": "execute_result"
    }
   ],
   "source": [
    "data = groupAges(data, column=\"Age\")\n",
    "survivalStatsBySex = survivalByAgeGroupAndSex(data)\n",
    "\n",
    "# Exibir os resultados\n",
    "survivalStatsBySex"
   ]
  },
  {
   "cell_type": "markdown",
   "id": "404455978c40e631",
   "metadata": {
    "id": "404455978c40e631"
   },
   "source": [
    "## Etapa 5: Salvar o Dataset"
   ]
  },
  {
   "cell_type": "code",
   "execution_count": 168,
   "id": "a6ff8997dcac5d0b",
   "metadata": {
    "ExecuteTime": {
     "end_time": "2024-12-07T13:24:54.992308Z",
     "start_time": "2024-12-07T13:24:54.988257Z"
    },
    "id": "a6ff8997dcac5d0b"
   },
   "outputs": [],
   "source": [
    "execute = False\n",
    "\n",
    "if execute:\n",
    "\t# Drop da coluna \"Name\"\n",
    "\tdropColumns(titanic, [\"Name\"])\n",
    "\n",
    "\t# Converte a coluna \"Age\" para int64\n",
    "\tconvertToInt(titanic, [\"Age\"])\n",
    "\n",
    "\t# 0 = Adultos\n",
    "\t# 1 = Idosos\n",
    "\t# 2 = Jovens\n",
    "\ttitanic = encodeLabel(titanic, [\"AgeGroup\"])\n",
    "\n",
    "\t# Converte colunas para categóricas\n",
    "\tconvertToCategorical(titanic, [\"Survived\", \"Pclass\", \"Sex\", \"Embarked\"])\n",
    "\n",
    "\tfileTitanicPreprocessado = \"dataset/titanic_preprocessado.csv\"\n",
    "\ttitanic.to_csv(fileTitanicPreprocessado, index=False)"
   ]
  }
 ],
 "metadata": {
  "colab": {
   "collapsed_sections": [
    "b459568826d780a5",
    "8db73f0143beab72",
    "6b7b4c6ce7d15f6",
    "404455978c40e631"
   ],
   "provenance": []
  },
  "kernelspec": {
   "display_name": "base",
   "language": "python",
   "name": "python3"
  },
  "language_info": {
   "codemirror_mode": {
    "name": "ipython",
    "version": 3
   },
   "file_extension": ".py",
   "mimetype": "text/x-python",
   "name": "python",
   "nbconvert_exporter": "python",
   "pygments_lexer": "ipython3",
   "version": "3.12.3"
  }
 },
 "nbformat": 4,
 "nbformat_minor": 5
}
