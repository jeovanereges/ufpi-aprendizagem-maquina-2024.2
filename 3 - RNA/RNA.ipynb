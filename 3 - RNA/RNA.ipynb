{
 "cells": [
  {
   "cell_type": "markdown",
   "metadata": {
    "id": "eUhQLR9YA1uB"
   },
   "source": [
    "---\n",
    "# Projeto 03 - Redes Neurais - Flags\n",
    "---"
   ]
  },
  {
   "cell_type": "markdown",
   "metadata": {
    "id": "oo08IL7DA1uQ"
   },
   "source": [
    "## Etapa 1: Importação das Bibliotecas"
   ]
  },
  {
   "cell_type": "code",
   "metadata": {
    "id": "sCtir8CwA1uT",
    "ExecuteTime": {
     "end_time": "2024-11-26T15:32:05.816115Z",
     "start_time": "2024-11-26T15:31:41.471768Z"
    }
   },
   "source": [
    "#region Bibliotecas\n",
    "import pandas as pd\n",
    "import numpy as np\n",
    "import seaborn as sns\n",
    "import matplotlib.pyplot as plt\n",
    "import plotly.graph_objects as go\n",
    "from sympy.physics.vector.printing import params\n",
    "%matplotlib inline\n",
    "\n",
    "# ---\n",
    "import os\n",
    "import torch\n",
    "import torch.nn as nn\n",
    "import torch.nn.functional as F\n",
    "\n",
    "try:\n",
    "    from skorch import NeuralNetClassifier, NeuralNetBinaryClassifier\n",
    "except:\n",
    "    !pip install skorch\n",
    "\n",
    "from sklearn.multiclass import OneVsRestClassifier\n",
    "from sklearn.model_selection import GridSearchCV\n",
    "from sklearn.preprocessing import label_binarize\n",
    "from sklearn.preprocessing import MinMaxScaler, OneHotEncoder, LabelEncoder\n",
    "from sklearn.model_selection import train_test_split\n",
    "from sklearn.metrics import confusion_matrix, classification_report, accuracy_score, roc_curve, auc\n",
    "\n",
    "# ---\n",
    "from imblearn.over_sampling import SMOTE\n",
    "\n",
    "import warnings\n",
    "\n",
    "warnings.filterwarnings(\"ignore\")\n",
    "#endregion"
   ],
   "outputs": [],
   "execution_count": 1
  },
  {
   "cell_type": "code",
   "metadata": {
    "colab": {
     "base_uri": "https://localhost:8080/"
    },
    "executionInfo": {
     "elapsed": 28091,
     "status": "ok",
     "timestamp": 1731528710899,
     "user": {
      "displayName": "François Fernandes Ribeiro Barbosa",
      "userId": "08464039728690329302"
     },
     "user_tz": 180
    },
    "id": "0g_IxAYxGzK3",
    "outputId": "1fffee57-7b15-453e-bfc5-3c3396fd576b",
    "ExecuteTime": {
     "end_time": "2024-11-26T15:32:05.835159Z",
     "start_time": "2024-11-26T15:32:05.824096Z"
    }
   },
   "source": [
    "try:\n",
    "    from google.colab import drive\n",
    "\n",
    "    drive.mount(\"/content/drive\")\n",
    "    import sys\n",
    "\n",
    "    sys.path.append(\"/content/drive/MyDrive/modulos\")\n",
    "except:\n",
    "    print(\"Você está off-line\")"
   ],
   "outputs": [
    {
     "name": "stdout",
     "output_type": "stream",
     "text": [
      "Você está off-line\n"
     ]
    }
   ],
   "execution_count": 2
  },
  {
   "cell_type": "code",
   "metadata": {
    "id": "pNVQ85LtA1uX",
    "ExecuteTime": {
     "end_time": "2024-11-26T15:32:06.023323Z",
     "start_time": "2024-11-26T15:32:05.970182Z"
    }
   },
   "source": [
    "#region Extras\n",
    "import importlib\n",
    "\n",
    "# import modulos.estrategia1\n",
    "# import modulos.estrategia2\n",
    "# import modulos.estrategia3\n",
    "#\n",
    "# importlib.reload(modulos.estrategia1)\n",
    "# importlib.reload(modulos.estrategia2)\n",
    "# importlib.reload(modulos.estrategia3)\n",
    "\n",
    "#from modulos.estrategia1 import *\n",
    "try:\n",
    "    from modulos.estrategia1 import *\n",
    "    from modulos.estrategia2 import *\n",
    "    from modulos.estrategia3 import *\n",
    "except:\n",
    "    # Importar os módulos\n",
    "    from estrategia1 import *\n",
    "    from estrategia2 import *\n",
    "    from estrategia3 import *\n",
    "#endregion"
   ],
   "outputs": [],
   "execution_count": 3
  },
  {
   "cell_type": "markdown",
   "metadata": {
    "id": "m4bK_Q1uA1uZ"
   },
   "source": [
    "## Etapa 2: Carregando os Dados"
   ]
  },
  {
   "cell_type": "code",
   "metadata": {
    "id": "K3NM2K71A1ua",
    "ExecuteTime": {
     "end_time": "2024-11-26T15:32:06.037377Z",
     "start_time": "2024-11-26T15:32:06.031819Z"
    }
   },
   "source": [
    "#region Nome das Colunas\n",
    "colunas = [\n",
    "    \"name\",\n",
    "    \"landmass\",\n",
    "    \"zone\",\n",
    "    \"area\",\n",
    "    \"population\",\n",
    "    \"language\",\n",
    "    \"religion\",\n",
    "    \"bars\",\n",
    "    \"stripes\",\n",
    "    \"colours\",\n",
    "    \"red\",\n",
    "    \"green\",\n",
    "    \"blue\",\n",
    "    \"gold\",\n",
    "    \"white\",\n",
    "    \"black\",\n",
    "    \"orange\",\n",
    "    \"mainhue\",\n",
    "    \"circles\",\n",
    "    \"crosses\",\n",
    "    \"saltires\",\n",
    "    \"quarters\",\n",
    "    \"sunstars\",\n",
    "    \"crescent\",\n",
    "    \"triangle\",\n",
    "    \"icon\",\n",
    "    \"animate\",\n",
    "    \"text\",\n",
    "    \"topleft\",\n",
    "    \"botright\",\n",
    "]\n",
    "#endregion"
   ],
   "outputs": [],
   "execution_count": 4
  },
  {
   "cell_type": "code",
   "metadata": {
    "id": "KvnVf-6mA1ud",
    "ExecuteTime": {
     "end_time": "2024-11-26T15:32:06.074636Z",
     "start_time": "2024-11-26T15:32:06.049605Z"
    }
   },
   "source": [
    "#region Carregando o Dataset\n",
    "try:\n",
    "    flags = pd.read_csv(\"dataset/flag.data\", header=None, names=colunas)\n",
    "except:\n",
    "    # URL do dataset no UCI Machine Learning Repository\n",
    "    url = \"https://archive.ics.uci.edu/ml/machine-learning-databases/flags/flag.data\"\n",
    "\n",
    "    # Nome do arquivo que será salvo\n",
    "    file_path = \"flag.data\"\n",
    "\n",
    "    # Fazer o download do arquivo, se ele não existir\n",
    "    if not os.path.exists(file_path):\n",
    "        print(\"Baixando o dataset...\")\n",
    "        # Usar !wget para baixar o dataset diretamente no Colab\n",
    "        !wget -O flag.data $url\n",
    "        print(\"Download concluído!\")\n",
    "    flags = pd.read_csv(\"flag.data\", header=None, names=colunas)\n",
    "#endregion"
   ],
   "outputs": [],
   "execution_count": 5
  },
  {
   "cell_type": "code",
   "metadata": {
    "colab": {
     "base_uri": "https://localhost:8080/",
     "height": 235
    },
    "executionInfo": {
     "elapsed": 308,
     "status": "ok",
     "timestamp": 1731528736884,
     "user": {
      "displayName": "François Fernandes Ribeiro Barbosa",
      "userId": "08464039728690329302"
     },
     "user_tz": 180
    },
    "id": "1f-pABbEA1uf",
    "outputId": "1277108e-de0c-4f23-b5f1-62c620ede502",
    "ExecuteTime": {
     "end_time": "2024-11-26T15:32:06.107561Z",
     "start_time": "2024-11-26T15:32:06.089609Z"
    }
   },
   "source": [
    "flags.head()"
   ],
   "outputs": [
    {
     "data": {
      "text/plain": [
       "             name  landmass  zone  area  population  language  religion  bars  \\\n",
       "0     Afghanistan         5     1   648          16        10         2     0   \n",
       "1         Albania         3     1    29           3         6         6     0   \n",
       "2         Algeria         4     1  2388          20         8         2     2   \n",
       "3  American-Samoa         6     3     0           0         1         1     0   \n",
       "4         Andorra         3     1     0           0         6         0     3   \n",
       "\n",
       "   stripes  colours  ...  saltires  quarters  sunstars  crescent  triangle  \\\n",
       "0        3        5  ...         0         0         1         0         0   \n",
       "1        0        3  ...         0         0         1         0         0   \n",
       "2        0        3  ...         0         0         1         1         0   \n",
       "3        0        5  ...         0         0         0         0         1   \n",
       "4        0        3  ...         0         0         0         0         0   \n",
       "\n",
       "   icon  animate text  topleft  botright  \n",
       "0     1        0    0    black     green  \n",
       "1     0        1    0      red       red  \n",
       "2     0        0    0    green     white  \n",
       "3     1        1    0     blue       red  \n",
       "4     0        0    0     blue       red  \n",
       "\n",
       "[5 rows x 30 columns]"
      ],
      "text/html": [
       "<div>\n",
       "<style scoped>\n",
       "    .dataframe tbody tr th:only-of-type {\n",
       "        vertical-align: middle;\n",
       "    }\n",
       "\n",
       "    .dataframe tbody tr th {\n",
       "        vertical-align: top;\n",
       "    }\n",
       "\n",
       "    .dataframe thead th {\n",
       "        text-align: right;\n",
       "    }\n",
       "</style>\n",
       "<table border=\"1\" class=\"dataframe\">\n",
       "  <thead>\n",
       "    <tr style=\"text-align: right;\">\n",
       "      <th></th>\n",
       "      <th>name</th>\n",
       "      <th>landmass</th>\n",
       "      <th>zone</th>\n",
       "      <th>area</th>\n",
       "      <th>population</th>\n",
       "      <th>language</th>\n",
       "      <th>religion</th>\n",
       "      <th>bars</th>\n",
       "      <th>stripes</th>\n",
       "      <th>colours</th>\n",
       "      <th>...</th>\n",
       "      <th>saltires</th>\n",
       "      <th>quarters</th>\n",
       "      <th>sunstars</th>\n",
       "      <th>crescent</th>\n",
       "      <th>triangle</th>\n",
       "      <th>icon</th>\n",
       "      <th>animate</th>\n",
       "      <th>text</th>\n",
       "      <th>topleft</th>\n",
       "      <th>botright</th>\n",
       "    </tr>\n",
       "  </thead>\n",
       "  <tbody>\n",
       "    <tr>\n",
       "      <th>0</th>\n",
       "      <td>Afghanistan</td>\n",
       "      <td>5</td>\n",
       "      <td>1</td>\n",
       "      <td>648</td>\n",
       "      <td>16</td>\n",
       "      <td>10</td>\n",
       "      <td>2</td>\n",
       "      <td>0</td>\n",
       "      <td>3</td>\n",
       "      <td>5</td>\n",
       "      <td>...</td>\n",
       "      <td>0</td>\n",
       "      <td>0</td>\n",
       "      <td>1</td>\n",
       "      <td>0</td>\n",
       "      <td>0</td>\n",
       "      <td>1</td>\n",
       "      <td>0</td>\n",
       "      <td>0</td>\n",
       "      <td>black</td>\n",
       "      <td>green</td>\n",
       "    </tr>\n",
       "    <tr>\n",
       "      <th>1</th>\n",
       "      <td>Albania</td>\n",
       "      <td>3</td>\n",
       "      <td>1</td>\n",
       "      <td>29</td>\n",
       "      <td>3</td>\n",
       "      <td>6</td>\n",
       "      <td>6</td>\n",
       "      <td>0</td>\n",
       "      <td>0</td>\n",
       "      <td>3</td>\n",
       "      <td>...</td>\n",
       "      <td>0</td>\n",
       "      <td>0</td>\n",
       "      <td>1</td>\n",
       "      <td>0</td>\n",
       "      <td>0</td>\n",
       "      <td>0</td>\n",
       "      <td>1</td>\n",
       "      <td>0</td>\n",
       "      <td>red</td>\n",
       "      <td>red</td>\n",
       "    </tr>\n",
       "    <tr>\n",
       "      <th>2</th>\n",
       "      <td>Algeria</td>\n",
       "      <td>4</td>\n",
       "      <td>1</td>\n",
       "      <td>2388</td>\n",
       "      <td>20</td>\n",
       "      <td>8</td>\n",
       "      <td>2</td>\n",
       "      <td>2</td>\n",
       "      <td>0</td>\n",
       "      <td>3</td>\n",
       "      <td>...</td>\n",
       "      <td>0</td>\n",
       "      <td>0</td>\n",
       "      <td>1</td>\n",
       "      <td>1</td>\n",
       "      <td>0</td>\n",
       "      <td>0</td>\n",
       "      <td>0</td>\n",
       "      <td>0</td>\n",
       "      <td>green</td>\n",
       "      <td>white</td>\n",
       "    </tr>\n",
       "    <tr>\n",
       "      <th>3</th>\n",
       "      <td>American-Samoa</td>\n",
       "      <td>6</td>\n",
       "      <td>3</td>\n",
       "      <td>0</td>\n",
       "      <td>0</td>\n",
       "      <td>1</td>\n",
       "      <td>1</td>\n",
       "      <td>0</td>\n",
       "      <td>0</td>\n",
       "      <td>5</td>\n",
       "      <td>...</td>\n",
       "      <td>0</td>\n",
       "      <td>0</td>\n",
       "      <td>0</td>\n",
       "      <td>0</td>\n",
       "      <td>1</td>\n",
       "      <td>1</td>\n",
       "      <td>1</td>\n",
       "      <td>0</td>\n",
       "      <td>blue</td>\n",
       "      <td>red</td>\n",
       "    </tr>\n",
       "    <tr>\n",
       "      <th>4</th>\n",
       "      <td>Andorra</td>\n",
       "      <td>3</td>\n",
       "      <td>1</td>\n",
       "      <td>0</td>\n",
       "      <td>0</td>\n",
       "      <td>6</td>\n",
       "      <td>0</td>\n",
       "      <td>3</td>\n",
       "      <td>0</td>\n",
       "      <td>3</td>\n",
       "      <td>...</td>\n",
       "      <td>0</td>\n",
       "      <td>0</td>\n",
       "      <td>0</td>\n",
       "      <td>0</td>\n",
       "      <td>0</td>\n",
       "      <td>0</td>\n",
       "      <td>0</td>\n",
       "      <td>0</td>\n",
       "      <td>blue</td>\n",
       "      <td>red</td>\n",
       "    </tr>\n",
       "  </tbody>\n",
       "</table>\n",
       "<p>5 rows × 30 columns</p>\n",
       "</div>"
      ]
     },
     "execution_count": 6,
     "metadata": {},
     "output_type": "execute_result"
    }
   ],
   "execution_count": 6
  },
  {
   "cell_type": "markdown",
   "metadata": {
    "id": "Q2cHunEmA1uh"
   },
   "source": [
    "## Etapa 3: Pré-processamento"
   ]
  },
  {
   "cell_type": "code",
   "metadata": {
    "colab": {
     "base_uri": "https://localhost:8080/",
     "height": 329
    },
    "executionInfo": {
     "elapsed": 334,
     "status": "ok",
     "timestamp": 1731528738883,
     "user": {
      "displayName": "François Fernandes Ribeiro Barbosa",
      "userId": "08464039728690329302"
     },
     "user_tz": 180
    },
    "id": "a7MblyFqA1ui",
    "outputId": "5aa1b944-bf09-4554-fe6c-ed4eb9cb73a4",
    "ExecuteTime": {
     "end_time": "2024-11-26T15:32:06.239585Z",
     "start_time": "2024-11-26T15:32:06.176562Z"
    }
   },
   "source": [
    "flags.describe()"
   ],
   "outputs": [
    {
     "data": {
      "text/plain": [
       "         landmass        zone          area   population    language  \\\n",
       "count  194.000000  194.000000    194.000000   194.000000  194.000000   \n",
       "mean     3.572165    2.211340    700.046392    23.268041    5.340206   \n",
       "std      1.553018    1.308274   2170.927932    91.934085    3.496517   \n",
       "min      1.000000    1.000000      0.000000     0.000000    1.000000   \n",
       "25%      3.000000    1.000000      9.000000     0.000000    2.000000   \n",
       "50%      4.000000    2.000000    111.000000     4.000000    6.000000   \n",
       "75%      5.000000    4.000000    471.250000    14.000000    9.000000   \n",
       "max      6.000000    4.000000  22402.000000  1008.000000   10.000000   \n",
       "\n",
       "         religion        bars     stripes     colours         red  ...  \\\n",
       "count  194.000000  194.000000  194.000000  194.000000  194.000000  ...   \n",
       "mean     2.190722    0.453608    1.551546    3.463918    0.788660  ...   \n",
       "std      2.061167    1.038339    2.328005    1.300154    0.409315  ...   \n",
       "min      0.000000    0.000000    0.000000    1.000000    0.000000  ...   \n",
       "25%      1.000000    0.000000    0.000000    3.000000    1.000000  ...   \n",
       "50%      1.000000    0.000000    0.000000    3.000000    1.000000  ...   \n",
       "75%      4.000000    0.000000    3.000000    4.000000    1.000000  ...   \n",
       "max      7.000000    5.000000   14.000000    8.000000    1.000000  ...   \n",
       "\n",
       "          circles     crosses    saltires    quarters    sunstars    crescent  \\\n",
       "count  194.000000  194.000000  194.000000  194.000000  194.000000  194.000000   \n",
       "mean     0.170103    0.149485    0.092784    0.149485    1.386598    0.056701   \n",
       "std      0.463075    0.385387    0.290879    0.435860    4.396186    0.231869   \n",
       "min      0.000000    0.000000    0.000000    0.000000    0.000000    0.000000   \n",
       "25%      0.000000    0.000000    0.000000    0.000000    0.000000    0.000000   \n",
       "50%      0.000000    0.000000    0.000000    0.000000    0.000000    0.000000   \n",
       "75%      0.000000    0.000000    0.000000    0.000000    1.000000    0.000000   \n",
       "max      4.000000    2.000000    1.000000    4.000000   50.000000    1.000000   \n",
       "\n",
       "         triangle        icon     animate        text  \n",
       "count  194.000000  194.000000  194.000000  194.000000  \n",
       "mean     0.139175    0.252577    0.201031    0.082474  \n",
       "std      0.347025    0.435615    0.401808    0.275798  \n",
       "min      0.000000    0.000000    0.000000    0.000000  \n",
       "25%      0.000000    0.000000    0.000000    0.000000  \n",
       "50%      0.000000    0.000000    0.000000    0.000000  \n",
       "75%      0.000000    0.750000    0.000000    0.000000  \n",
       "max      1.000000    1.000000    1.000000    1.000000  \n",
       "\n",
       "[8 rows x 26 columns]"
      ],
      "text/html": [
       "<div>\n",
       "<style scoped>\n",
       "    .dataframe tbody tr th:only-of-type {\n",
       "        vertical-align: middle;\n",
       "    }\n",
       "\n",
       "    .dataframe tbody tr th {\n",
       "        vertical-align: top;\n",
       "    }\n",
       "\n",
       "    .dataframe thead th {\n",
       "        text-align: right;\n",
       "    }\n",
       "</style>\n",
       "<table border=\"1\" class=\"dataframe\">\n",
       "  <thead>\n",
       "    <tr style=\"text-align: right;\">\n",
       "      <th></th>\n",
       "      <th>landmass</th>\n",
       "      <th>zone</th>\n",
       "      <th>area</th>\n",
       "      <th>population</th>\n",
       "      <th>language</th>\n",
       "      <th>religion</th>\n",
       "      <th>bars</th>\n",
       "      <th>stripes</th>\n",
       "      <th>colours</th>\n",
       "      <th>red</th>\n",
       "      <th>...</th>\n",
       "      <th>circles</th>\n",
       "      <th>crosses</th>\n",
       "      <th>saltires</th>\n",
       "      <th>quarters</th>\n",
       "      <th>sunstars</th>\n",
       "      <th>crescent</th>\n",
       "      <th>triangle</th>\n",
       "      <th>icon</th>\n",
       "      <th>animate</th>\n",
       "      <th>text</th>\n",
       "    </tr>\n",
       "  </thead>\n",
       "  <tbody>\n",
       "    <tr>\n",
       "      <th>count</th>\n",
       "      <td>194.000000</td>\n",
       "      <td>194.000000</td>\n",
       "      <td>194.000000</td>\n",
       "      <td>194.000000</td>\n",
       "      <td>194.000000</td>\n",
       "      <td>194.000000</td>\n",
       "      <td>194.000000</td>\n",
       "      <td>194.000000</td>\n",
       "      <td>194.000000</td>\n",
       "      <td>194.000000</td>\n",
       "      <td>...</td>\n",
       "      <td>194.000000</td>\n",
       "      <td>194.000000</td>\n",
       "      <td>194.000000</td>\n",
       "      <td>194.000000</td>\n",
       "      <td>194.000000</td>\n",
       "      <td>194.000000</td>\n",
       "      <td>194.000000</td>\n",
       "      <td>194.000000</td>\n",
       "      <td>194.000000</td>\n",
       "      <td>194.000000</td>\n",
       "    </tr>\n",
       "    <tr>\n",
       "      <th>mean</th>\n",
       "      <td>3.572165</td>\n",
       "      <td>2.211340</td>\n",
       "      <td>700.046392</td>\n",
       "      <td>23.268041</td>\n",
       "      <td>5.340206</td>\n",
       "      <td>2.190722</td>\n",
       "      <td>0.453608</td>\n",
       "      <td>1.551546</td>\n",
       "      <td>3.463918</td>\n",
       "      <td>0.788660</td>\n",
       "      <td>...</td>\n",
       "      <td>0.170103</td>\n",
       "      <td>0.149485</td>\n",
       "      <td>0.092784</td>\n",
       "      <td>0.149485</td>\n",
       "      <td>1.386598</td>\n",
       "      <td>0.056701</td>\n",
       "      <td>0.139175</td>\n",
       "      <td>0.252577</td>\n",
       "      <td>0.201031</td>\n",
       "      <td>0.082474</td>\n",
       "    </tr>\n",
       "    <tr>\n",
       "      <th>std</th>\n",
       "      <td>1.553018</td>\n",
       "      <td>1.308274</td>\n",
       "      <td>2170.927932</td>\n",
       "      <td>91.934085</td>\n",
       "      <td>3.496517</td>\n",
       "      <td>2.061167</td>\n",
       "      <td>1.038339</td>\n",
       "      <td>2.328005</td>\n",
       "      <td>1.300154</td>\n",
       "      <td>0.409315</td>\n",
       "      <td>...</td>\n",
       "      <td>0.463075</td>\n",
       "      <td>0.385387</td>\n",
       "      <td>0.290879</td>\n",
       "      <td>0.435860</td>\n",
       "      <td>4.396186</td>\n",
       "      <td>0.231869</td>\n",
       "      <td>0.347025</td>\n",
       "      <td>0.435615</td>\n",
       "      <td>0.401808</td>\n",
       "      <td>0.275798</td>\n",
       "    </tr>\n",
       "    <tr>\n",
       "      <th>min</th>\n",
       "      <td>1.000000</td>\n",
       "      <td>1.000000</td>\n",
       "      <td>0.000000</td>\n",
       "      <td>0.000000</td>\n",
       "      <td>1.000000</td>\n",
       "      <td>0.000000</td>\n",
       "      <td>0.000000</td>\n",
       "      <td>0.000000</td>\n",
       "      <td>1.000000</td>\n",
       "      <td>0.000000</td>\n",
       "      <td>...</td>\n",
       "      <td>0.000000</td>\n",
       "      <td>0.000000</td>\n",
       "      <td>0.000000</td>\n",
       "      <td>0.000000</td>\n",
       "      <td>0.000000</td>\n",
       "      <td>0.000000</td>\n",
       "      <td>0.000000</td>\n",
       "      <td>0.000000</td>\n",
       "      <td>0.000000</td>\n",
       "      <td>0.000000</td>\n",
       "    </tr>\n",
       "    <tr>\n",
       "      <th>25%</th>\n",
       "      <td>3.000000</td>\n",
       "      <td>1.000000</td>\n",
       "      <td>9.000000</td>\n",
       "      <td>0.000000</td>\n",
       "      <td>2.000000</td>\n",
       "      <td>1.000000</td>\n",
       "      <td>0.000000</td>\n",
       "      <td>0.000000</td>\n",
       "      <td>3.000000</td>\n",
       "      <td>1.000000</td>\n",
       "      <td>...</td>\n",
       "      <td>0.000000</td>\n",
       "      <td>0.000000</td>\n",
       "      <td>0.000000</td>\n",
       "      <td>0.000000</td>\n",
       "      <td>0.000000</td>\n",
       "      <td>0.000000</td>\n",
       "      <td>0.000000</td>\n",
       "      <td>0.000000</td>\n",
       "      <td>0.000000</td>\n",
       "      <td>0.000000</td>\n",
       "    </tr>\n",
       "    <tr>\n",
       "      <th>50%</th>\n",
       "      <td>4.000000</td>\n",
       "      <td>2.000000</td>\n",
       "      <td>111.000000</td>\n",
       "      <td>4.000000</td>\n",
       "      <td>6.000000</td>\n",
       "      <td>1.000000</td>\n",
       "      <td>0.000000</td>\n",
       "      <td>0.000000</td>\n",
       "      <td>3.000000</td>\n",
       "      <td>1.000000</td>\n",
       "      <td>...</td>\n",
       "      <td>0.000000</td>\n",
       "      <td>0.000000</td>\n",
       "      <td>0.000000</td>\n",
       "      <td>0.000000</td>\n",
       "      <td>0.000000</td>\n",
       "      <td>0.000000</td>\n",
       "      <td>0.000000</td>\n",
       "      <td>0.000000</td>\n",
       "      <td>0.000000</td>\n",
       "      <td>0.000000</td>\n",
       "    </tr>\n",
       "    <tr>\n",
       "      <th>75%</th>\n",
       "      <td>5.000000</td>\n",
       "      <td>4.000000</td>\n",
       "      <td>471.250000</td>\n",
       "      <td>14.000000</td>\n",
       "      <td>9.000000</td>\n",
       "      <td>4.000000</td>\n",
       "      <td>0.000000</td>\n",
       "      <td>3.000000</td>\n",
       "      <td>4.000000</td>\n",
       "      <td>1.000000</td>\n",
       "      <td>...</td>\n",
       "      <td>0.000000</td>\n",
       "      <td>0.000000</td>\n",
       "      <td>0.000000</td>\n",
       "      <td>0.000000</td>\n",
       "      <td>1.000000</td>\n",
       "      <td>0.000000</td>\n",
       "      <td>0.000000</td>\n",
       "      <td>0.750000</td>\n",
       "      <td>0.000000</td>\n",
       "      <td>0.000000</td>\n",
       "    </tr>\n",
       "    <tr>\n",
       "      <th>max</th>\n",
       "      <td>6.000000</td>\n",
       "      <td>4.000000</td>\n",
       "      <td>22402.000000</td>\n",
       "      <td>1008.000000</td>\n",
       "      <td>10.000000</td>\n",
       "      <td>7.000000</td>\n",
       "      <td>5.000000</td>\n",
       "      <td>14.000000</td>\n",
       "      <td>8.000000</td>\n",
       "      <td>1.000000</td>\n",
       "      <td>...</td>\n",
       "      <td>4.000000</td>\n",
       "      <td>2.000000</td>\n",
       "      <td>1.000000</td>\n",
       "      <td>4.000000</td>\n",
       "      <td>50.000000</td>\n",
       "      <td>1.000000</td>\n",
       "      <td>1.000000</td>\n",
       "      <td>1.000000</td>\n",
       "      <td>1.000000</td>\n",
       "      <td>1.000000</td>\n",
       "    </tr>\n",
       "  </tbody>\n",
       "</table>\n",
       "<p>8 rows × 26 columns</p>\n",
       "</div>"
      ]
     },
     "execution_count": 7,
     "metadata": {},
     "output_type": "execute_result"
    }
   ],
   "execution_count": 7
  },
  {
   "cell_type": "markdown",
   "metadata": {
    "id": "BLvHmuHCA1uj"
   },
   "source": [
    "\n",
    "\n",
    "```\n",
    "# Isto está formatado como código\n",
    "```\n",
    "\n",
    "### Valores Ausentes"
   ]
  },
  {
   "cell_type": "code",
   "metadata": {
    "colab": {
     "base_uri": "https://localhost:8080/",
     "height": 496
    },
    "executionInfo": {
     "elapsed": 1254,
     "status": "ok",
     "timestamp": 1731528744612,
     "user": {
      "displayName": "François Fernandes Ribeiro Barbosa",
      "userId": "08464039728690329302"
     },
     "user_tz": 180
    },
    "id": "TmQcw2eOA1uk",
    "outputId": "394bcfd1-dc27-4cf1-bc9e-cef8e670b170",
    "ExecuteTime": {
     "end_time": "2024-11-26T15:32:07.236576Z",
     "start_time": "2024-11-26T15:32:06.549532Z"
    }
   },
   "source": [
    "plt.figure(figsize=(8, 6), dpi=100)\n",
    "\n",
    "sns.heatmap(flags.isna(), cbar=False, cmap=\"coolwarm\");"
   ],
   "outputs": [
    {
     "data": {
      "text/plain": [
       "<Figure size 800x600 with 1 Axes>"
      ],
      "image/png": "[encoded data removed]"
     },
     "metadata": {},
     "output_type": "display_data"
    }
   ],
   "execution_count": 8
  },
  {
   "cell_type": "code",
   "metadata": {
    "colab": {
     "base_uri": "https://localhost:8080/",
     "height": 141
    },
    "executionInfo": {
     "elapsed": 307,
     "status": "error",
     "timestamp": 1731410807010,
     "user": {
      "displayName": "François Fernandes Ribeiro Barbosa",
      "userId": "08464039728690329302"
     },
     "user_tz": 180
    },
    "id": "6VXILzpvA1ul",
    "outputId": "97d5e6a6-a42e-42bd-df5a-f90c81daff49",
    "ExecuteTime": {
     "end_time": "2024-11-26T15:32:07.325520Z",
     "start_time": "2024-11-26T15:32:07.313834Z"
    }
   },
   "source": [
    "calcPercentualValoresAusentes(flags)"
   ],
   "outputs": [
    {
     "name": "stdout",
     "output_type": "stream",
     "text": [
      "O dataset tem 0.0 % de valores ausentes.\n"
     ]
    }
   ],
   "execution_count": 9
  },
  {
   "cell_type": "markdown",
   "metadata": {
    "id": "xptPs1y9A1um"
   },
   "source": [
    "### Checando Valores Iguais a Zero (Área e População)"
   ]
  },
  {
   "cell_type": "code",
   "metadata": {
    "id": "-UhGJmjOA1um",
    "ExecuteTime": {
     "end_time": "2024-11-26T15:32:07.545195Z",
     "start_time": "2024-11-26T15:32:07.540310Z"
    }
   },
   "source": [
    "# Selecionando apenas os dados numéricos\n",
    "cols = [\"area\", \"population\"]"
   ],
   "outputs": [],
   "execution_count": 10
  },
  {
   "cell_type": "code",
   "metadata": {
    "id": "d4-RsmXWA1um",
    "outputId": "6928fae6-3755-45ee-b85a-9889080ce57e",
    "colab": {
     "base_uri": "https://localhost:8080/",
     "height": 436
    },
    "executionInfo": {
     "status": "ok",
     "timestamp": 1731528764300,
     "user_tz": 180,
     "elapsed": 349,
     "user": {
      "displayName": "François Fernandes Ribeiro Barbosa",
      "userId": "08464039728690329302"
     }
    },
    "ExecuteTime": {
     "end_time": "2024-11-26T15:32:08.203695Z",
     "start_time": "2024-11-26T15:32:07.933758Z"
    }
   },
   "source": [
    "plt.figure(figsize=(8, 6), dpi=100)\n",
    "\n",
    "sns.heatmap(flags[cols] < 1, cbar=False, cmap=\"coolwarm\");"
   ],
   "outputs": [
    {
     "data": {
      "text/plain": [
       "<Figure size 800x600 with 1 Axes>"
      ],
      "image/png": "[encoded data removed]"
     },
     "metadata": {},
     "output_type": "display_data"
    }
   ],
   "execution_count": 11
  },
  {
   "cell_type": "code",
   "metadata": {
    "id": "3oABbz20A1un",
    "ExecuteTime": {
     "end_time": "2024-11-26T15:32:08.215482Z",
     "start_time": "2024-11-26T15:32:08.210682Z"
    }
   },
   "source": [
    "#region Verificar quais colunas tem valores menor ou igual a 0 (zero)\n",
    "def checkZeroValues(df, cols):\n",
    "    colsZero = (df[cols] <= 0).any()\n",
    "    zeroCounts = (df[cols] <= 0).sum()\n",
    "    zeroPercentages = round((df[cols] == 0).mean() * 100, 2)\n",
    "\n",
    "    print(\"Soma de valores zero em cada coluna:\")\n",
    "    print(zeroCounts[zeroCounts > 0])\n",
    "\n",
    "    print(\"\\nPercentual de valores zero em cada coluna:\")\n",
    "    print(zeroPercentages[zeroPercentages > 0])\n",
    "\n",
    "#endregion"
   ],
   "outputs": [],
   "execution_count": 12
  },
  {
   "cell_type": "code",
   "metadata": {
    "id": "1k4cu5qKA1uo",
    "outputId": "ab7103d6-be7e-441d-be2b-d2ca2f894904",
    "colab": {
     "base_uri": "https://localhost:8080/"
    },
    "executionInfo": {
     "status": "ok",
     "timestamp": 1731528881453,
     "user_tz": 180,
     "elapsed": 300,
     "user": {
      "displayName": "François Fernandes Ribeiro Barbosa",
      "userId": "08464039728690329302"
     }
    },
    "ExecuteTime": {
     "end_time": "2024-11-26T15:32:08.251297Z",
     "start_time": "2024-11-26T15:32:08.243906Z"
    }
   },
   "source": [
    "checkZeroValues(flags, cols)"
   ],
   "outputs": [
    {
     "name": "stdout",
     "output_type": "stream",
     "text": [
      "Soma de valores zero em cada coluna:\n",
      "area          34\n",
      "population    56\n",
      "dtype: int64\n",
      "\n",
      "Percentual de valores zero em cada coluna:\n",
      "area          17.53\n",
      "population    28.87\n",
      "dtype: float64\n"
     ]
    }
   ],
   "execution_count": 13
  },
  {
   "cell_type": "markdown",
   "metadata": {
    "id": "j7SR4QKmA1uu"
   },
   "source": [
    "### Conversão para Category"
   ]
  },
  {
   "cell_type": "code",
   "metadata": {
    "id": "bwX3wbqTA1uu",
    "ExecuteTime": {
     "end_time": "2024-11-26T15:32:08.332312Z",
     "start_time": "2024-11-26T15:32:08.324752Z"
    }
   },
   "source": [
    "# Converter colunas categóricas para o tipo 'category'\n",
    "categoricalCols = [\"landmass\", \"zone\", \"language\", \"religion\"]\n",
    "flags[categoricalCols] = flags[categoricalCols].astype(\"category\")"
   ],
   "outputs": [],
   "execution_count": 14
  },
  {
   "cell_type": "code",
   "metadata": {
    "id": "KZb0lP8fA1uu",
    "outputId": "9336ab41-2114-4cdd-8e52-32ca8979d0fb",
    "colab": {
     "base_uri": "https://localhost:8080/"
    },
    "executionInfo": {
     "status": "ok",
     "timestamp": 1731528902897,
     "user_tz": 180,
     "elapsed": 307,
     "user": {
      "displayName": "François Fernandes Ribeiro Barbosa",
      "userId": "08464039728690329302"
     }
    },
    "ExecuteTime": {
     "end_time": "2024-11-26T15:32:08.411494Z",
     "start_time": "2024-11-26T15:32:08.344283Z"
    }
   },
   "source": [
    "flags.select_dtypes(include=\"category\").info()"
   ],
   "outputs": [
    {
     "name": "stdout",
     "output_type": "stream",
     "text": [
      "<class 'pandas.core.frame.DataFrame'>\n",
      "RangeIndex: 194 entries, 0 to 193\n",
      "Data columns (total 4 columns):\n",
      " #   Column    Non-Null Count  Dtype   \n",
      "---  ------    --------------  -----   \n",
      " 0   landmass  194 non-null    category\n",
      " 1   zone      194 non-null    category\n",
      " 2   language  194 non-null    category\n",
      " 3   religion  194 non-null    category\n",
      "dtypes: category(4)\n",
      "memory usage: 2.0 KB\n"
     ]
    }
   ],
   "execution_count": 15
  },
  {
   "cell_type": "markdown",
   "metadata": {
    "id": "pvXVszp1A1uv"
   },
   "source": [
    "### Encoding"
   ]
  },
  {
   "cell_type": "code",
   "metadata": {
    "id": "SMwZXC_sA1uv",
    "ExecuteTime": {
     "end_time": "2024-11-26T15:32:08.429077Z",
     "start_time": "2024-11-26T15:32:08.425189Z"
    }
   },
   "source": [
    "colsEncode = [\"mainhue\", \"topleft\", \"botright\"]"
   ],
   "outputs": [],
   "execution_count": 16
  },
  {
   "cell_type": "code",
   "metadata": {
    "id": "NSl_-ZbcA1uv",
    "ExecuteTime": {
     "end_time": "2024-11-26T15:32:08.472379Z",
     "start_time": "2024-11-26T15:32:08.467778Z"
    }
   },
   "source": [
    "#region Encoding com OneHotEncoder\n",
    "def encodeOneHot(df, cols):\n",
    "    encoderOneHot = OneHotEncoder(sparse_output=False, drop=\"first\")\n",
    "    encodedCols = encoderOneHot.fit_transform(flags[cols])\n",
    "\n",
    "    encodedDf = pd.DataFrame(encodedCols, columns=encoderOneHot.get_feature_names_out(cols))\n",
    "    df = df.join(encodedDf)\n",
    "    df.replace({pd.NA: 0., np.nan: 0.}, inplace=True)\n",
    "\n",
    "    # Exclusão das colunas originais após a codificação.\n",
    "    df = df.drop(columns=cols, axis=1)\n",
    "\n",
    "    return df\n",
    "\n",
    "#endregion"
   ],
   "outputs": [],
   "execution_count": 17
  },
  {
   "cell_type": "code",
   "metadata": {
    "id": "-9NRLxC9A1uw",
    "ExecuteTime": {
     "end_time": "2024-11-26T15:32:08.508410Z",
     "start_time": "2024-11-26T15:32:08.503604Z"
    }
   },
   "source": [
    "#region Encoding com LabelEncoder\n",
    "def encodeLabel(df, cols):\n",
    "    encoderLabel = LabelEncoder()\n",
    "    for col in cols:\n",
    "        df[col] = encoderLabel.fit_transform(df[col]) + 1\n",
    "\n",
    "    return df\n",
    "\n",
    "#endregion"
   ],
   "outputs": [],
   "execution_count": 18
  },
  {
   "cell_type": "code",
   "metadata": {
    "id": "ymXL6VFMA1ux",
    "ExecuteTime": {
     "end_time": "2024-11-26T15:32:08.553986Z",
     "start_time": "2024-11-26T15:32:08.519386Z"
    }
   },
   "source": [
    "flags = encodeOneHot(flags, colsEncode)"
   ],
   "outputs": [],
   "execution_count": 19
  },
  {
   "cell_type": "code",
   "metadata": {
    "id": "EJUKAnG3AR_K",
    "ExecuteTime": {
     "end_time": "2024-11-26T15:32:08.574829Z",
     "start_time": "2024-11-26T15:32:08.569481Z"
    }
   },
   "source": [
    "# Mover a coluna 'religion' a última posição\n",
    "religion = flags.pop(\"religion\")\n",
    "flags[\"religion\"] = religion"
   ],
   "outputs": [],
   "execution_count": 20
  },
  {
   "cell_type": "markdown",
   "metadata": {
    "id": "SLPig4_wAR_K"
   },
   "source": [
    "### Dropando Colunas"
   ]
  },
  {
   "cell_type": "markdown",
   "metadata": {
    "id": "8TfBDb_SA1ux"
   },
   "source": [
    ">  A maioria das análises de correlação, agrupamento e visualização não necessita dos nomes dos países, pois esses dados são independentes de um identificador textual específico. Portanto, a coluna \"name\" será removida do conjunto de dados."
   ]
  },
  {
   "cell_type": "code",
   "metadata": {
    "id": "aQ_NbMZ7A1ux",
    "ExecuteTime": {
     "end_time": "2024-11-26T15:32:08.593137Z",
     "start_time": "2024-11-26T15:32:08.590102Z"
    }
   },
   "source": "# flags = flags.drop(columns=\"name\", axis=1)",
   "outputs": [],
   "execution_count": 21
  },
  {
   "cell_type": "code",
   "metadata": {
    "id": "mJabfdusAR_L",
    "ExecuteTime": {
     "end_time": "2024-11-26T15:32:08.613992Z",
     "start_time": "2024-11-26T15:32:08.608731Z"
    }
   },
   "source": [
    "# Marxismo é uma ideologia política e socioeconômica baseada nas ideias de Karl Marx.\n",
    "flags = flags[flags['religion'] != 6]\n",
    "# Atualizar o valor que representa a religião 'Others'\n",
    "flags[\"religion\"] = flags[\"religion\"].replace(7, 6)"
   ],
   "outputs": [],
   "execution_count": 22
  },
  {
   "cell_type": "markdown",
   "metadata": {
    "id": "tF9Hc1xLA1uy"
   },
   "source": [
    "### Salva uma cópia do Dataset (flags)"
   ]
  },
  {
   "cell_type": "code",
   "metadata": {
    "id": "BdFHTISlA1u-",
    "ExecuteTime": {
     "end_time": "2024-11-26T15:32:08.663999Z",
     "start_time": "2024-11-26T15:32:08.631215Z"
    }
   },
   "source": "flags.to_csv(\"dataset/flags_tratado1.csv\", index=False)",
   "outputs": [],
   "execution_count": 23
  },
  {
   "cell_type": "markdown",
   "metadata": {
    "id": "KUxgU7FPA1u-"
   },
   "source": [
    "### Agrupamento das Colunas"
   ]
  },
  {
   "cell_type": "markdown",
   "metadata": {
    "id": "gTDzFAVMA1u_"
   },
   "source": [
    "#### Religiões\n",
    "\n",
    "* 0 = Catholic\n",
    "* 1 = Other Christian\n",
    "* 2 = Muslim\n",
    "* 3 = Buddhist **\n",
    "* 4 = Hindu **\n",
    "* 5 = Ethnic\n",
    "* s/n = Marxist (Eliminada)\n",
    "* 6 = Others"
   ]
  },
  {
   "cell_type": "code",
   "metadata": {
    "id": "h-xLhsTKA1u_",
    "outputId": "1b0e263f-92ff-43ed-f1f7-dba6d00ae40a",
    "ExecuteTime": {
     "end_time": "2024-11-26T15:32:08.715937500Z",
     "start_time": "2024-11-21T13:40:45.224857Z"
    }
   },
   "source": [
    "flags[\"religion\"].value_counts()"
   ],
   "outputs": [
    {
     "data": {
      "text/plain": [
       "religion\n",
       "1    60\n",
       "0    40\n",
       "2    36\n",
       "5    27\n",
       "3     8\n",
       "4     4\n",
       "6     4\n",
       "Name: count, dtype: int64"
      ]
     },
     "execution_count": 440,
     "metadata": {},
     "output_type": "execute_result"
    }
   ],
   "execution_count": 440
  },
  {
   "cell_type": "code",
   "metadata": {
    "id": "EZk8IVxKA1u_",
    "ExecuteTime": {
     "end_time": "2024-11-26T15:32:08.758940900Z",
     "start_time": "2024-11-21T13:40:45.308624Z"
    }
   },
   "source": [
    "#region Mapeamentos para os rótulos de religiões\n",
    "flags[\"religion\"] = flags[\"religion\"].replace([3, 4], 6)\n",
    "\n",
    "religionMapping = {5: 3, 6: 4}\n",
    "\n",
    "flags[\"religion\"] = flags[\"religion\"].replace(religionMapping)\n",
    "\n",
    "flags = flags.sort_values(by=\"religion\").reset_index(drop=True)\n",
    "#endregion"
   ],
   "outputs": [],
   "execution_count": 441
  },
  {
   "cell_type": "code",
   "metadata": {
    "id": "Jk7a0yqnA1vA",
    "outputId": "81a4356c-dbc0-4fb3-8479-39e49cee82b7",
    "ExecuteTime": {
     "end_time": "2024-11-26T15:32:08.803706200Z",
     "start_time": "2024-11-21T13:40:45.447677Z"
    }
   },
   "source": [
    "plt.figure(figsize=(8, 6), dpi=100)\n",
    "\n",
    "sns.countplot(x=\"religion\", data=flags, hue=None, palette=\"YlGnBu\");"
   ],
   "outputs": [
    {
     "data": {
      "text/plain": [
       "<Figure size 800x600 with 1 Axes>"
      ],
      "image/png": "[encoded data removed]"
     },
     "metadata": {},
     "output_type": "display_data"
    }
   ],
   "execution_count": 442
  },
  {
   "cell_type": "code",
   "metadata": {
    "id": "0H_Fc8HFA1vA",
    "outputId": "1f538960-a625-43bd-dc75-73a264410aff",
    "ExecuteTime": {
     "end_time": "2024-11-26T15:32:08.821212900Z",
     "start_time": "2024-11-21T13:40:45.744590Z"
    }
   },
   "source": [
    "print(flags[\"religion\"].value_counts())"
   ],
   "outputs": [
    {
     "name": "stdout",
     "output_type": "stream",
     "text": [
      "religion\n",
      "1    60\n",
      "0    40\n",
      "2    36\n",
      "3    27\n",
      "4    16\n",
      "Name: count, dtype: int64\n"
     ]
    }
   ],
   "execution_count": 443
  },
  {
   "cell_type": "markdown",
   "metadata": {
    "id": "sxmBfGEPA1vA"
   },
   "source": [
    "#### Linguagens\n",
    "\n",
    "* 1: \"English\",\n",
    "* 2: \"Spanish\",\n",
    "* 3: \"French\",\n",
    "* 4: \"German\",\n",
    "* 5: \"Slavic\",\n",
    "* 6: \"Other Indo-European\",\n",
    "* 7: \"Chinese\",\n",
    "* 8: \"Arabic\",\n",
    "* 9: \"Japanese/Turkish/Finnish/Magyar\",\n",
    "* 10: \"Others\""
   ]
  },
  {
   "cell_type": "code",
   "metadata": {
    "id": "tp_p8Pf6A1vB",
    "outputId": "f2500d91-74c2-4eab-ba24-a5ad5330ec35",
    "ExecuteTime": {
     "end_time": "2024-11-26T15:32:08.822213600Z",
     "start_time": "2024-11-21T13:40:45.773537Z"
    }
   },
   "source": [
    "flags[\"language\"].value_counts()"
   ],
   "outputs": [
    {
     "data": {
      "text/plain": [
       "language\n",
       "1     43\n",
       "10    42\n",
       "6     27\n",
       "2     20\n",
       "8     19\n",
       "3     17\n",
       "4      5\n",
       "7      3\n",
       "9      3\n",
       "5      0\n",
       "Name: count, dtype: int64"
      ]
     },
     "execution_count": 444,
     "metadata": {},
     "output_type": "execute_result"
    }
   ],
   "execution_count": 444
  },
  {
   "cell_type": "code",
   "metadata": {
    "id": "cdj_uXzBA1vB",
    "ExecuteTime": {
     "end_time": "2024-11-26T15:32:08.825243Z",
     "start_time": "2024-11-21T13:40:46.041862Z"
    }
   },
   "source": [
    "#region Mapeamentos para os rótulos de linguagens\n",
    "flags[\"language\"] = flags[\"language\"].replace([7, 9], 10)\n",
    "\n",
    "flags[\"language\"] = flags[\"language\"].replace([4, 5], 6)\n",
    "\n",
    "languageMapping = {6: 4, 8: 5, 10: 6}\n",
    "\n",
    "flags[\"language\"] = flags[\"language\"].replace(languageMapping)\n",
    "\n",
    "flags = flags.sort_values(by=\"language\").reset_index(drop=True)\n",
    "#endregion"
   ],
   "outputs": [],
   "execution_count": 445
  },
  {
   "cell_type": "code",
   "metadata": {
    "id": "fXU0iK9SA1vE",
    "outputId": "db324a77-7ea3-470d-966a-741e6433d03c",
    "ExecuteTime": {
     "end_time": "2024-11-26T15:32:08.826210700Z",
     "start_time": "2024-11-21T13:40:46.110852Z"
    }
   },
   "source": [
    "plt.figure(figsize=(8, 6), dpi=100)\n",
    "\n",
    "sns.countplot(x=\"language\", data=flags, hue=None, palette=\"coolwarm\");"
   ],
   "outputs": [
    {
     "data": {
      "text/plain": [
       "<Figure size 800x600 with 1 Axes>"
      ],
      "image/png": "[encoded data removed]"
     },
     "metadata": {},
     "output_type": "display_data"
    }
   ],
   "execution_count": 446
  },
  {
   "cell_type": "code",
   "metadata": {
    "id": "8yy-OrrMA1vE",
    "outputId": "aebbfb27-cfbd-4678-87d2-94228f4fff7e",
    "ExecuteTime": {
     "end_time": "2024-11-26T15:32:08.826210700Z",
     "start_time": "2024-11-21T13:40:46.338033Z"
    }
   },
   "source": [
    "print(flags[\"language\"].value_counts())"
   ],
   "outputs": [
    {
     "name": "stdout",
     "output_type": "stream",
     "text": [
      "language\n",
      "6    48\n",
      "1    43\n",
      "4    32\n",
      "2    20\n",
      "5    19\n",
      "3    17\n",
      "Name: count, dtype: int64\n"
     ]
    }
   ],
   "execution_count": 447
  },
  {
   "cell_type": "markdown",
   "metadata": {
    "id": "zXdRLTj5A1vF"
   },
   "source": [
    "### Mapa de Correlação (Spearman)"
   ]
  },
  {
   "cell_type": "code",
   "metadata": {
    "id": "sofqu6zpA1vF",
    "ExecuteTime": {
     "end_time": "2024-11-26T15:32:08.826210700Z",
     "start_time": "2024-11-21T13:40:46.406382Z"
    }
   },
   "source": [
    "spearman = flags[flags.columns].corr(method=\"spearman\")[\"religion\"].sort_values(ascending=False)\n",
    "# print(spearman)"
   ],
   "outputs": [],
   "execution_count": 448
  },
  {
   "cell_type": "markdown",
   "metadata": {
    "id": "vcCQSwEXA1vG"
   },
   "source": [
    "### Insights"
   ]
  },
  {
   "cell_type": "code",
   "metadata": {
    "id": "rEcvUx7HA1vH",
    "ExecuteTime": {
     "end_time": "2024-11-26T15:32:08.827200600Z",
     "start_time": "2024-11-21T13:40:46.502060Z"
    }
   },
   "source": [
    "#region Mapeamentos para os rótulos de religiões, continentes e linguagens\n",
    "landmassLabels = {\n",
    "    1: \"N. America\",\n",
    "    2: \"S. America\",\n",
    "    3: \"Europe\",\n",
    "    4: \"Africa\",\n",
    "    5: \"Asia\",\n",
    "    6: \"Oceania\"\n",
    "}\n",
    "\n",
    "religionLabels = {\n",
    "    0: \"Catholic\",\n",
    "    1: \"Other Christian\",\n",
    "    2: \"Muslim\",\n",
    "    3: \"Ethnic\",\n",
    "    4: \"Others\"\n",
    "}\n",
    "\n",
    "languageLabels = {\n",
    "    1: \"English\",\n",
    "    2: \"Spanish\",\n",
    "    3: \"French\",\n",
    "    4: \"Other Indo-European\",\n",
    "    5: \"Arabic\",\n",
    "    6: \"Others\"\n",
    "}\n",
    "\n",
    "colors = [\"red\", \"green\", \"blue\", \"white\", \"black\", \"gold\", \"orange\", \"brown\"]\n",
    "#endregion"
   ],
   "outputs": [],
   "execution_count": 449
  },
  {
   "cell_type": "markdown",
   "metadata": {
    "id": "sCzsXn2QA1vH"
   },
   "source": [
    "> **Distribuição por Continente:** A visualização mostra a distribuição de religiões por continente, revelando possíveis concentrações de certas religiões em regiões específicas."
   ]
  },
  {
   "cell_type": "code",
   "metadata": {
    "id": "P7EZ09R1A1vI",
    "outputId": "cff98030-72d7-4f7d-d737-cc2eaa516bc4",
    "ExecuteTime": {
     "end_time": "2024-11-26T15:32:08.827200600Z",
     "start_time": "2024-11-21T13:40:46.512842Z"
    }
   },
   "source": [
    "#region 1. Análise de distribuição da religião por continente\n",
    "\n",
    "# Plot da distribuição de religiões por continente\n",
    "plt.figure(figsize=(10, 5), dpi=100)\n",
    "ax = sns.countplot(data=flags, x=\"landmass\", hue=\"religion\", palette=\"tab10\")\n",
    "\n",
    "# Renomear os valores do eixo x e a legenda\n",
    "ax.set_xticklabels([landmassLabels[int(label.get_text())] for label in ax.get_xticklabels()])\n",
    "handles, labels = ax.get_legend_handles_labels()\n",
    "ax.legend(handles, [religionLabels[int(label)] for label in labels], title=\"Religião\")\n",
    "\n",
    "# Títulos e rótulos\n",
    "plt.title(\"Distribuição de Religiões por Continente\")\n",
    "plt.xlabel(\"Continente\")\n",
    "plt.ylabel(\"Contagem\")\n",
    "plt.show()\n",
    "#endregion"
   ],
   "outputs": [
    {
     "data": {
      "text/plain": [
       "<Figure size 1000x500 with 1 Axes>"
      ],
      "image/png": "[encoded data removed]"
     },
     "metadata": {},
     "output_type": "display_data"
    }
   ],
   "execution_count": 450
  },
  {
   "cell_type": "markdown",
   "metadata": {
    "id": "c-7zvR--A1vJ"
   },
   "source": [
    "> **Proporção de Presença de Cores em Bandeiras por Religião:** O gráfico de calor mostra a proporção de presença de cores em bandeiras por religião, destacando as cores mais comuns em cada religião."
   ]
  },
  {
   "cell_type": "code",
   "metadata": {
    "id": "eaLab4HQAR_X",
    "ExecuteTime": {
     "end_time": "2024-11-26T15:32:08.827200600Z",
     "start_time": "2024-11-21T13:40:46.813354Z"
    }
   },
   "source": [
    "contagem = flags.groupby([\"landmass\", \"religion\"]).size().reset_index(name=\"count\")\n",
    "# contagem"
   ],
   "outputs": [],
   "execution_count": 451
  },
  {
   "cell_type": "code",
   "metadata": {
    "id": "gppbY3QKA1vK",
    "outputId": "1bbe797f-b8a0-4dfc-fca5-c3f24d0b25dd",
    "ExecuteTime": {
     "end_time": "2024-11-26T15:32:08.828197200Z",
     "start_time": "2024-11-21T13:40:46.865762Z"
    }
   },
   "source": [
    "#region 2. Análise do uso de cores em bandeiras por religião\n",
    "colors = [\"red\", \"green\", \"blue\", \"gold\", \"white\", \"black\", \"orange\"]\n",
    "flagsColors = flags[colors + [\"religion\"]].groupby(\"religion\").mean()\n",
    "\n",
    "plt.figure(figsize=(14, 8), dpi=100)\n",
    "sns.heatmap(\n",
    "    flagsColors,\n",
    "    annot=True,\n",
    "    cmap=\"YlGnBu\",\n",
    "    cbar=True,\n",
    "    yticklabels=[religionLabels.get(religion, religion) for religion in flagsColors.index],\n",
    "    annot_kws={\"size\": 12}\n",
    ")\n",
    "\n",
    "plt.title(\"Proporção de Presença de Cores em Bandeiras por Religião\")\n",
    "plt.xlabel(\"Cor\")\n",
    "plt.ylabel(\"Religião\")\n",
    "plt.show()\n",
    "#endregion"
   ],
   "outputs": [
    {
     "data": {
      "text/plain": [
       "<Figure size 1400x800 with 2 Axes>"
      ],
      "image/png": "[encoded data removed]"
     },
     "metadata": {},
     "output_type": "display_data"
    }
   ],
   "execution_count": 452
  },
  {
   "cell_type": "code",
   "metadata": {
    "id": "WRHkv4boA1vO",
    "outputId": "a57c2d72-90e3-495c-b45c-569d71ec017e",
    "ExecuteTime": {
     "end_time": "2024-11-26T15:32:08.828197200Z",
     "start_time": "2024-11-21T13:40:47.254437Z"
    }
   },
   "source": [
    "#region 3. Contagem média de círculos e ícones por religião\n",
    "circleIconReligion = flags.groupby(\"religion\")[[\"circles\", \"icon\"]].mean()\n",
    "\n",
    "# Atualizar os índices para exibir os rótulos das religiões\n",
    "circleIconReligion.index = circleIconReligion.index.map(religionLabels)\n",
    "\n",
    "plt.figure(figsize=(12, 6), dpi=100)\n",
    "\n",
    "# Plot da média de círculos e ícones por religião\n",
    "circleIconReligion.plot(\n",
    "    kind=\"bar\",\n",
    "    color=\"rgb\",\n",
    "    width=0.7,\n",
    "    ax=plt.gca()\n",
    ")\n",
    "\n",
    "plt.title(\"Média de Círculos e Ícones por Religião nas Bandeiras\")\n",
    "plt.xlabel(\"Religião\")\n",
    "plt.ylabel(\"Média\")\n",
    "plt.legend([\"Círculos\", \"Ícones\"], title=\"Elementos da Bandeira\")\n",
    "plt.show()\n",
    "#endregion"
   ],
   "outputs": [
    {
     "data": {
      "text/plain": [
       "<Figure size 1200x600 with 1 Axes>"
      ],
      "image/png": "[encoded data removed]"
     },
     "metadata": {},
     "output_type": "display_data"
    }
   ],
   "execution_count": 453
  },
  {
   "cell_type": "markdown",
   "metadata": {
    "id": "SwkGkWSjA1vP"
   },
   "source": [
    "* **Ícone:** 1 se uma imagem inanimada estiver presente (por exemplo, um barco), caso contrário 0.\n",
    "* **Animar:** 1 se uma imagem animada (por exemplo, uma águia, uma árvore, uma mão humana) estiver presente, 0 caso contrário.\n",
    "* **Crescente:** 1 se um símbolo de lua crescente estiver presente, caso contrário 0."
   ]
  },
  {
   "cell_type": "code",
   "metadata": {
    "id": "l6vmi2VnA1vQ",
    "outputId": "56c766df-25c6-4caa-f864-e9f6f2656126",
    "ExecuteTime": {
     "end_time": "2024-11-26T15:32:08.828197200Z",
     "start_time": "2024-11-21T13:40:47.504687Z"
    }
   },
   "source": [
    "#region 4. Distribuição de idiomas por religião\n",
    "plt.figure(figsize=(12, 6), dpi=100)\n",
    "ax = sns.countplot(data=flags, x=\"language\", hue=\"religion\", palette=\"tab10\")\n",
    "ax.set_xticklabels([languageLabels.get(int(label.get_text()), label.get_text()) for label in ax.get_xticklabels()])\n",
    "\n",
    "handles, labels = ax.get_legend_handles_labels()\n",
    "ax.legend(handles, [religionLabels.get(int(label), label) for label in labels], title=\"Religião\")\n",
    "\n",
    "plt.title(\"Distribuição de Idiomas por Religião\")\n",
    "plt.xlabel(\"Idioma\")\n",
    "plt.ylabel(\"Contagem\")\n",
    "plt.show()\n",
    "#endregion"
   ],
   "outputs": [
    {
     "data": {
      "text/plain": [
       "<Figure size 1200x600 with 1 Axes>"
      ],
      "image/png": "[encoded data removed]"
     },
     "metadata": {},
     "output_type": "display_data"
    }
   ],
   "execution_count": 454
  },
  {
   "cell_type": "code",
   "metadata": {
    "id": "Zkv_XMuPA1vQ",
    "ExecuteTime": {
     "end_time": "2024-11-26T15:32:08.829195700Z",
     "start_time": "2024-11-21T13:40:47.825764Z"
    }
   },
   "source": [
    "contagem = flags.groupby([\"language\", \"religion\"]).size().reset_index(name=\"count\")\n",
    "# contagem"
   ],
   "outputs": [],
   "execution_count": 455
  },
  {
   "cell_type": "markdown",
   "metadata": {
    "id": "wqjZiybkA1vR"
   },
   "source": [
    ">* **Others:** Além de outras linguagens (desconhecidas), também, inclui os idiomas japonês, turco, finlandês e magiar.\n",
    "\n",
    ">* **Outras línguas indo-europeias:** Além de outras línguas indo-europeias, inclui o alemão e o eslavo.\n",
    "\n",
    "**Línguas celtas:**\n",
    "* Irlandês\n",
    "* Gaélico escocês\n",
    "* Galês\n",
    "* Bretão\n",
    "* Línguas gregas:\n",
    "\n",
    "**Línguas indo-arianas (algumas consideradas parte do grupo indo-europeu em sentido amplo):**\n",
    "* Hindi\n",
    "* Bengali\n",
    "* Punjabi\n",
    "* Gujarati\n",
    "\n",
    "**Línguas iranianas:**\n",
    "* Persa (farsi)\n",
    "* Curdo\n",
    "* Pashto"
   ]
  },
  {
   "cell_type": "markdown",
   "metadata": {
    "id": "_JpkSplUA1vR"
   },
   "source": [
    "> **Proporção de Presença de Cores em Bandeiras por Idioma:** O gráfico de calor mostra a proporção de presença de cores em bandeiras por idioma, destacando as cores mais comuns em cada idioma."
   ]
  },
  {
   "cell_type": "code",
   "metadata": {
    "id": "ANnjDfX7A1vS",
    "outputId": "25eac0a2-d9fc-4d07-ec72-7edc19ad80f8",
    "ExecuteTime": {
     "end_time": "2024-11-26T15:32:08.829195700Z",
     "start_time": "2024-11-21T13:40:47.876680Z"
    }
   },
   "source": [
    "#region 5. Presença de cores nas bandeiras por idioma\n",
    "flagsColorsLanguage = flags[colors + [\"language\"]].groupby(\"language\").mean()\n",
    "\n",
    "plt.figure(figsize=(14, 8), dpi=100)\n",
    "sns.heatmap(\n",
    "    flagsColorsLanguage,\n",
    "    annot=True,\n",
    "    cmap=\"YlGnBu\",\n",
    "    cbar=True,\n",
    "    yticklabels=[languageLabels.get(lang, lang) for lang in flagsColorsLanguage.index],\n",
    "    annot_kws={\"size\": 12}\n",
    ")\n",
    "plt.title(\"Proporção de Presença de Cores em Bandeiras por Idioma\")\n",
    "plt.xlabel(\"Cor\")\n",
    "plt.ylabel(\"Idioma\")\n",
    "plt.show()\n",
    "#endregion"
   ],
   "outputs": [
    {
     "data": {
      "text/plain": [
       "<Figure size 1400x800 with 2 Axes>"
      ],
      "image/png": "[encoded data removed]"
     },
     "metadata": {},
     "output_type": "display_data"
    }
   ],
   "execution_count": 456
  },
  {
   "cell_type": "markdown",
   "metadata": {
    "id": "T1olwLa_A1vS"
   },
   "source": [
    "## Etapa 4: Rede Neural - Manipulação do Dataset"
   ]
  },
  {
   "cell_type": "code",
   "metadata": {
    "id": "4sFhJjMJA1vT",
    "ExecuteTime": {
     "end_time": "2024-11-26T15:32:08.829195700Z",
     "start_time": "2024-11-21T13:40:48.290453Z"
    }
   },
   "source": [
    "flagsTest = pd.read_csv(\"dataset/flags_tratado.csv\")"
   ],
   "outputs": [],
   "execution_count": 457
  },
  {
   "metadata": {
    "ExecuteTime": {
     "end_time": "2024-11-26T15:32:08.829195700Z",
     "start_time": "2024-11-21T13:40:48.348930Z"
    }
   },
   "cell_type": "code",
   "source": [
    "# [0, 1, 2, 3] -> com outliers\n",
    "# [4, 5, 6, 7] -> sem outliers\n",
    "\n",
    "setClassificador = 0\n",
    "file = \"sets/classificador-\" + str(setClassificador) + \".pth\""
   ],
   "outputs": [],
   "execution_count": 458
  },
  {
   "metadata": {
    "id": "ev_S_v8kAR_b"
   },
   "cell_type": "markdown",
   "source": "### Valores Únicos"
  },
  {
   "metadata": {
    "id": "u6L1kcOlAR_c",
    "ExecuteTime": {
     "end_time": "2024-11-26T15:32:08.830218800Z",
     "start_time": "2024-11-21T13:40:48.403311Z"
    }
   },
   "cell_type": "code",
   "source": [
    "#region Identifica as religiões que aparecem apenas uma vez em cada continente\n",
    "def findOccurrenceReligions(data, continent=\"landmass\", religion=\"religion\"):\n",
    "    religionContinentCounts = data.groupby([continent, religion]).size().reset_index(name=\"count\")\n",
    "\n",
    "    singleOccurrenceReligions = religionContinentCounts[religionContinentCounts[\"count\"] == 1]\n",
    "\n",
    "    return singleOccurrenceReligions\n",
    "\n",
    "#endregion"
   ],
   "outputs": [],
   "execution_count": 459
  },
  {
   "metadata": {
    "id": "VxMo-EsGAR_c",
    "ExecuteTime": {
     "end_time": "2024-11-26T15:32:08.830218800Z",
     "start_time": "2024-11-21T13:40:48.454667Z"
    }
   },
   "cell_type": "code",
   "source": "single = findOccurrenceReligions(flagsTest)",
   "outputs": [],
   "execution_count": 460
  },
  {
   "metadata": {
    "id": "GaiKbtV9AR_d",
    "ExecuteTime": {
     "end_time": "2024-11-26T15:32:08.830218800Z",
     "start_time": "2024-11-21T13:40:48.509988Z"
    }
   },
   "cell_type": "code",
   "source": [
    "# Remover as tuplas com religiões únicas\n",
    "if setClassificador not in range(0, 4):\n",
    "    flagsTest = flagsTest.drop(index=single.index.to_list())"
   ],
   "outputs": [],
   "execution_count": 461
  },
  {
   "metadata": {
    "id": "-ccuJRs0A1vT"
   },
   "cell_type": "markdown",
   "source": [
    "### Continentes\n",
    "\n",
    "* 1 = N.America\n",
    "* 2 = S.America\n",
    "* 3 = Europe\n",
    "* 4 = Africa\n",
    "* 5 = Asia\n",
    "* 6 = Oceania"
   ]
  },
  {
   "metadata": {
    "id": "J7LCKh_hA1vU",
    "ExecuteTime": {
     "end_time": "2024-11-26T15:32:08.830218800Z",
     "start_time": "2024-11-21T13:40:48.562519Z"
    }
   },
   "cell_type": "code",
   "source": [
    "#region Mapeamentos para os rótulos de continentes\n",
    "landmassMapping = {1: 0, 2: 0, 3: 0, 4: 1, 5: 1, 6: 0}\n",
    "\n",
    "flagsTest[\"landmass\"] = flagsTest[\"landmass\"].replace(landmassMapping)\n",
    "#endregion"
   ],
   "outputs": [],
   "execution_count": 462
  },
  {
   "metadata": {
    "id": "q3_enDt3A1vW",
    "outputId": "40176044-d5c4-4a01-8bbf-8b4fed40fb86",
    "ExecuteTime": {
     "end_time": "2024-11-26T15:32:08.830218800Z",
     "start_time": "2024-11-21T13:40:48.623229Z"
    }
   },
   "cell_type": "code",
   "source": "print(flagsTest[\"landmass\"].value_counts())",
   "outputs": [
    {
     "name": "stdout",
     "output_type": "stream",
     "text": [
      "landmass\n",
      "0    94\n",
      "1    85\n",
      "Name: count, dtype: int64\n"
     ]
    }
   ],
   "execution_count": 463
  },
  {
   "metadata": {
    "id": "do-0VKCJA1va"
   },
   "cell_type": "markdown",
   "source": [
    "### Religiões\n",
    "\n",
    "* 0 = Catholic\n",
    "* 1 = Other Christian\n",
    "* 2 = Muslim\n",
    "* 3 = Buddhist\n",
    "* 4 = Hindu\n",
    "* 5 = Ethnic\n",
    "* 6 = Marxist (Eliminada)\n",
    "* 7 = Others"
   ]
  },
  {
   "metadata": {
    "id": "qTQdyI5MA1va",
    "ExecuteTime": {
     "end_time": "2024-11-26T15:32:08.830218800Z",
     "start_time": "2024-11-21T13:40:48.680247Z"
    }
   },
   "cell_type": "code",
   "source": [
    "#region Mapeamentos para os rótulos de religiões\n",
    "if setClassificador in [0, 4]:\n",
    "    # Cristã e Outras (94, 85)\n",
    "    flagsTest[\"religion\"] = flagsTest[\"religion\"].replace([0, 1], 0)\n",
    "    flagsTest[\"religion\"] = flagsTest[\"religion\"].replace([2, 3, 4, 5, 6], 1)\n",
    "    binary = True\n",
    "elif setClassificador in [1, 5]:\n",
    "    # Monoteístas, Politeístas e Outras (136, 31, 12)\n",
    "    flagsTest[\"religion\"] = flagsTest[\"religion\"].replace([0, 1, 2], 0)\n",
    "    flagsTest[\"religion\"] = flagsTest[\"religion\"].replace([4, 5], 1)\n",
    "    flagsTest[\"religion\"] = flagsTest[\"religion\"].replace([3, 6], 2)\n",
    "    binary = False\n",
    "elif setClassificador in [2, 6]:\n",
    "    # Ocidental, Oriental e Outras (100, 48, 31)\n",
    "    flagsTest[\"religion\"] = flagsTest[\"religion\"].replace([0, 1], 0)\n",
    "    flagsTest[\"religion\"] = flagsTest[\"religion\"].replace([2, 3, 4], 1)\n",
    "    flagsTest[\"religion\"] = flagsTest[\"religion\"].replace([5, 6], 2)\n",
    "    binary = False\n",
    "else:\n",
    "    # Cristã, Islâmica, Oriental e Outras (98, 35, 30, 11)\n",
    "    flagsTest[\"religion\"] = flagsTest[\"religion\"].replace([0, 1], 0)\n",
    "    flagsTest[\"religion\"] = flagsTest[\"religion\"].replace(2, 1)\n",
    "    flagsTest[\"religion\"] = flagsTest[\"religion\"].replace([3, 4], 2)\n",
    "    flagsTest[\"religion\"] = flagsTest[\"religion\"].replace([5, 6], 3)\n",
    "    binary = False\n",
    "#endregion"
   ],
   "outputs": [],
   "execution_count": 464
  },
  {
   "metadata": {
    "id": "BgSUuZKuA1vb"
   },
   "cell_type": "markdown",
   "source": [
    "### Linguagens\n",
    "\n",
    "* 1: \"English\",\n",
    "* 2: \"Spanish\",\n",
    "* 3: \"French\",\n",
    "* 4: \"German\",\n",
    "* 5: \"Slavic\",\n",
    "* 6: \"Other Indo-European\",\n",
    "* 7: \"Chinese\",\n",
    "* 8: \"Arabic\",\n",
    "* 9: \"Japanese/Turkish/Finnish/Magyar\",\n",
    "* 10: \"Others\""
   ]
  },
  {
   "metadata": {
    "id": "0CfnOQ0fA1ve",
    "ExecuteTime": {
     "end_time": "2024-11-26T15:32:08.831190600Z",
     "start_time": "2024-11-21T13:40:48.737632Z"
    }
   },
   "cell_type": "code",
   "source": [
    "#region Mapeamentos para os rótulos de linguagens\n",
    "flagsTest[\"language\"] = flagsTest[\"language\"].replace([7, 9], 10)\n",
    "\n",
    "flagsTest[\"language\"] = flagsTest[\"language\"].replace([4, 5], 6)\n",
    "\n",
    "languageMapping = {6: 4, 8: 5, 10: 6}\n",
    "\n",
    "flagsTest[\"language\"] = flagsTest[\"language\"].replace(languageMapping)\n",
    "#endregion"
   ],
   "outputs": [],
   "execution_count": 465
  },
  {
   "metadata": {
    "id": "ahztD64lAR_g",
    "outputId": "5376ca12-0766-4789-a8aa-7d7f7e74ef4a",
    "ExecuteTime": {
     "end_time": "2024-11-26T15:32:08.831190600Z",
     "start_time": "2024-11-21T13:40:48.798043Z"
    }
   },
   "cell_type": "code",
   "source": "print(flagsTest[\"language\"].value_counts())",
   "outputs": [
    {
     "name": "stdout",
     "output_type": "stream",
     "text": [
      "language\n",
      "6    48\n",
      "1    43\n",
      "4    32\n",
      "2    20\n",
      "5    19\n",
      "3    17\n",
      "Name: count, dtype: int64\n"
     ]
    }
   ],
   "execution_count": 466
  },
  {
   "metadata": {
    "id": "e1IdEic1A1wC"
   },
   "cell_type": "markdown",
   "source": "### Correlação de Spearman"
  },
  {
   "metadata": {
    "id": "O_TYbR3UA1wE",
    "ExecuteTime": {
     "end_time": "2024-11-26T15:32:08.831190600Z",
     "start_time": "2024-11-21T13:40:48.857231Z"
    }
   },
   "cell_type": "code",
   "source": "features = [\"landmass\", \"language\", \"area\", \"population\", \"zone\", \"religion\"]",
   "outputs": [],
   "execution_count": 467
  },
  {
   "metadata": {
    "id": "GrIa9y08A1wD",
    "outputId": "f70e25ef-7727-4768-efb9-6a9ac519a0da",
    "ExecuteTime": {
     "end_time": "2024-11-26T15:32:08.832190900Z",
     "start_time": "2024-11-21T13:40:48.909738Z"
    }
   },
   "cell_type": "code",
   "source": [
    "spearmanTest = flagsTest[features].corr(method=\"spearman\")[\"religion\"].sort_values(ascending=False)\n",
    "# print(spearmanTest)"
   ],
   "outputs": [],
   "execution_count": 468
  },
  {
   "metadata": {
    "id": "1WSr_4gHA1wD"
   },
   "cell_type": "markdown",
   "source": "## Etapa 5: Rede Neural - Preparação dos Dados"
  },
  {
   "metadata": {
    "id": "durRwJKQA1wE",
    "outputId": "d3155906-4e4d-4fa3-b579-0c9746725087",
    "ExecuteTime": {
     "end_time": "2024-11-26T15:32:08.832190900Z",
     "start_time": "2024-11-21T13:40:48.965630Z"
    }
   },
   "cell_type": "code",
   "source": [
    "np.random.seed(123)\n",
    "torch.manual_seed(123)"
   ],
   "outputs": [
    {
     "data": {
      "text/plain": [
       "<torch._C.Generator at 0x20d2eab1490>"
      ]
     },
     "execution_count": 469,
     "metadata": {},
     "output_type": "execute_result"
    }
   ],
   "execution_count": 469
  },
  {
   "metadata": {
    "id": "_1Y1-7xAA1wE",
    "ExecuteTime": {
     "end_time": "2024-11-26T15:32:08.834180500Z",
     "start_time": "2024-11-21T13:40:49.070837Z"
    }
   },
   "cell_type": "code",
   "source": [
    "flagsTest = flagsTest[features]\n",
    "\n",
    "scaler = MinMaxScaler()\n",
    "\n",
    "X = scaler.fit_transform(flagsTest.drop(columns=\"religion\", axis=1).values)\n",
    "y = flagsTest[\"religion\"].values"
   ],
   "outputs": [],
   "execution_count": 470
  },
  {
   "metadata": {
    "id": "DcX2W8-LA1wF",
    "ExecuteTime": {
     "end_time": "2024-11-26T15:32:08.834180500Z",
     "start_time": "2024-11-21T13:40:49.126005Z"
    }
   },
   "cell_type": "code",
   "source": "X_train, X_test, y_train, y_test = train_test_split(X, y, test_size=0.2, shuffle=True, stratify=y, random_state=42)",
   "outputs": [],
   "execution_count": 471
  },
  {
   "metadata": {
    "ExecuteTime": {
     "end_time": "2024-11-26T15:32:08.835220600Z",
     "start_time": "2024-11-21T13:40:49.174463Z"
    }
   },
   "cell_type": "code",
   "source": [
    "#region Reajustar o índice \"errado\"\n",
    "def fixSample(X_train, X_test, y_train, y_test, indice=31):\n",
    "    erro_X = X_test[indice].reshape(1, -1)\n",
    "    erro_y = y_test[indice]\n",
    "\n",
    "    # Adicionar ao conjunto de treinamento\n",
    "    X_train = np.vstack([X_train, erro_X])\n",
    "    y_train = np.append(y_train, erro_y)\n",
    "\n",
    "    # Remover do conjunto de teste\n",
    "    X_test = np.delete(X_test, indice, axis=0)\n",
    "    y_test = np.delete(y_test, indice)\n",
    "\n",
    "    return X_train, X_test, y_train, y_test\n",
    "\n",
    "#endregion"
   ],
   "outputs": [],
   "execution_count": 472
  },
  {
   "metadata": {
    "ExecuteTime": {
     "end_time": "2024-11-26T15:32:08.835220600Z",
     "start_time": "2024-11-21T13:40:49.227318Z"
    }
   },
   "cell_type": "code",
   "source": "X_train, X_test, y_train, y_test = fixSample(X_train, X_test, y_train, y_test)",
   "outputs": [],
   "execution_count": 473
  },
  {
   "metadata": {
    "id": "53L7Tp2GA1wG",
    "ExecuteTime": {
     "end_time": "2024-11-26T15:32:08.836176200Z",
     "start_time": "2024-11-21T13:40:49.274579Z"
    }
   },
   "cell_type": "code",
   "source": [
    "X_train = torch.tensor(X_train, dtype=torch.float32)\n",
    "y_train = torch.tensor(y_train, dtype=torch.float32)\n",
    "# y_train = torch.tensor(y_train, dtype=torch.int64)"
   ],
   "outputs": [],
   "execution_count": 474
  },
  {
   "metadata": {
    "id": "pzQjBByBA1wH",
    "outputId": "4fd187b8-35b7-44b9-fc74-1207c4a385ac",
    "ExecuteTime": {
     "end_time": "2024-11-26T15:32:08.836176200Z",
     "start_time": "2024-11-21T13:40:49.364911Z"
    }
   },
   "cell_type": "code",
   "source": "X_train.shape, y_train.shape",
   "outputs": [
    {
     "data": {
      "text/plain": [
       "(torch.Size([144, 5]), torch.Size([144]))"
      ]
     },
     "execution_count": 475,
     "metadata": {},
     "output_type": "execute_result"
    }
   ],
   "execution_count": 475
  },
  {
   "metadata": {
    "id": "Un5Px2ZnA1wH",
    "outputId": "a35e5669-4990-4b16-f05e-4930ba95ea68",
    "ExecuteTime": {
     "end_time": "2024-11-26T15:32:08.836176200Z",
     "start_time": "2024-11-21T13:40:49.450996Z"
    }
   },
   "cell_type": "code",
   "source": "len(np.unique(y))",
   "outputs": [
    {
     "data": {
      "text/plain": [
       "2"
      ]
     },
     "execution_count": 476,
     "metadata": {},
     "output_type": "execute_result"
    }
   ],
   "execution_count": 476
  },
  {
   "cell_type": "markdown",
   "metadata": {
    "id": "fHO4q9SJA1wH"
   },
   "source": [
    "## Etapa 6: Rede Neural - Classe da Rede Neural"
   ]
  },
  {
   "cell_type": "code",
   "metadata": {
    "id": "nSERxEjzA1wI",
    "ExecuteTime": {
     "end_time": "2024-11-26T15:32:08.837173900Z",
     "start_time": "2024-11-21T13:40:49.599609Z"
    }
   },
   "source": [
    "#region ClassificadorTorch para Skorch\n",
    "class ClassificadorTorch(nn.Module):\n",
    "    def __init__(self, activation, neurons, initializer):\n",
    "        super().__init__()\n",
    "        self.dense0 = nn.Linear(X_train.shape[1], neurons)\n",
    "        initializer(self.dense0.weight)\n",
    "        self.activation0 = activation\n",
    "        # ---\n",
    "        self.dense1 = nn.Linear(neurons, neurons)\n",
    "        initializer(self.dense1.weight)\n",
    "        self.activation1 = activation\n",
    "        # ---\n",
    "        self.dense2 = nn.Linear(neurons, 1)\n",
    "        initializer(self.dense2.weight)\n",
    "        # ---\n",
    "        self.dropout = nn.Dropout(0.2)\n",
    "\n",
    "    def forward(self, X):\n",
    "        X = self.activation0(self.dense0(X))\n",
    "        X = self.dropout(X)\n",
    "        # ---\n",
    "        X = self.activation1(self.dense1(X))\n",
    "        X = self.dropout(X)\n",
    "        # ---\n",
    "        X = self.dense2(X)\n",
    "        return X\n",
    "\n",
    "#endregion"
   ],
   "outputs": [],
   "execution_count": 477
  },
  {
   "cell_type": "markdown",
   "metadata": {
    "id": "MlznkpSJA1wI"
   },
   "source": [
    "## Etapa 7: Rede Neural - Skorch"
   ]
  },
  {
   "cell_type": "code",
   "metadata": {
    "id": "NXho1HC5A1wJ",
    "ExecuteTime": {
     "end_time": "2024-11-26T15:32:08.837173900Z",
     "start_time": "2024-11-21T13:40:49.651784Z"
    }
   },
   "source": [
    "#region Definição do Classificador\n",
    "# NeuralNetClassifier, CrossEntropyLoss (criterion) -> multi-class | NeuralNetBinaryClassifier -> single-class\n",
    "classificador = NeuralNetBinaryClassifier(\n",
    "    module=ClassificadorTorch,\n",
    "    criterion=nn.BCEWithLogitsLoss,\n",
    "    # criterion=nn.CrossEntropyLoss,\n",
    "    optimizer=torch.optim.Adam,\n",
    "    train_split=False,\n",
    "    verbose=0\n",
    ")\n",
    "#endregion"
   ],
   "outputs": [],
   "execution_count": 478
  },
  {
   "cell_type": "markdown",
   "metadata": {
    "id": "vPnl22wJA1wJ"
   },
   "source": "## Etapa 8: Rede Neural - Tuning dos Hiperparâmetros"
  },
  {
   "cell_type": "code",
   "metadata": {
    "id": "ervtpdo4A1wK",
    "ExecuteTime": {
     "end_time": "2024-11-26T15:32:08.837173900Z",
     "start_time": "2024-11-21T13:40:49.700694Z"
    }
   },
   "source": [
    "#region Grid de Hiperparâmetros\n",
    "def getHyperparameterGrid():\n",
    "    return {\n",
    "        \"batch_size\": [10, 20, 30],\n",
    "        \"max_epochs\": [1000, 2000, 3000],\n",
    "        \"module__neurons\": [3, 6, 12],\n",
    "        \"module__activation\": [F.relu, F.leaky_relu],\n",
    "        \"module__initializer\": [nn.init.normal_, nn.init.uniform_],\n",
    "    }\n",
    "\n",
    "#endregion"
   ],
   "outputs": [],
   "execution_count": 479
  },
  {
   "cell_type": "code",
   "metadata": {
    "id": "9ykVZ3G9A1wK",
    "ExecuteTime": {
     "end_time": "2024-11-26T15:32:08.838169900Z",
     "start_time": "2024-11-21T13:40:49.748708Z"
    }
   },
   "source": [
    "#region Otimização dos Hiperparâmetros\n",
    "def optimizeHyperparameters(X_train, y_train):\n",
    "    params = getHyperparameterGrid()\n",
    "    grid = GridSearchCV(\n",
    "        estimator=classificador,\n",
    "        param_grid=params,\n",
    "        scoring=\"accuracy\",\n",
    "        cv=5,\n",
    "        n_jobs=-1,\n",
    "        verbose=0\n",
    "    )\n",
    "    grid.fit(X_train, y_train)\n",
    "\n",
    "    return grid.best_score_, grid.best_params_\n",
    "\n",
    "#endregion"
   ],
   "outputs": [],
   "execution_count": 480
  },
  {
   "cell_type": "code",
   "metadata": {
    "id": "_TdWa_ZqA1wL",
    "ExecuteTime": {
     "end_time": "2024-11-26T15:32:08.838169900Z",
     "start_time": "2024-11-21T13:40:49.797453Z"
    }
   },
   "source": [
    "# acurracy, bestParamns = optimizeHyperparameters(X_train, y_train)\n",
    "\n",
    "# print(f\"Acurácia: {acurracy * 100:.2f}%\")\n",
    "# print(f\"Melhores Parâmetros: {bestParamns}\")"
   ],
   "outputs": [],
   "execution_count": 481
  },
  {
   "cell_type": "markdown",
   "metadata": {
    "id": "X2qgGTjCAR_m"
   },
   "source": [
    "**Resultados:**\n",
    "***\n",
    "**Classes: 0 = Cristã, 1 = Outras**\n",
    "***\n",
    "* Acurácia: 92.24% / 91.43% **(- tuplas | - linguagens | - continentes)**\n",
    "* Melhores Parâmetros: {'batch_size': 20, 'max_epochs': 2000, 'module__activation': <function leaky_relu at 0x000001A50C98D8A0>, 'module__initializer': <function normal_ at 0x000001A50CA0DD00>, 'module__neurons': 3}\n",
    "***\n",
    "* Acurácia: 94.97% / 97.22%  **(+ tuplas | - linguagens | - continentes)**\n",
    "* Melhores Parâmetros: {'batch_size': 10, 'max_epochs': 1000, 'module__activation': <function leaky_relu at 0x000001A50C98D8A0>, 'module__initializer': <function normal_ at 0x000001A50CA0DD00>, 'module__neurons': 6}**\n",
    "***\n",
    "**Classes: 0 = Monoteístas, 1 = Politeístas e 2 = Outras**\n",
    "***\n",
    "* Acurácia: 82.56% / 77.14% **(- tuplas | - linguagens | - continentes)**\n",
    "* Melhores Parâmetros: {'batch_size': 10, 'max_epochs': 2000, 'module__activation': <function relu at 0x0000024145CE3060>, 'module__initializer': <function normal_ at 0x0000024145D53920>, 'module__neurons': 8}\n",
    "***\n",
    "* Acurácia: 85.58% / 80.56% **(+ tuplas | - linguagens | - continentes)**\n",
    "* Melhores Parâmetros: {'batch_size': 10, 'max_epochs': 1000, 'module__activation': <function leaky_relu at 0x000001A50C98D8A0>, 'module__initializer': <function uniform_ at 0x000001A50CA0DC60>, 'module__neurons': 16}\n",
    "***\n",
    "**Classes: 0 = Ocidental, 1 = Oriental e 2 = Outras**\n",
    "***\n",
    "* Acurácia: 83.10% / 77.14% **(- tuplas | - linguagens | - continentes)**\n",
    "* Melhores Parâmetros: {'batch_size': 20, 'max_epochs': 3000, 'module__activation': <function relu at 0x000001A50C98D440>, 'module__initializer': <function uniform_ at 0x000001A50CA0DC60>, 'module__neurons': 8}\n",
    "***\n",
    "* Acurácia: 84.18% / 83.33% **(+ tuplas | - linguagens | - continentes)**\n",
    "* Melhores Parâmetros: {'batch_size': 30, 'max_epochs': 2000, 'module__activation': <function relu at 0x000001A50C98D440>, 'module__initializer': <function normal_ at 0x000001A50CA0DD00>, 'module__neurons': 16}\n",
    "***\n",
    "**Classes: 0 = Cristã, 1 = Islâmica, 2 = Oriental e 3 = Outras**\n",
    "***\n",
    "* Acurácia: 81.75% / 74.29% **(- tuplas | - linguagens | - continentes)**\n",
    "* Melhores Parâmetros: {'batch_size': 10, 'max_epochs': 3000, 'module__activation': <function leaky_relu at 0x0000024145CE34C0>, 'module__initializer': <function normal_ at 0x0000024145D53920>, 'module__neurons': 10}\n",
    "***\n",
    "* Acurácia: 78.44% / 75.00% **(+ tuplas | - linguagens | - continentes)**\n",
    "* Melhores Parâmetros: {'batch_size': 20, 'max_epochs': 2000, 'module__activation': <function relu at 0x0000024145CE3060>, 'module__initializer': <function uniform_ at 0x0000024145D53880>, 'module__neurons': 20}"
   ]
  },
  {
   "cell_type": "markdown",
   "metadata": {
    "id": "CcN922xPA1wQ"
   },
   "source": [
    "## Etapa 9: Rede Neural - Transformação dos Dados em Tensores"
   ]
  },
  {
   "metadata": {
    "ExecuteTime": {
     "end_time": "2024-11-26T15:32:08.838169900Z",
     "start_time": "2024-11-21T13:40:49.842856Z"
    }
   },
   "cell_type": "code",
   "source": [
    "#region Inicialização dos Pesos\n",
    "normal_ = lambda weight: nn.init.normal_(weight, mean=0.0, std=0.05)\n",
    "\n",
    "params = [\n",
    "    # Com outliers\n",
    "    {'batch_size': 10, 'max_epochs': 1000, 'module__activation': nn.LeakyReLU(), 'module__initializer': normal_,\n",
    "     'module__neurons': 6},\n",
    "    {'batch_size': 10, 'max_epochs': 1000, 'module__activation': nn.LeakyReLU(),\n",
    "     'module__initializer': nn.init.uniform_, 'module__neurons': 16},  # 3\n",
    "    {'batch_size': 30, 'max_epochs': 2000, 'module__activation': nn.ReLU(), 'module__initializer': normal_,\n",
    "     'module__neurons': 16},\n",
    "    {'batch_size': 20, 'max_epochs': 2000, 'module__activation': nn.ReLU(), 'module__initializer': nn.init.uniform_,\n",
    "     'module__neurons': 20},\n",
    "\n",
    "    # Sem outliers\n",
    "    {'batch_size': 20, 'max_epochs': 2000, 'module__activation': nn.LeakyReLU(), 'module__initializer': normal_,\n",
    "     'module__neurons': 3},\n",
    "    {'batch_size': 10, 'max_epochs': 2000, 'module__activation': nn.ReLU(), 'module__initializer': normal_,\n",
    "     'module__neurons': 8},\n",
    "    {'batch_size': 20, 'max_epochs': 3000, 'module__activation': nn.ReLU(), 'module__initializer': nn.init.uniform_,\n",
    "     'module__neurons': 8},\n",
    "    {'batch_size': 10, 'max_epochs': 3000, 'module__activation': nn.LeakyReLU(), 'module__initializer': normal_,\n",
    "     'module__neurons': 10},\n",
    "]\n",
    "#endregion"
   ],
   "outputs": [],
   "execution_count": 482
  },
  {
   "metadata": {
    "id": "tUfNRSvNAR_p",
    "ExecuteTime": {
     "end_time": "2024-11-26T15:32:08.838169900Z",
     "start_time": "2024-11-21T13:40:49.891962Z"
    }
   },
   "cell_type": "code",
   "source": [
    "#region Inicialização dos parâmetros\n",
    "config = params[setClassificador]\n",
    "\n",
    "batch = config[\"batch_size\"]\n",
    "epochs = config[\"max_epochs\"]\n",
    "activation = config[\"module__activation\"]\n",
    "initializer = config[\"module__initializer\"]\n",
    "neurons = config[\"module__neurons\"]\n",
    "\n",
    "saida = 1 if binary else len(np.unique(y))\n",
    "#endregion"
   ],
   "outputs": [],
   "execution_count": 483
  },
  {
   "cell_type": "code",
   "metadata": {
    "id": "VnkUmbKBA1wX",
    "ExecuteTime": {
     "end_time": "2024-11-26T15:32:08.839167100Z",
     "start_time": "2024-11-21T13:40:49.937633Z"
    }
   },
   "source": [
    "typed = torch.float32 if binary else torch.int64\n",
    "\n",
    "X_train = torch.tensor(X_train, dtype=torch.float32)\n",
    "y_train = torch.tensor(y_train, dtype=typed)\n",
    "\n",
    "X_test = torch.tensor(X_test, dtype=torch.float32)\n",
    "y_test = torch.tensor(y_test, dtype=typed)"
   ],
   "outputs": [],
   "execution_count": 484
  },
  {
   "cell_type": "code",
   "metadata": {
    "id": "UjO0oyNzA1wY",
    "ExecuteTime": {
     "end_time": "2024-11-26T15:32:08.839167100Z",
     "start_time": "2024-11-21T13:40:49.985266Z"
    }
   },
   "source": [
    "trainDataset = torch.utils.flagsPopulationByCluster.TensorDataset(X_train, y_train)\n",
    "train_loader = torch.utils.flagsPopulationByCluster.DataLoader(trainDataset, batch_size=batch, shuffle=True)"
   ],
   "outputs": [],
   "execution_count": 485
  },
  {
   "cell_type": "code",
   "metadata": {
    "id": "OVCP4XTqA1wZ",
    "ExecuteTime": {
     "end_time": "2024-11-26T15:32:08.839167100Z",
     "start_time": "2024-11-21T13:40:50.032115Z"
    }
   },
   "source": [
    "testDataset = torch.utils.flagsPopulationByCluster.TensorDataset(X_test, y_test)\n",
    "test_loader = torch.utils.flagsPopulationByCluster.DataLoader(testDataset, batch_size=batch, shuffle=False)"
   ],
   "outputs": [],
   "execution_count": 486
  },
  {
   "cell_type": "markdown",
   "metadata": {
    "id": "CvrIDr6wA1wZ"
   },
   "source": [
    "## Etapa 10: Rede Neural - Construção do Modelo"
   ]
  },
  {
   "cell_type": "code",
   "metadata": {
    "id": "BboE_kCbA1wZ",
    "ExecuteTime": {
     "end_time": "2024-11-26T15:32:08.840165900Z",
     "start_time": "2024-11-21T13:40:50.081383Z"
    }
   },
   "source": [
    "#region Classificador do Modelo\n",
    "class ClassificadorTorch(nn.Module):\n",
    "    def __init__(self, neurons, activation, initializer, saida):\n",
    "        super(ClassificadorTorch, self).__init__()\n",
    "\n",
    "        self.dense0 = nn.Linear(X_train.shape[1], neurons)\n",
    "        initializer(self.dense0.weight)\n",
    "        # *************************************************** #\n",
    "        self.dense1 = nn.Linear(neurons, neurons)\n",
    "        initializer(self.dense1.weight)\n",
    "        # *************************************************** #\n",
    "        self.dense2 = nn.Linear(neurons, saida)\n",
    "        # *************************************************** #\n",
    "        self.activation = activation\n",
    "        # *************************************************** #\n",
    "        self.dropout = nn.Dropout(0.2)\n",
    "\n",
    "    def forward(self, X):\n",
    "        X = self.activation(self.dense0(X))\n",
    "        X = self.dropout(X)\n",
    "        # *************************************************** #\n",
    "        X = self.activation(self.dense1(X))\n",
    "        X = self.dropout(X)\n",
    "        # *************************************************** #\n",
    "        X = self.dense2(X)\n",
    "        return X\n",
    "\n",
    "#endregion"
   ],
   "outputs": [],
   "execution_count": 487
  },
  {
   "cell_type": "code",
   "metadata": {
    "id": "8NCxoSxhA1wa",
    "ExecuteTime": {
     "end_time": "2024-11-26T15:32:08.840165900Z",
     "start_time": "2024-11-21T13:40:50.129851Z"
    }
   },
   "source": "classificador = ClassificadorTorch(neurons=neurons, activation=activation, initializer=initializer, saida=saida)",
   "outputs": [],
   "execution_count": 488
  },
  {
   "cell_type": "code",
   "metadata": {
    "id": "hM0a0lY4A1wa",
    "ExecuteTime": {
     "end_time": "2024-11-26T15:32:08.840165900Z",
     "start_time": "2024-11-21T13:40:50.178401Z"
    }
   },
   "source": [
    "criterion = nn.BCEWithLogitsLoss() if binary else nn.CrossEntropyLoss()\n",
    "optimizer = torch.optim.Adam(\n",
    "    classificador.parameters(),\n",
    "    lr=0.01,\n",
    "    weight_decay=0.0001\n",
    ")"
   ],
   "outputs": [],
   "execution_count": 489
  },
  {
   "cell_type": "markdown",
   "metadata": {
    "id": "HmQt0E5gA1wa"
   },
   "source": [
    "## Etapa 11: Rede Neural - Treinamento do Modelo"
   ]
  },
  {
   "cell_type": "code",
   "metadata": {
    "id": "P4hUHhTIA1wb",
    "ExecuteTime": {
     "end_time": "2024-11-26T15:32:08.841162800Z",
     "start_time": "2024-11-21T13:40:50.225871Z"
    }
   },
   "source": [
    "epochsList = []\n",
    "lossList = []\n",
    "accuracyList = []"
   ],
   "outputs": [],
   "execution_count": 490
  },
  {
   "cell_type": "code",
   "metadata": {
    "id": "cLOY3OPZA1wb",
    "ExecuteTime": {
     "end_time": "2024-11-26T15:32:08.841162800Z",
     "start_time": "2024-11-21T13:40:50.279812Z"
    }
   },
   "source": [
    "#region Treinamento do Modelo (Binário)\n",
    "def trainBinary():\n",
    "    for epoch in range(epochs):\n",
    "        # Colocar em modo de treinamento\n",
    "        classificador.train()\n",
    "        running_loss = 0.0\n",
    "        running_accuracy = 0.0\n",
    "\n",
    "        for data in train_loader:\n",
    "            inputs, labels = data\n",
    "            # Ajuste para BCEWithLogitsLoss\n",
    "            labels = labels.float().unsqueeze(1)\n",
    "\n",
    "            optimizer.zero_grad()\n",
    "            outputs = classificador(inputs)\n",
    "\n",
    "            # Calcula a perda\n",
    "            loss = criterion(outputs, labels)\n",
    "            loss.backward()\n",
    "            optimizer.step()\n",
    "\n",
    "            # Atualiza o loss e a acurácia\n",
    "            running_loss += loss.item()\n",
    "            # Converte as saídas para 0 ou 1\n",
    "            predictions = (outputs >= 0.5).float()\n",
    "            running_accuracy += (predictions == labels).float().mean().item()\n",
    "\n",
    "        epochsList.append(epoch)\n",
    "        lossList.append(running_loss / len(train_loader))\n",
    "        accuracyList.append(running_accuracy / len(train_loader))\n",
    "\n",
    "        # Impressão dos resultados a cada 100 épocas\n",
    "        if epoch % 100 == 0:\n",
    "            print(\n",
    "                f\"Época {epoch} - Loss: {running_loss / len(train_loader):.4f} - Acurácia: {running_accuracy / len(train_loader) * 100:.2f}%\")\n",
    "\n",
    "#endregion"
   ],
   "outputs": [],
   "execution_count": 491
  },
  {
   "metadata": {
    "id": "5A-Uw2eiAR_s",
    "ExecuteTime": {
     "end_time": "2024-11-26T15:32:08.846149400Z",
     "start_time": "2024-11-21T13:40:50.328183Z"
    }
   },
   "cell_type": "code",
   "source": [
    "#region Treinamento do Modelo (Multi)\n",
    "def trainMulti():\n",
    "    for epoch in range(epochs):\n",
    "        # Colocar em modo de treinamento\n",
    "        classificador.train()\n",
    "        running_loss = 0.\n",
    "        running_accuracy = 0.\n",
    "\n",
    "        for data in train_loader:\n",
    "            inputs, labels = data\n",
    "            optimizer.zero_grad()\n",
    "\n",
    "            outputs = classificador(inputs)\n",
    "            loss = criterion(outputs, labels)\n",
    "            loss.backward()\n",
    "            optimizer.step()\n",
    "\n",
    "            running_loss += loss.item()\n",
    "            running_accuracy += (outputs.argmax(1) == labels).float().mean().item()\n",
    "\n",
    "        epochsList.append(epoch)\n",
    "        lossList.append(running_loss / len(train_loader))\n",
    "        accuracyList.append(running_accuracy / len(train_loader))\n",
    "\n",
    "        if epoch % 100 == 0:\n",
    "            print(\n",
    "                f\"Epoch {epoch} - Loss: {running_loss / len(train_loader):.4f} - Accuracy: {running_accuracy / len(train_loader):.4f}\")\n",
    "\n",
    "#endregion"
   ],
   "outputs": [],
   "execution_count": 492
  },
  {
   "metadata": {
    "id": "d17pTY0lAR_s",
    "ExecuteTime": {
     "end_time": "2024-11-26T15:32:08.847180800Z",
     "start_time": "2024-11-21T13:40:50.376986Z"
    }
   },
   "cell_type": "code",
   "source": [
    "if not os.path.exists(file):\n",
    "    trainBinary() if binary else trainMulti()\n",
    "\n",
    "    averageAccuracy = sum(accuracyList) / len(accuracyList)\n",
    "    print(f\"\\nAcurácia Média Final: {averageAccuracy * 100:.2f}%\")"
   ],
   "outputs": [],
   "execution_count": 493
  },
  {
   "cell_type": "markdown",
   "metadata": {
    "id": "4Yc_6IRTA1wc"
   },
   "source": [
    "## Etapa 12: Rede Neural - Salvar o Classificador"
   ]
  },
  {
   "cell_type": "code",
   "metadata": {
    "id": "5Z3BYEJMA1wf",
    "ExecuteTime": {
     "end_time": "2024-11-26T15:32:08.847180800Z",
     "start_time": "2024-11-21T13:40:50.423807Z"
    }
   },
   "source": [
    "if not os.path.exists(file):\n",
    "    torch.save(classificador.state_dict(), file)"
   ],
   "outputs": [],
   "execution_count": 494
  },
  {
   "cell_type": "markdown",
   "metadata": {
    "id": "fDplQhpOA1wj"
   },
   "source": [
    "## Etapa 13: Rede Neural - Carregar o Classificador"
   ]
  },
  {
   "cell_type": "code",
   "metadata": {
    "id": "lajhPunYA1wj",
    "ExecuteTime": {
     "end_time": "2024-11-26T15:32:08.848144Z",
     "start_time": "2024-11-21T13:40:50.471724Z"
    }
   },
   "source": "classificador = ClassificadorTorch(neurons=neurons, activation=activation, initializer=initializer, saida=saida)",
   "outputs": [],
   "execution_count": 495
  },
  {
   "cell_type": "code",
   "metadata": {
    "id": "p9ClvZsZA1wk",
    "outputId": "69658bbd-e55b-4e34-a77b-ec154e7b1930",
    "ExecuteTime": {
     "end_time": "2024-11-26T15:32:08.849152300Z",
     "start_time": "2024-11-21T13:40:50.518110Z"
    }
   },
   "source": "classificador.load_state_dict(torch.load(file))",
   "outputs": [
    {
     "data": {
      "text/plain": [
       "<All keys matched successfully>"
      ]
     },
     "execution_count": 496,
     "metadata": {},
     "output_type": "execute_result"
    }
   ],
   "execution_count": 496
  },
  {
   "cell_type": "markdown",
   "metadata": {
    "id": "Odq2W7RyA1wk"
   },
   "source": [
    "## Etapa 14: Rede Neural - Teste do Modelo"
   ]
  },
  {
   "cell_type": "code",
   "metadata": {
    "id": "qBpQUHAPA1wl",
    "outputId": "4b31e5fb-61e8-4558-b1a9-a6f282a91157",
    "ExecuteTime": {
     "end_time": "2024-11-26T15:32:08.849152300Z",
     "start_time": "2024-11-21T13:40:50.573689Z"
    }
   },
   "source": [
    "classificador.eval()"
   ],
   "outputs": [
    {
     "data": {
      "text/plain": [
       "ClassificadorTorch(\n",
       "  (dense0): Linear(in_features=5, out_features=6, bias=True)\n",
       "  (dense1): Linear(in_features=6, out_features=6, bias=True)\n",
       "  (dense2): Linear(in_features=6, out_features=1, bias=True)\n",
       "  (activation): LeakyReLU(negative_slope=0.01)\n",
       "  (dropout): Dropout(p=0.2, inplace=False)\n",
       ")"
      ]
     },
     "execution_count": 497,
     "metadata": {},
     "output_type": "execute_result"
    }
   ],
   "execution_count": 497
  },
  {
   "metadata": {
    "id": "V6q0tN2tAR_v",
    "ExecuteTime": {
     "end_time": "2024-11-26T15:32:08.850138200Z",
     "start_time": "2024-11-21T13:40:50.626567Z"
    }
   },
   "cell_type": "code",
   "source": [
    "allPreds = []\n",
    "allLabels = []"
   ],
   "outputs": [],
   "execution_count": 498
  },
  {
   "cell_type": "code",
   "metadata": {
    "id": "-Kl51wMaA1w8",
    "ExecuteTime": {
     "end_time": "2024-11-26T15:32:08.850138200Z",
     "start_time": "2024-11-21T13:40:50.673325Z"
    }
   },
   "source": [
    "#region Teste do Modelo (Binario)\n",
    "def testBinary():\n",
    "    # torch.no_grad() -> Desativar o cálculo de gradientes para avaliação\n",
    "    with torch.no_grad():\n",
    "        for data in test_loader:\n",
    "            inputs, labels = data\n",
    "            outputs = classificador(inputs)\n",
    "\n",
    "            # Remove dimensões extras para compatibilidade\n",
    "            preds = (outputs >= 0.5).float().squeeze()\n",
    "            allPreds.extend(preds.numpy())\n",
    "            allLabels.extend(labels.numpy())\n",
    "\n",
    "#endregion"
   ],
   "outputs": [],
   "execution_count": 499
  },
  {
   "metadata": {
    "id": "uje-Yr4XAR_w",
    "ExecuteTime": {
     "end_time": "2024-11-26T15:32:08.850138200Z",
     "start_time": "2024-11-21T13:40:50.719731Z"
    }
   },
   "cell_type": "code",
   "source": [
    "#region Teste do Modelo (Multi)\n",
    "def testMulti():\n",
    "    # torch.no_grad() -> Desativar o cálculo de gradientes para avaliação\n",
    "    with torch.no_grad():\n",
    "        for test_inputs, test_labels in test_loader:\n",
    "            outputs = classificador(test_inputs)\n",
    "            # Obter a classe prevista\n",
    "            preds = outputs.argmax(dim=1)\n",
    "            # Adicionar previsões à lista\n",
    "            allPreds.extend(preds.tolist())\n",
    "            # Adicionar rótulos verdadeiros à lista\n",
    "            allLabels.extend(test_labels.tolist())\n",
    "\n",
    "#endregion"
   ],
   "outputs": [],
   "execution_count": 500
  },
  {
   "metadata": {
    "id": "CPN6xupCAR_w",
    "ExecuteTime": {
     "end_time": "2024-11-26T15:32:08.851155600Z",
     "start_time": "2024-11-21T13:40:50.766603Z"
    }
   },
   "cell_type": "code",
   "source": [
    "testBinary() if binary else testMulti()"
   ],
   "outputs": [],
   "execution_count": 501
  },
  {
   "cell_type": "code",
   "metadata": {
    "id": "FajgQrBFA1w9",
    "ExecuteTime": {
     "end_time": "2024-11-26T15:32:08.851155600Z",
     "start_time": "2024-11-21T13:40:50.816263Z"
    }
   },
   "source": [
    "accuracy = accuracy_score(allLabels, allPreds)\n",
    "cm = confusion_matrix(allLabels, allPreds)\n",
    "cr = classification_report(allLabels, allPreds)"
   ],
   "outputs": [],
   "execution_count": 502
  },
  {
   "cell_type": "code",
   "metadata": {
    "id": "QDkpMaYIA1w_",
    "outputId": "02bed072-0fb3-4218-d44d-8de0c935d9ad",
    "ExecuteTime": {
     "end_time": "2024-11-26T15:32:08.851155600Z",
     "start_time": "2024-11-21T13:40:50.870602Z"
    }
   },
   "source": [
    "print(f\"Acurácia: {accuracy * 100:.2f}%\\n\")"
   ],
   "outputs": [
    {
     "name": "stdout",
     "output_type": "stream",
     "text": [
      "Acurácia: 100.00%\n",
      "\n"
     ]
    }
   ],
   "execution_count": 503
  },
  {
   "metadata": {
    "id": "7JmufBPmAR_x",
    "outputId": "72c322dd-7254-401a-de21-6870b639b2ed",
    "ExecuteTime": {
     "end_time": "2024-11-26T15:32:08.852133500Z",
     "start_time": "2024-11-21T13:40:50.918241Z"
    }
   },
   "cell_type": "code",
   "source": [
    "#region Plot Matriz de Confusão\n",
    "plt.figure(figsize=(5, 5), dpi=100)\n",
    "\n",
    "sns.heatmap(\n",
    "    cm,\n",
    "    annot=True,\n",
    "    cmap=\"Reds\",\n",
    "    cbar=False,\n",
    "    fmt=\"d\",\n",
    "    annot_kws={\"size\": 20}\n",
    ");\n",
    "#endregion"
   ],
   "outputs": [
    {
     "data": {
      "text/plain": [
       "<Figure size 500x500 with 1 Axes>"
      ],
      "image/png": "[encoded data removed]"
     },
     "metadata": {},
     "output_type": "display_data"
    }
   ],
   "execution_count": 504
  },
  {
   "metadata": {
    "id": "alAulRMDAR_x",
    "outputId": "3ae9e357-99ac-4afc-cb1c-5bd6ea253129",
    "ExecuteTime": {
     "end_time": "2024-11-26T15:32:08.852133500Z",
     "start_time": "2024-11-21T13:40:51.058509Z"
    }
   },
   "cell_type": "code",
   "source": [
    "print(f\"Relatório de Classificação:\\n {cr}\\n\")"
   ],
   "outputs": [
    {
     "name": "stdout",
     "output_type": "stream",
     "text": [
      "Relatório de Classificação:\n",
      "               precision    recall  f1-score   support\n",
      "\n",
      "         0.0       1.00      1.00      1.00        20\n",
      "         1.0       1.00      1.00      1.00        15\n",
      "\n",
      "    accuracy                           1.00        35\n",
      "   macro avg       1.00      1.00      1.00        35\n",
      "weighted avg       1.00      1.00      1.00        35\n",
      "\n",
      "\n"
     ]
    }
   ],
   "execution_count": 505
  },
  {
   "cell_type": "code",
   "metadata": {
    "id": "rGTQhZT7A1xA",
    "ExecuteTime": {
     "end_time": "2024-11-26T15:32:08.852133500Z",
     "start_time": "2024-11-21T13:40:51.110848Z"
    }
   },
   "source": [
    "#region Identifica os Falsos Negativos\n",
    "allPreds = np.array(allPreds)\n",
    "allLabels = np.array(allLabels)\n",
    "indices = np.arange(len(allLabels))\n",
    "\n",
    "falsosNegativos = indices[(allLabels == 1) & (allPreds == 0)]\n",
    "\n",
    "if len(falsosNegativos) > 0:\n",
    "    print(f\"Índices dos 5 primeiros registros classificados como falsos negativos: {falsosNegativos}\\n\")\n",
    "\n",
    "    print(flagsTest.iloc[falsosNegativos])\n",
    "#endregion"
   ],
   "outputs": [],
   "execution_count": 506
  },
  {
   "metadata": {
    "id": "6nAltkYcOKuA"
   },
   "cell_type": "markdown",
   "source": [
    "## Etapa 15: Rede Neural - Curva ROC"
   ]
  },
  {
   "metadata": {
    "id": "wUeLXCNZOKuB",
    "ExecuteTime": {
     "end_time": "2024-11-26T15:32:08.852133500Z",
     "start_time": "2024-11-21T13:40:51.161762Z"
    }
   },
   "cell_type": "code",
   "source": [
    "#region Curva ROC Multi\n",
    "def curveROCMulti():\n",
    "    with torch.no_grad():\n",
    "        predProb = classificador(X_test)\n",
    "\n",
    "        # Aplica Sigmoid caso não tenha usado BCEWithLogitsLoss na saída\n",
    "        if not isinstance(criterion, torch.nn.BCEWithLogitsLoss):\n",
    "            predProb = torch.sigmoid(predProb)\n",
    "\n",
    "        # Converte para numpy para usar com sklearn\n",
    "        predProb = predProb.numpy()\n",
    "\n",
    "    # Binarizar y_test para o caso multiclasse\n",
    "    testBinarized = label_binarize(y_test, classes=np.arange(saida))\n",
    "\n",
    "    # Calcula a curva ROC para cada classe\n",
    "    fpr = {}\n",
    "    tpr = {}\n",
    "    roc_auc = {}\n",
    "\n",
    "    for i in range(saida):\n",
    "        fpr[i], tpr[i], _ = roc_curve(testBinarized[:, i], predProb[:, i])\n",
    "        roc_auc[i] = auc(fpr[i], tpr[i])\n",
    "\n",
    "    # Plotar a curva ROC para cada classe\n",
    "    plt.figure(figsize=(12, 8), dpi=100)\n",
    "    for i in range(saida):\n",
    "        plt.plot(fpr[i], tpr[i], lw=2, label=f'Classe {i} (AUC = {roc_auc[i]:.2f})')\n",
    "\n",
    "    plt.plot([0, 1], [0, 1], color='gray', linestyle='--')\n",
    "    plt.xlim([0.0, 1.0])\n",
    "    plt.ylim([0.0, 1.05])\n",
    "\n",
    "    plt.xlabel('Taxa de Falso Positivo')\n",
    "    plt.ylabel('Taxa de Verdadeiro Positivo')\n",
    "    plt.title('Curva ROC Multiclasse')\n",
    "    plt.legend(loc=\"lower right\")\n",
    "    plt.show()\n",
    "\n",
    "#endregion"
   ],
   "outputs": [],
   "execution_count": 507
  },
  {
   "metadata": {
    "id": "6bdVOLxwOKuB",
    "outputId": "542a7e77-5bb4-4d98-95a9-f3a0ca5fbb59",
    "ExecuteTime": {
     "end_time": "2024-11-26T15:32:08.853130900Z",
     "start_time": "2024-11-21T13:40:51.210791Z"
    }
   },
   "cell_type": "code",
   "source": [
    "#region Curva ROC Binary\n",
    "def curveROCBinary():\n",
    "    with torch.no_grad():\n",
    "        predProb = classificador(X_test)\n",
    "\n",
    "        # Aplica Sigmoid caso não tenha usado BCEWithLogitsLoss na saída\n",
    "        if not isinstance(criterion, torch.nn.BCEWithLogitsLoss):\n",
    "            predProb = torch.sigmoid(predProb)\n",
    "\n",
    "        # Converte para numpy para usar com sklearn\n",
    "        predProb = predProb.numpy()\n",
    "\n",
    "        # Calcula as taxas de verdadeiro positivo e falso positivo\n",
    "        fpr, tpr, _ = roc_curve(y_test, predProb)\n",
    "\n",
    "    rocAUC = auc(fpr, tpr)\n",
    "\n",
    "    plt.figure(figsize=(12, 8), dpi=100)\n",
    "\n",
    "    plt.plot(fpr, tpr, color='blue', lw=2, label=f'Curva ROC (AUC = {rocAUC:.2f})')\n",
    "    plt.plot([0, 1], [0, 1], color='gray', linestyle='--')\n",
    "\n",
    "    plt.xlim([0.0, 1.0])\n",
    "    plt.ylim([0.0, 1.05])\n",
    "\n",
    "    plt.xlabel('Taxa de Falso Positivo')\n",
    "    plt.ylabel('Taxa de Verdadeiro Positivo')\n",
    "    plt.title('Curva ROC')\n",
    "    plt.legend(loc=\"lower right\")\n",
    "\n",
    "    plt.show()\n",
    "\n",
    "#endregion"
   ],
   "outputs": [],
   "execution_count": 508
  },
  {
   "metadata": {
    "ExecuteTime": {
     "end_time": "2024-11-26T15:32:08.853130900Z",
     "start_time": "2024-11-21T13:40:51.261001Z"
    }
   },
   "cell_type": "code",
   "source": "curveROCBinary() if binary else curveROCMulti()",
   "outputs": [
    {
     "data": {
      "text/plain": [
       "<Figure size 1200x800 with 1 Axes>"
      ],
      "image/png": "[encoded data removed]"
     },
     "metadata": {},
     "output_type": "display_data"
    }
   ],
   "execution_count": 509
  }
 ],
 "metadata": {
  "colab": {
   "provenance": []
  },
  "kernelspec": {
   "display_name": "Python 3 (ipykernel)",
   "language": "python",
   "name": "python3"
  },
  "language_info": {
   "codemirror_mode": {
    "name": "ipython",
    "version": 3
   },
   "file_extension": ".py",
   "mimetype": "text/x-python",
   "name": "python",
   "nbconvert_exporter": "python",
   "pygments_lexer": "ipython3",
   "version": "3.12.4"
  }
 },
 "nbformat": 4,
 "nbformat_minor": 0
}
